{
 "cells": [
  {
   "cell_type": "markdown",
   "metadata": {},
   "source": [
    "# Colaborando con `git`"
   ]
  },
  {
   "cell_type": "markdown",
   "metadata": {},
   "source": [
    "## Ramas"
   ]
  },
  {
   "cell_type": "markdown",
   "metadata": {},
   "source": [
    "La receta básica de colaboración es \"trabaja en ramas\"... incluso, cuando uno *no* colabora.\n",
    "\n",
    "Las ramas tienen *poco costo* en `git`, ya que esencialmente sólo son ligas a archivos que apuntan a ciertos lugares."
   ]
  },
  {
   "cell_type": "markdown",
   "metadata": {},
   "source": [
    "Para obtener información sobre las ramas, uno usa\n",
    "```\n",
    "> git branch -v\n",
    "```"
   ]
  },
  {
   "cell_type": "code",
   "execution_count": null,
   "metadata": {
    "collapsed": false
   },
   "outputs": [],
   "source": [
    "; git branch -v"
   ]
  },
  {
   "cell_type": "markdown",
   "metadata": {},
   "source": [
    "Para crear una rama, una opción es utilizar el comando:\n",
    "\n",
    "```\n",
    "> git branch nombre_rama\n",
    "```"
   ]
  },
  {
   "cell_type": "code",
   "execution_count": null,
   "metadata": {
    "collapsed": true
   },
   "outputs": [],
   "source": [
    "; git branch nombre_rama"
   ]
  },
  {
   "cell_type": "code",
   "execution_count": null,
   "metadata": {
    "collapsed": false
   },
   "outputs": [],
   "source": [
    "; git branch -v"
   ]
  },
  {
   "cell_type": "markdown",
   "metadata": {},
   "source": [
    "El nombre de las ramas puede tener ciertos caracteres especiales que, en algún sentido, le dan la estructura de archivos en un directorio."
   ]
  },
  {
   "cell_type": "code",
   "execution_count": null,
   "metadata": {
    "collapsed": true
   },
   "outputs": [],
   "source": [
    "; git branch lb/git_colab"
   ]
  },
  {
   "cell_type": "code",
   "execution_count": null,
   "metadata": {
    "collapsed": false
   },
   "outputs": [],
   "source": [
    "; git branch -v"
   ]
  },
  {
   "cell_type": "markdown",
   "metadata": {},
   "source": [
    "El comando `git branch nombre_rama` crea la rama \"nombre_rama\", pero no nos pone en ella. Para\n",
    "cambiarnos a esa rama, hacemos:\n",
    "```\n",
    "> git checkout nombre_rama\n",
    "```"
   ]
  },
  {
   "cell_type": "code",
   "execution_count": null,
   "metadata": {
    "collapsed": false
   },
   "outputs": [],
   "source": [
    "; git checkout lb/git_colab"
   ]
  },
  {
   "cell_type": "code",
   "execution_count": null,
   "metadata": {
    "collapsed": false
   },
   "outputs": [],
   "source": [
    "; git status"
   ]
  },
  {
   "cell_type": "code",
   "execution_count": null,
   "metadata": {
    "collapsed": false
   },
   "outputs": [],
   "source": [
    "; git branch -v"
   ]
  },
  {
   "cell_type": "markdown",
   "metadata": {},
   "source": [
    "Un atajo de lo anterior, es decir, crear una rama \"nombre_rama\" y cambiarnos a ella en una sola instrucción, se obtiene usando el comando:\n",
    "```\n",
    "> git checkout -b nombre_rama\n",
    "```"
   ]
  },
  {
   "cell_type": "markdown",
   "metadata": {},
   "source": [
    "Para borrar una rama, se ejecuta\n",
    "```\n",
    "> git branch -d nombre_rama\n",
    "```"
   ]
  },
  {
   "cell_type": "code",
   "execution_count": null,
   "metadata": {
    "collapsed": false
   },
   "outputs": [],
   "source": [
    "; git branch -d nombre_rama"
   ]
  },
  {
   "cell_type": "code",
   "execution_count": null,
   "metadata": {
    "collapsed": false
   },
   "outputs": [],
   "source": [
    "; git branch -v"
   ]
  },
  {
   "cell_type": "markdown",
   "metadata": {},
   "source": [
    "Es útil que la rama tenga un nombre distintivo, como \"lb/git_colab\", donde se indique el tipo de cosas que se está implementando. Noten que el nombre \"lb/git_colab\" me distingue como usuario, y a la vez me permite trabajar en otros desarrollos, como podría ser \"lb/intro_julia\"."
   ]
  },
  {
   "cell_type": "markdown",
   "metadata": {},
   "source": [
    "## Trabajo colaborativo"
   ]
  },
  {
   "cell_type": "markdown",
   "metadata": {},
   "source": [
    "La convención (al trabajar con ramas) es que la rama de referencia es \"master\", y el trabajo se hace en otras ramas. En master simplemente se mantienen los cambios aceptados al proyecto. Así, cualquier cambio o actualización importante se incorpora a \"master\", y uno (como colaborador) debe mantener su rama compatible con \"master\"."
   ]
  },
  {
   "cell_type": "markdown",
   "metadata": {},
   "source": [
    "Una vez que el material implementado en una rama particular ha sido probado, *y que está listo* para pasar a la versión en \"master\" (por eso es importante probarlos!), lo que implica entonces que los cambios deben ser tomados en cuenta por otros contribuidores al proyecto, uno ejecuta los comandos:\n",
    "```\n",
    "> git checkout master\n",
    "> git merge nombre_rama\n",
    "```\n",
    "\n",
    "Esto es, uno se pasa a la rama \"master\" y desde ahí \"une\" (*merge*) los desarrollos de la rama \"nombre_rama\" a \"master\".\n",
    "\n",
    "**Sin embargo**, es **importante** hacer notar que, en GitHub, uno puede hacer un \n",
    "`pull request` desde una rama particular a otra rama; en particular, se puede hacer un `pull request` desde su fork del proyecto, en una rama específica no necesariamente \"master\", al proyecto central en la rama master."
   ]
  },
  {
   "cell_type": "markdown",
   "metadata": {},
   "source": [
    "Una particularidad de *git merge* es que crea un *commit* que tiene dos parientes."
   ]
  },
  {
   "cell_type": "markdown",
   "metadata": {},
   "source": [
    "Otra instrucción útil es \n",
    "```\n",
    "> git reset HEAD <file>\n",
    "```\n",
    "Esta instrucción logra regresar a la versión del último commit (llamado HEAD) en este ejemplo, o cualquier otro específico, o sea, \"resetea\" los cambios al último commit."
   ]
  },
  {
   "cell_type": "markdown",
   "metadata": {},
   "source": [
    "Una situación corriente es que, mientras uno está trabajando en una rama específica, hay cambios en \"master\" que uno *debe* incluir antes de que su trabajo se incorpore a \"master\"; esto ayuda a evitar conflictos, aunque pueden seguir ocurriendo.\n",
    "\n",
    "Para incluir los cambios que han habido en \"master\", a la rama actual de trabajo (por ejemplo, \"lb/git_colab\"), uno ejecuta el comando\n",
    "```\n",
    "> git rebase master\n",
    "```\n",
    "\n",
    "y, si todo va bien, uno obtiene un mensaje parecido a\n",
    "```\n",
    "First, rewinding head to replay your work on top of it...\n",
    "Fast-forwarded lb/git_colab to master.\n",
    "```\n",
    "\n",
    "Este mensaje claramente describe lo que git internamente hace: pone a las ramas en un punto común de su pasado, y rehace todos los cambios implementados."
   ]
  },
  {
   "cell_type": "markdown",
   "metadata": {},
   "source": [
    "**Tarea 1**: Hagan el tutorial que está en: http://pcottle.github.io/learnGitBranching/.\n",
    "\n",
    "La tarea consiste en mandar un notebook donde incluirán los pasos que usaron para resolver ciertos ejercicios, y una imágen de la pantalla que muestre que lo lograron. El notebook lo deben poner en su carpeta de tareas, por ejemplo en \"tareas/lbenet/Tarea1.ipynb\". La imagen debe mostrar que lo lograron, y también cómo lo hicieron. Sugiero que hagan el ejercicio en grupos de 2 personas; cada uno debe hacer al menos un commit individual. (**NOTA** El jupyter notebook no es lo más cómodo para hacer este tipo de ejercicios, debido al formato; hay otras opciones relacionadas, pero por ahora continuaremos así.) El \"pull request\" lo deben hacer desde una rama (en su fork) que **no** sea la de master.\n",
    "\n",
    "Los ejercicios que deben resolver son:\n",
    "    - sección \"Introduction sequence\", ejercicios 3 y 4;\n",
    "    - sección \"Ramping up\", ejercicios 3 y 4; \n",
    "    - sección \"Moving work around\" entera (ejercicios 1 y 2);\n",
    "    - sección \"A mixed bag\", ejercicios 1, 3, y 4;\n",
    "    - sección \"Advanced topics\", ejercicios 2 y 3.\n",
    "    \n",
    "**Fecha final para la aceptación del pull-request**: Martes 6 de septiembre"
   ]
  },
  {
   "cell_type": "code",
   "execution_count": null,
   "metadata": {
    "collapsed": true
   },
   "outputs": [],
   "source": []
  }
 ],
 "metadata": {
  "kernelspec": {
   "display_name": "Julia 0.4.7-pre",
   "language": "julia",
   "name": "julia-0.4"
  },
  "language_info": {
   "file_extension": ".jl",
   "mimetype": "application/julia",
   "name": "julia",
   "version": "0.4.7"
  }
 },
 "nbformat": 4,
 "nbformat_minor": 0
}
