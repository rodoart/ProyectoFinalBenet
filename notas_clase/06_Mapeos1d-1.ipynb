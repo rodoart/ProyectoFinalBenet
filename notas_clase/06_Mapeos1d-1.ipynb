{
 "cells": [
  {
   "cell_type": "markdown",
   "metadata": {},
   "source": [
    "# Mapeos en 1d"
   ]
  },
  {
   "cell_type": "code",
   "execution_count": null,
   "metadata": {
    "collapsed": true
   },
   "outputs": [],
   "source": []
  },
  {
   "cell_type": "markdown",
   "metadata": {},
   "source": [
    "---\n",
    "\n",
    "**NOTA** Los ejercicios de este capítulo consituyen la tarea 3. Estos ejercicios involucran que ustedes escriban código que debe ejecutarse correctamente para responder las preguntas que se formulan en los ejercicios. El código debe estar correctamente documentada o al menos comentado, y en general se deben definir funciones que realicen cosas concretas.\n",
    "\n",
    "**Fecha límite de envío inicial del PR:** lunes 12 de septiembre\n",
    "\n",
    "**Fecha límite de aceptación del PR:** lunes 26 de septiembre\n",
    "\n",
    "---"
   ]
  },
  {
   "cell_type": "markdown",
   "metadata": {},
   "source": [
    "## Órbitas"
   ]
  },
  {
   "cell_type": "markdown",
   "metadata": {},
   "source": [
    "Iniciaremos el estudio de sistemas dinámicos considerando *mapeos* en una dimensión. Los mapeos en una dimensión son simplemente aplicaciones de $F_\\mu : \\mathbb{R} \\rightarrow \\mathbb{R}$, de la forma\n",
    "\n",
    "\\begin{equation}\n",
    "x_{n+1} = F_\\mu (x_n).\n",
    "\\end{equation}\n",
    "\n",
    "Aquí, $x_n$ representa el estado del sistema al \"tiempo\" $n$.\n",
    "\n",
    "Por ahora, la única suposición importante para $F_\\mu$ es que es una función que **no** involucra ningún tipo de variable estocástica o nada aleatorio. En este caso diremos que el sistema es determinista: el estado al \"tiempo\" $n+1$ sólo depende del estado al tiempo $n$, y de los parámetros $\\mu$ del mapeo (que permanecen constantes respecto al tiempo).\n"
   ]
  },
  {
   "cell_type": "markdown",
   "metadata": {},
   "source": [
    "*Iterar* la función $F_\\mu(x)$ significa evaluarla una y otra vez, a partir de un valor inicial $x_0$ que llamaremos *condición inicial*. Esto lo escribiremos como $x_1=F_\\mu(x_0)$ para el primer iterado, $x_2=F^2_\\mu(x_0)=F_\\mu(x_1)$ para el segundo, y en general, para el $n$-nésimo iterado escribiremos $x_n=F^n_\\mu(x_0)$."
   ]
  },
  {
   "cell_type": "markdown",
   "metadata": {},
   "source": [
    "Por ejemplo, para $F(x)=x^2+1$, y omitiéndo el subíndice 0, tendremos\n",
    "\\begin{eqnarray}\n",
    "F^2(x) & = & (x^2+1)^2+1,\\\\\n",
    "F^3(x) & = & ((x^2+1)^2+1)^2+1,\\\\\n",
    "F^4(x) & = & (((x^2+1)^2+1)^2+1)^2+1,\n",
    "\\end{eqnarray}\n",
    "etc."
   ]
  },
  {
   "cell_type": "markdown",
   "metadata": {},
   "source": [
    "Hablaremos de una órbita como la secuendia de iterados, es decir, $x_0, x_1, x_2, \\dots$. Así, para el ejemplo anterior con $x_0=0$ tendremos $x_1=1$, $x_2 = 2$, $x_3 = 5$, $x_4 = 26$, etc. Esta órbita, aparentemente tiende a infinito con $n\\to\\infty$."
   ]
  },
  {
   "cell_type": "markdown",
   "metadata": {},
   "source": [
    "Hay varios tipos de órbitas. Como veremos, unas órbitas particularmente importantes son los puntos fijos, los cuales satisfacen la ecuación\n",
    "\\begin{equation}\n",
    "F_\\mu(x) = x.\n",
    "\\end{equation}\n",
    "\n",
    "Así, para $F(x)=x^2-x-4$, los puntos fijos satisfacen $x^2-2x-4=0$, cuyas soluciones son $1\\pm\\sqrt{5}$."
   ]
  },
  {
   "cell_type": "markdown",
   "metadata": {},
   "source": [
    "Numéricamente, y usando que conocemos los puntos fijos, tenemos:"
   ]
  },
  {
   "cell_type": "code",
   "execution_count": null,
   "metadata": {
    "collapsed": false
   },
   "outputs": [],
   "source": [
    "f(x) = x^2-x-4\n",
    "\n",
    "f(1+sqrt(5))-(1+sqrt(5)), f(1-sqrt(5))-(1-sqrt(5))"
   ]
  },
  {
   "cell_type": "markdown",
   "metadata": {},
   "source": [
    "De aquí vemos que hay ciertos errores numéricos que no permiten concluir que la segunda solución es punto fijo. Sin embargo, usando números de precisión extendida, vemos que con más bits de precisión, $f(x)-x$ se acerca a cero."
   ]
  },
  {
   "cell_type": "code",
   "execution_count": null,
   "metadata": {
    "collapsed": false
   },
   "outputs": [],
   "source": [
    "get_bigfloat_precision()"
   ]
  },
  {
   "cell_type": "code",
   "execution_count": null,
   "metadata": {
    "collapsed": false
   },
   "outputs": [],
   "source": [
    "f(1-sqrt(BigInt(5)))-(1-sqrt(BigInt(5)))"
   ]
  },
  {
   "cell_type": "markdown",
   "metadata": {},
   "source": [
    "Otro tipo importante de órbitas son las órbitas periódicas. En este caso tenemos que una secuencia *finita* de iterados, se repite: $x_0, x_1, \\dots, x_{n-1}, x_0, x_1, \\dots$. El menor número de puntos de una órbita periódica (sin repeticiones) es lo que se llama periodo. Cada punto de dicha órbita es periódico con periodo $n$.\n",
    "\n",
    "Vale la pena notar que los puntos fijos son de periodo 1.\n",
    "\n",
    "Un punto que pertenece a una órbita de periodo $n$ satisface la ecuación $F^n(x_0) = x_0$. Esto es, un punto de periodo $n$ del mapeo $F$, es un punto fijo del mapeo $F^n$."
   ]
  },
  {
   "cell_type": "markdown",
   "metadata": {},
   "source": [
    "Un punto $x_0$ se llama *eventualmente periódico* cuando, sin ser punto fijo o periódico, después de un cierto número finito de iteraciones, los iterados pertenecen a una órbita periódica. Un ejemplo, para el mapeo $F(x)=x^2-1$, es $x_0=1$: $F(1)=0$, $F^2(0)=-1$, $F^3(-1)=0$, etc."
   ]
  },
  {
   "cell_type": "markdown",
   "metadata": {},
   "source": [
    "En sistemas dinámicos típicos, la mayoría de los puntos no son fijos ni periódicos. Por ejemplo, el mapeo $T(x)=2x$ tiene como punto único punto fijo $x^*=0$. Cualquier otra órbita tiende a $\\;\\pm\\infty$, ya que $T^n(x_0) = 2^n x_0$ y entonces $|T^n(x_0)|\\to\\infty$. \n",
    "\n",
    "En general, la situación es aún más compleja e interesante."
   ]
  },
  {
   "cell_type": "markdown",
   "metadata": {},
   "source": [
    "**Ejercicio 1:** \n",
    "\n",
    "Consideren el mapeo $F(x) = x^2-2$ definido en el intervalo $[-2,2]$. ¿Qué podemos concluir después de muchos iterados para las condiciones iniciales $x_0=0$, $x_0=0.1$, $x_0=0.001$?\n"
   ]
  },
  {
   "cell_type": "code",
   "execution_count": null,
   "metadata": {
    "collapsed": true
   },
   "outputs": [],
   "source": []
  },
  {
   "cell_type": "markdown",
   "metadata": {},
   "source": [
    "## Análisis gráfico"
   ]
  },
  {
   "cell_type": "markdown",
   "metadata": {},
   "source": [
    "A continuación ilustraremos una manera gráfica de visualizar la dinámica en un mapeo de un grado de libertad. Para esto hay que instalar alguna (o varias) paqueterías gráficas. En lo que sigue yo utilizaré el paquete `Plots.jl`; la documentación oficial se encuentra [aquí](https://juliaplots.github.io), y hay un [video](https://www.youtube.com/watch?v=LGB8GvAL4HA) donde se explican detalles del funcionamiento. Yo la utilizaré para usar como *backend* [`PyPlot.jl`](https://github.com/stevengj/PyPlot.jl), aunque hay varios más que ustedes pueden libremente elegir."
   ]
  },
  {
   "cell_type": "markdown",
   "metadata": {},
   "source": [
    "Antes que nada, deben instalar la paquetería. Dado que `Plots.jl` es un paquete *registrado*, uno lo puede instalar simplemente con:\n",
    "\n",
    "```julia\n",
    "    Pkg.add(\"Plots\")\n",
    "```\n",
    "\n",
    "También instalaremos otras dos paqueterías útiles:\n",
    "```julia\n",
    "    Pkg.add(\"PlotRecipes\")  # Instala una paquetería auxiliar\n",
    "    Pkg.add(\"PyPlot\")       # Instala PyPlot, que usaré como *backend*\n",
    "```\n",
    "\n",
    "Otros *backends* interesantes son `Plotly` y `GR`."
   ]
  },
  {
   "cell_type": "markdown",
   "metadata": {},
   "source": [
    "Para usarla la debemos cargar con el comando:"
   ]
  },
  {
   "cell_type": "code",
   "execution_count": null,
   "metadata": {
    "collapsed": false
   },
   "outputs": [],
   "source": [
    "using Plots, PlotRecipes"
   ]
  },
  {
   "cell_type": "code",
   "execution_count": null,
   "metadata": {
    "collapsed": false
   },
   "outputs": [],
   "source": [
    "# Esto define a `PyPlot.jl` como el *backend* que usaremos\n",
    "# Puede tardar un poco en cargarse, especialmente la primer vez que se usa.\n",
    "pyplot()"
   ]
  },
  {
   "cell_type": "markdown",
   "metadata": {},
   "source": [
    "Otros *backends* pueden usarse llamando el nombre del *backend* concreto. Por ejemplo:\n",
    "\n",
    "```julia\n",
    "gr()       # carga GR\n",
    "plotly()   # carga Plotly\n",
    "```\n",
    "    \n",
    "Los backends tienen que estar instalados."
   ]
  },
  {
   "cell_type": "markdown",
   "metadata": {},
   "source": [
    "Cargamos el paquete `LaTeXStrings.jl`, que normalmente ha sido instalado por `PyPlot.jl`. Sirve para poner cadenas de caractéres, en LaTex, para los ejes o los títulos."
   ]
  },
  {
   "cell_type": "code",
   "execution_count": null,
   "metadata": {
    "collapsed": true
   },
   "outputs": [],
   "source": [
    "using LaTeXStrings"
   ]
  },
  {
   "cell_type": "markdown",
   "metadata": {},
   "source": [
    "La idea del análisis gráfico es poder visualizar los iterados de una órbita. En el eje de las abscisas dibujaremos $x_n$ y en el de las ordenadas dibujaremos $F(x_n)$. Entonces, para localizar $x_{n+1}$ simplemente necesitamos la gráfica de $y=F(x)$.\n"
   ]
  },
  {
   "cell_type": "markdown",
   "metadata": {},
   "source": [
    "Como ejemplo usaremos $F(x) = \\sqrt{x}$."
   ]
  },
  {
   "cell_type": "code",
   "execution_count": null,
   "metadata": {
    "collapsed": false
   },
   "outputs": [],
   "source": [
    "x0 = 5.0*rand()\n",
    "x1 = sqrt(x0)\n",
    "\n",
    "rangox = 0.0:1/32:5.2\n",
    "\n",
    "x0"
   ]
  },
  {
   "cell_type": "code",
   "execution_count": null,
   "metadata": {
    "collapsed": false
   },
   "outputs": [],
   "source": [
    "# Se tarda un poco porque inicializa varias cosas internamente;\n",
    "# entre otras cosas, carga PyPlot.\n",
    "\n",
    "# Dibuja F(x) y define escalas, etc\n",
    "plot(rangox, sqrt, \n",
    "    xaxis=(\"x\", (0.0, 5.0), 0:5.0), \n",
    "    yaxis=((0.0, 3.0), \"F(x)\"), \n",
    "legend=false, title=\"F(x)=sqrt{x}\", grid=false)\n",
    "\n",
    "# Dibuja x_0 -> x_1 = F(x_0)\n",
    "plot!([x0, x0, -0.5], [-0.5, x1, x1], color=(:orange), marker=:dot)\n"
   ]
  },
  {
   "cell_type": "markdown",
   "metadata": {},
   "source": [
    "Para visualizar el valor $x_1$ en el eje `x`, usamos la identidad, i.e., la recta $y=x$. Noten el ligero cambio para que los ejes y el título aparezcan más agradables."
   ]
  },
  {
   "cell_type": "code",
   "execution_count": null,
   "metadata": {
    "collapsed": false
   },
   "outputs": [],
   "source": [
    "# Dibuja F(x) y define escalas, etc\n",
    "plot(rangox, sqrt, \n",
    "    xaxis=(L\"x\", (0.0, 5.0), 0:5.0), \n",
    "    yaxis=((0.0, 3.0), L\"F(x)\"), \n",
    "    legend=false, title=L\"F(x)=\\sqrt{x}\", grid=false)\n",
    "plot!(rangox, x->x, color=:red) \n",
    "\n",
    "# Dibuja x_0 -> x_1 = F(x_0)\n",
    "plot!([x0, x0, -0.5], [-0.5, x1, x1], color=:orange, lw=2.0, marker=:point)\n",
    "# Dibuja x_1 -> Id(x_1) = x_1\n",
    "plot!([-0.5, x1, x1], [x1, x1, -0.5], line=(:green, :dash, 2.0, 0.4))\n"
   ]
  },
  {
   "cell_type": "markdown",
   "metadata": {},
   "source": [
    "Dado que tenemos $x_1$ en el eje $x$, el mismo proceso de antes puede ser implementado para obtener $x_2$, o cualquier otro iterado $x_n$. Sin embargo, vale la pena notar que, una vez que estamos en la diagonal, podemos ir a la función para obtener $x_2$, y nuevamente a la diagonal y a la función para tener $x_3$, etc."
   ]
  },
  {
   "cell_type": "code",
   "execution_count": null,
   "metadata": {
    "collapsed": false
   },
   "outputs": [],
   "source": [
    "x2 = sqrt(x1)"
   ]
  },
  {
   "cell_type": "code",
   "execution_count": null,
   "metadata": {
    "collapsed": false
   },
   "outputs": [],
   "source": [
    "# Dibuja F(x) y define escalas, etc\n",
    "plot(rangox, sqrt, \n",
    "    xaxis=(L\"x\", (0.0, 5.0), 0:5.0), \n",
    "    yaxis=((0.0, 3.0), L\"F(x)\"), \n",
    "    legend=false, title=L\"F(x)=\\sqrt{x}\", grid=false)\n",
    "plot!(rangox, x->x, color=:red) \n",
    "\n",
    "plot!([x0, x0, x1, x1, x2], [-0.5, x1, x1, x2, x2], \n",
    "line=(:green, :path, 2.0, :dot), marker=(:point, 0.5))\n"
   ]
  },
  {
   "cell_type": "markdown",
   "metadata": {},
   "source": [
    "**Ejercicio 2:** Escriban una función que, con los argumentos `F` para el mapeo, `x0` para la condición inicial y `n` para el número de iterados del mapeo (un número entero), genere los `n` iterados del mapeo y haga el análisis gráfico descrito del mapeo. Ilustren el funcionamiento con $F(x)=\\sqrt{x}$."
   ]
  },
  {
   "cell_type": "code",
   "execution_count": null,
   "metadata": {
    "collapsed": true
   },
   "outputs": [],
   "source": []
  },
  {
   "cell_type": "markdown",
   "metadata": {},
   "source": [
    "Obviamente, los puntos fijos de un mapeo pueden ser obtenidos del análisis gráfico descrito: sólo basta encontrar las intersecciones de la recta identidad con la función del mapeo."
   ]
  },
  {
   "cell_type": "markdown",
   "metadata": {},
   "source": [
    "Vale la pena enfatizar que, si bien el análisis gráfico es útil, no sirve para *comprobar* propiedades sobre la dinámica del mapeo, aunque sirve para entender detalles de ésta."
   ]
  },
  {
   "cell_type": "markdown",
   "metadata": {},
   "source": [
    "**Ejercicio 3:** \n",
    "\n",
    "Usen el análisis para encontrar los puntos de periodo dos del mapeo $F(x) = x^2 -1.1$. "
   ]
  },
  {
   "cell_type": "code",
   "execution_count": null,
   "metadata": {
    "collapsed": true
   },
   "outputs": [],
   "source": []
  },
  {
   "cell_type": "markdown",
   "metadata": {},
   "source": [
    "**Ejercicio 4:**\n",
    "\n",
    "Hagan un análisis completo de las posibles órbitas de los siguientes mapeos, usando distintos colores para distintas órbitas. Interesa entre otras cosas saber cuántos puntos fijos tiene y cómo es la dinámica cerca de ésos puntos.\n",
    "\n",
    "1. $F_1(x) = \\frac{1}{3x}$.\n",
    "\n",
    "2. $F_2(x) = -\\frac{x^5}{5}$.\n",
    "\n",
    "3. $F_3(x) = \\frac{x}{2}-2$."
   ]
  },
  {
   "cell_type": "markdown",
   "metadata": {},
   "source": [
    "**Ejercicio 5:**\n",
    "\n",
    "Para el mapeo mismo mapeo $F(x) = x^2-2$ en el intervalo $[-2,2]$\n",
    "(ejercicio 1), consideren un punto al azar en el intervalo $[-2,2]$ y construyan una órbita muy larga, por ejemplo, de 20,000 iterados. Obtengan el histograma de frecuencia de visita de los puntos de la órbita. ¿Qué conclusión podemos sacar de este histograma?"
   ]
  },
  {
   "cell_type": "code",
   "execution_count": null,
   "metadata": {
    "collapsed": true
   },
   "outputs": [],
   "source": []
  },
  {
   "cell_type": "markdown",
   "metadata": {},
   "source": [
    "# Puntos fijos"
   ]
  },
  {
   "cell_type": "markdown",
   "metadata": {
    "collapsed": true
   },
   "source": [
    "Como dijimos antes, el análisis gráfico es útil pero no necesariamente riguroso. \n",
    "\n",
    "Un resultado riguroso (¡teorema!) que es útil para encontrar puntos fijos es el **teorema del valor intermedio**:\n",
    "\n",
    "Supongamos que $F:[a,b]\\to\\mathbb{R}$ es *continua*, y que $y_0$ se encuentra entre $F(a)$ y $F(b)$. Entonces, existe un punto en $x_0\\in[a,b]$ tal que $F(x_0)=y_0$.\n",
    "\n"
   ]
  },
  {
   "cell_type": "markdown",
   "metadata": {},
   "source": [
    "Una consecuencia de este teorema es el teorema del punto fijo.\n",
    "\n",
    "**Teorema del punto fijo**\n",
    "\n",
    "Supongamos que $F:[a,b]\\to[a,b]$ es *continua*. Entonces, existe un punto para $F$ en $[a,b]$. \n",
    "\n",
    "Algunos comentarios:\n",
    "\n",
    "- El teorema asienta la existencia de un punto fijo; puede haber más.\n",
    "\n",
    "- El teorema asume que $F$ es *continua* y que mapea al interval $[a,b]$ en si mismo.\n",
    "\n",
    "- El intervalo $[a,b]$ es *cerrado*.\n",
    "\n",
    "- El teorema **no** dice cómo encontrar a los puntos fijos."
   ]
  },
  {
   "cell_type": "markdown",
   "metadata": {},
   "source": [
    "La prueba se basa en aplicar el teorema del punto intermedio a la función $H(x)=F(x)-x$ y mostrar que existe un valor $x_0$ tal que $H(x_0)=0$. $H(x)$ es continua en el intervalo $[a,b]$ (así que se satisfacen las hipótesis del teorema del punto intermedio) y satisface $H(a) = F(a)-a \\ge 0$ y $H(b)=F(b)-b\\le 0$. (Estas propiedades se satisfacen ya que $F:[a,b]\\to[a,b]$.) $\\Box$"
   ]
  },
  {
   "cell_type": "markdown",
   "metadata": {},
   "source": [
    "Como vimos en los ejercicios, los puntos fijos aveces *atraen* puntos cercanos, a veces los *repelen*, y otras veces hay cierta atracción o repulsión."
   ]
  },
  {
   "cell_type": "markdown",
   "metadata": {},
   "source": [
    "A fin de entender las cosas, consideremos el siguiente mapeo *lineal*:\n",
    "\n",
    "\\begin{equation}\n",
    "F_\\alpha(x) = \\alpha x,\n",
    "\\end{equation}\n",
    "\n",
    "con $0<\\alpha <1$.\n",
    "\n",
    "*Obviamente*, $x^*=0$ es un punto fijo del mapeo."
   ]
  },
  {
   "cell_type": "code",
   "execution_count": null,
   "metadata": {
    "collapsed": false
   },
   "outputs": [],
   "source": [
    "using Plots, LaTeXStrings\n",
    "\n",
    "pyplot()"
   ]
  },
  {
   "cell_type": "code",
   "execution_count": null,
   "metadata": {
    "collapsed": false
   },
   "outputs": [],
   "source": [
    "# Definición del mapeo\n",
    "f(x, α) = α * x"
   ]
  },
  {
   "cell_type": "markdown",
   "metadata": {},
   "source": [
    "Veamos cuál es la dinámica cerca del origen:"
   ]
  },
  {
   "cell_type": "code",
   "execution_count": null,
   "metadata": {
    "collapsed": true
   },
   "outputs": [],
   "source": [
    "\"\"\"\n",
    "    iteramapeo(f, x0, n)\n",
    "\n",
    "Esta función itera el mapeo `f`, usando como condición inicial `x0`, `n` veces\n",
    "y regresa dos vectores que continen la secuencia de puntos, incluyendo las\n",
    "*visitas* a la diagonal.\n",
    "\"\"\"\n",
    "function iteramapeo(f, x0, n)\n",
    "    xx = [x0]\n",
    "    fx = [0.0]\n",
    "    for it = 1:n\n",
    "        x1 = f(x0)\n",
    "        push!(xx, x0)\n",
    "        push!(fx, x1)\n",
    "        x0 = x1\n",
    "        push!(xx,x1)\n",
    "        push!(fx,x1)\n",
    "    end\n",
    "    xx, fx\n",
    "end"
   ]
  },
  {
   "cell_type": "code",
   "execution_count": null,
   "metadata": {
    "collapsed": false
   },
   "outputs": [],
   "source": [
    "const α = 0.6\n",
    "fα = x -> f(x, α)"
   ]
  },
  {
   "cell_type": "code",
   "execution_count": null,
   "metadata": {
    "collapsed": false
   },
   "outputs": [],
   "source": [
    "x1α, fx1α = iteramapeo(fα, 0.8, 10); \n",
    "x2α, fx2α = iteramapeo(fα, -0.8, 10); "
   ]
  },
  {
   "cell_type": "code",
   "execution_count": null,
   "metadata": {
    "collapsed": false
   },
   "outputs": [],
   "source": [
    "plot(-1:1/32:1, fα, xaxis=(L\"x\", (-1.0, 1.0)), yaxis=L\"F_\\alpha(x)\")\n",
    "plot!(-1:1/32:1, identity)\n",
    "plot!(x1α, fx1α, marker=(:dot, 3, 0.4))\n",
    "plot!(x2α, fx2α, marker=(:dot, 3, 0.4))"
   ]
  },
  {
   "cell_type": "code",
   "execution_count": null,
   "metadata": {
    "collapsed": false
   },
   "outputs": [],
   "source": [
    "fx1α[end], fx2α[end]"
   ]
  },
  {
   "cell_type": "markdown",
   "metadata": {
    "collapsed": true
   },
   "source": [
    "Como puede observarse, los puntos *convergen*, o son atraídos al punto fijo $x^*=0$."
   ]
  },
  {
   "cell_type": "markdown",
   "metadata": {},
   "source": [
    "Consideremos ahora el caso $\\alpha>1$."
   ]
  },
  {
   "cell_type": "code",
   "execution_count": null,
   "metadata": {
    "collapsed": false
   },
   "outputs": [],
   "source": [
    "const β = 2.2\n",
    "fβ = x -> f(x, β)"
   ]
  },
  {
   "cell_type": "code",
   "execution_count": null,
   "metadata": {
    "collapsed": true
   },
   "outputs": [],
   "source": [
    "x1β, fx1β = iteramapeo(fβ, 0.08, 8); \n",
    "x2β, fx2β = iteramapeo(fβ, -0.08, 8); "
   ]
  },
  {
   "cell_type": "code",
   "execution_count": null,
   "metadata": {
    "collapsed": false
   },
   "outputs": [],
   "source": [
    "plot(-1:1/32:1, fβ, grid=:false, xaxis=(L\"x\", (-1.0, 1.0)), yaxis=(L\"F_\\beta(x)\", (-1.0, 1.0)))\n",
    "plot!(-1:1/32:1, identity)\n",
    "plot!(x1β, fx1β, marker=(:dot, 3, 0.4))\n",
    "plot!(x2β, fx2β, marker=(:dot, 3, 0.4))\n"
   ]
  },
  {
   "cell_type": "code",
   "execution_count": null,
   "metadata": {
    "collapsed": false
   },
   "outputs": [],
   "source": [
    "fx1β[end], fx2β[end]"
   ]
  },
  {
   "cell_type": "markdown",
   "metadata": {},
   "source": [
    "Claramente, los iterados de un punto cercano al punto fijo $x^*=0$ se alejan de él. Uno dice que el punto fijo los *repele*."
   ]
  },
  {
   "cell_type": "markdown",
   "metadata": {},
   "source": [
    "De igual manera podemos hacer el análisis para casos en que el parámetro sea negativo."
   ]
  },
  {
   "cell_type": "code",
   "execution_count": null,
   "metadata": {
    "collapsed": false
   },
   "outputs": [],
   "source": [
    "const γ = -0.6\n",
    "fγ = x -> f(x, γ)\n",
    "\n",
    "const δ = -1.2\n",
    "fδ = x -> f(x, δ)"
   ]
  },
  {
   "cell_type": "code",
   "execution_count": null,
   "metadata": {
    "collapsed": false
   },
   "outputs": [],
   "source": [
    "x1γ, fx1γ = iteramapeo(fγ, 0.8, 14); \n",
    "x1δ, fx1δ = iteramapeo(fδ, 0.08, 14); \n",
    "\n",
    "# xx = [x1γ x1δ];\n",
    "# fxx = [fx1γ fx1δ];"
   ]
  },
  {
   "cell_type": "code",
   "execution_count": null,
   "metadata": {
    "collapsed": false
   },
   "outputs": [],
   "source": [
    "plot(-1:1/32:1, fγ, xaxis=(L\"x\", (-1.0, 1.0)), yaxis=(L\"F_\\gamma(x)\", (-1.0, 1.0)))\n",
    "plot!([-1:1/32:1 -1:1/32:1], [-1:1/32:1 -1:1/32:1], layout=2)\n",
    "plot!(x1γ, fx1γ, marker=(:dot, 3, 0.4))"
   ]
  },
  {
   "cell_type": "code",
   "execution_count": null,
   "metadata": {
    "collapsed": false
   },
   "outputs": [],
   "source": [
    "plot(-1:1/32:1, fδ, xaxis=(L\"x\", (-1.0, 1.0)), yaxis=(L\"F_\\delta(x)\", (-1.0, 1.0)))\n",
    "plot!([-1:1/32:1 -1:1/32:1], [-1:1/32:1 -1:1/32:1], layout=2)\n",
    "plot!(x1δ, fx1δ, marker=(:dot, 3, 0.4))\n"
   ]
  },
  {
   "cell_type": "markdown",
   "metadata": {},
   "source": [
    "Claramente, la *magnitud* de la derivada en el punto fijo $|F'(x^*)|$ da información sobre el comportamiento local cerca del punto fijo. Así, *definimos* a un **punto fijo atractor** cuando $|F'(x^*)|<1$, y a un **punto fijo repulsor** cuando $|F'(x^*)|>1$. Dependiendo del signo uno puede decir que la convergencia (o divergencia) es *uniforme* (por el mismo lado)\n",
    "si la derivada es positiva, o *alternante* (por ambos lados) si el signo es negativo.\n",
    "\n",
    "Esto, en algún sentido aún ambiguo, es lo que significa que un punto fijo sea *estable* o *inestable*."
   ]
  },
  {
   "cell_type": "markdown",
   "metadata": {},
   "source": [
    "**Ejercicio 6:**\n",
    "\n",
    "Analicen los mapeos\n",
    "\n",
    "- F(x) = x^2,\n",
    "\n",
    "- F(x) = x^3,\n",
    "\n",
    "- F(x) = -x^3,\n",
    "\n",
    "que se satisface $F(0) = F'(0) = 0$."
   ]
  },
  {
   "cell_type": "code",
   "execution_count": null,
   "metadata": {
    "collapsed": true
   },
   "outputs": [],
   "source": []
  },
  {
   "cell_type": "markdown",
   "metadata": {},
   "source": [
    "Para entender el comportamiento descrito anteriormente, usamos el **teorema del valor medio**:\n",
    "\n",
    "Supongamos que $F$ es una función diferenciable en $[a,b]$. Entonces existe un valor $c\\in[a,b]$ tal que la siguiente igualdad se cumple:\n",
    "\n",
    "\\begin{equation}\n",
    "F'(c) = \\frac{F(b)-F(a)}{b-a}.\n",
    "\\end{equation}\n"
   ]
  },
  {
   "cell_type": "markdown",
   "metadata": {},
   "source": [
    "Con este resultado demostraremos:\n",
    "\n",
    "**Teorema del punto fijo atractivo**\n",
    "\n",
    "Supongamos que $x_0$ es un punto fijo atractivo de $F$, que es diferenciable. Entonces, existe un intervalo $I$ que contiene a $x_0$ en su interior, y que satisface que si $x\\in I$ entonces $F^n(x)\\in I$ *para toda* $n$, y además $F^n(x)\\to x_0$ al $n\\to\\infty$.\n",
    "\n",
    "La demostración es más o menos la siguiente: Dado que $x_0$ es un punto fijo atractivo, entonces $|F'(x_0)|<1$. Entonces, existe un $\\lambda>0$ tal que $|F'(x_0)|<\\lambda<1$. Entonces, existe un valor $\\delta>0$ tal que para $x$ suficientemente cerca de $x_0$ su derivada está acotada aún por $\\lambda$. Esto es, para $x\\in[x_0-\\delta,x_0+\\delta]$ tenemos que se cumple $|F'(x)|<\\lambda$. Por el teorema del valor medio, para un punto $p$ en este intervalo tenemos\n",
    "\n",
    "\\begin{equation}\n",
    "\\Big|\\frac{F(p)-F(x_0)}{p-x_0}\\Big| < \\lambda,\n",
    "\\end{equation}\n",
    "\n",
    "de donde, usando que $x_0$ es punto fijo, obtenemos:\n",
    "\n",
    "\\begin{equation}\n",
    "|F(p)-x_0| < \\lambda |p-x_0|.\n",
    "\\end{equation}\n",
    "\n",
    "Es decir, la distancia de $F(p)$ a $x_0$ es menor que la distancia de $p$ a $x_0$. En otras palabras, $F(p)$ está más cerca de $x_0$. \n",
    "\n",
    "Repitiendo el argumento para $F^2(p)$, tenemos $|F^2(p)-x_0|<\\lambda^2|p-x_0|$. De aquí que, cuando $n\\to\\infty$ se tenga $F^n(p)\\to x_0$.$\\Box$\n"
   ]
  },
  {
   "cell_type": "markdown",
   "metadata": {},
   "source": [
    "Vale la pena notar que, de hecho, el teorema muestra que para condiciones iniciales suficientemente cerca del punto fijo, la convergencia es *exponencial*."
   ]
  },
  {
   "cell_type": "markdown",
   "metadata": {},
   "source": [
    "Con las mismas ideas se puede demostrar el **Teorema del punto fijo repulsivo**:\n",
    "\n",
    "Supongamos que $x_0$ es un punto fijo repulsivo de $F$, que es diferenciable. Entonces, existe un intervalo $I$ que contiene a $x_0$ en su interior, y que satisface que si $x\\in I$ y $x\\neq x_0$ entonces existe un entero $n>0$ tal que $F^n(x)\\notin I$."
   ]
  },
  {
   "cell_type": "markdown",
   "metadata": {},
   "source": [
    "Los teoremas anteriores muestran que, *numéricamente*, los puntos fijos atractivos son sencillos de localizar, mientras que los repulsivos son, en algún sentido, invisibles numéricamente. Para el caso atractivo, si alguno de los iterados de una condición inicial aleatoria *entra* en $I$, tendremos convergencia al punto fijo, mientras que en el caso repulsivo debemos tener un iterado que se mapee *exactamente* en el punto fijo para caer en él. Y esto, en general, nunca ocurre."
   ]
  },
  {
   "cell_type": "markdown",
   "metadata": {},
   "source": [
    "**Ejercicio 7:**\n",
    "\n",
    "Analicen los mapeos\n",
    "\n",
    "- F(x) = x,\n",
    "\n",
    "- F(x) = -x,\n",
    "\n",
    "- F(x) = x-x^2,\n",
    "\n",
    "que se satisface $F(0) = 0$ y $|F'(0)| = 1$. (Este tipo de puntos son *neutralmente* atractivos o repulsivos."
   ]
  },
  {
   "cell_type": "markdown",
   "metadata": {
    "collapsed": true
   },
   "source": [
    "## Puntos periódicos"
   ]
  },
  {
   "cell_type": "markdown",
   "metadata": {},
   "source": [
    "De la misma manera que para los puntos fijos, los puntos periódicos se pueden clasificar en atractivos, repulsivos o neutros. Básicamente, esto es consecuencia de que cada punto periódico, de periodo $p$, del mapeo $x_{n+1}=F(x_n)$, es un punto fijo del mapeo $x_{n+1} = F^p(x_n)$."
   ]
  },
  {
   "cell_type": "markdown",
   "metadata": {},
   "source": [
    "Un ejemplo sencillo de esto es el mapeo $F(x)=x^2-1$ en el intervalo $[-1,1]$. Claramente, este mapeo tiene tiene una \n",
    "órbita de periodo 2 dada por $0, -1, 0, -1, \\dots$. Cada uno de estos puntos, son puntos fijos de $F^2(x) = (x^2-1)^2-1$, como se muestra en las gráficas."
   ]
  },
  {
   "cell_type": "code",
   "execution_count": null,
   "metadata": {
    "collapsed": false
   },
   "outputs": [],
   "source": [
    "ff = x -> x^2-1       # First iterate\n",
    "ff2 = x -> ff(ff(x))  # Second iterate\n",
    "\n",
    "plot(-1:1/32:1, ff, xaxis=(L\"x\", (-1.03, 1.03)), yaxis=(L\"F(x), F^2(x)\", (-1.03,0.03)), \n",
    "label=L\"F(x)\", grid=:false, legend=:right, background_color_legend=:transparent, color=:blue)\n",
    "\n",
    "plot!(-1:1/32:1, ff2, xaxis=(L\"x\", (-1.03, 1.03)), label=L\"F^2(x)\", color=:red)\n",
    "\n",
    "plot!(-1:1/16:0, identity, xaxis=(L\"x\", (-1.03, 1.03)), label=L\"Id(x)\", color=:green)\n"
   ]
  },
  {
   "cell_type": "markdown",
   "metadata": {},
   "source": [
    "En este ejemplo, visualmente es claro que $(F^2)'(0)=(F^2)'(-1)=0$. Esto es, ambos puntos son puntos fijos atractivos para el mapeo $F^2(x)$; el otro punto fijo del mapeo $F^2$, $x^* = (1-\\sqrt{5})/2$, es claramente repulsivo. Entonces, puntos que inician suficientemente cerca de 0 o de -1 serán atraídos respectivamente por estos puntos. Bajo el mapeo $F$, puntos suficientemente cerca de 0 o 1, irán de la vecindad de uno al otro, acercándose a estos puntos."
   ]
  },
  {
   "cell_type": "markdown",
   "metadata": {},
   "source": [
    "De esta forma, definiremos que un punto periódico, de periodo $n$, es atractivo (o repulsivo) si es un punto fijo atractivo (o repulsivo) del mapeo $F^n(x)$. "
   ]
  },
  {
   "cell_type": "markdown",
   "metadata": {},
   "source": [
    "Entonces, debemos calcular la derivada del mapeo $F^n(x)$. A fin de ver qué es lo que ocurre, consideremos el caso $F^2(x)$ primero. En este caso, tenemos $F^2(x)=F(F(x))$, y entonces usando la regla de la cadena obtenemos:\n",
    "\n",
    "\\begin{equation}\n",
    "\\frac{\\textrm{d}F^2(x_0)}{\\textrm{d}x} = F'(F(x_0)) F'(x_0) = F'(x_1) F'(x_0).\n",
    "\\end{equation}\n",
    "\n",
    "De igual manera, para $F^3(x)=F(F^2(x))$ obtenemos:\n",
    "\n",
    "\\begin{equation}\n",
    "\\frac{\\textrm{d}F^3(x_0)}{\\textrm{d}x} = F'(F^2(x_0)) (F^2)'(x_0) = F'(x_2) F'(x_1) F'(x_0),\n",
    "\\end{equation}\n",
    "\n",
    "y en general, se puede demostrar fácilmente que se cumple\n",
    "\n",
    "\\begin{equation}\n",
    "\\frac{\\textrm{d}F^n(x_0)}{\\textrm{d}x} = (F^n)'(x_0) = F'(x_{n-1})\\cdots F'(x_1)F'(x_0).\n",
    "\\end{equation}"
   ]
  },
  {
   "cell_type": "markdown",
   "metadata": {},
   "source": [
    "De esta última relación vemos que **todos** los iterados de una órbita periódica de periodo $n$ tienen la misma derivada *respecto* al mapeo $F^n$, i.e., $(F^n)'(x_0)=(F^n)'(x_1)=\\dots=(F^n)'(x_{n-1})$. Por lo tanto, todos son atractivos o repulsivos."
   ]
  },
  {
   "cell_type": "markdown",
   "metadata": {},
   "source": [
    "---"
   ]
  },
  {
   "cell_type": "markdown",
   "metadata": {},
   "source": [
    "**Referencias:**\n",
    "\n",
    "Robert L. Devaney, A First Course In Chaotic Dynamics: Theory and Experiment, 1992.\n",
    "\n",
    "Heinz Georg Schuster, Wolfram Just, Deterministic Chaos, 2006.\n",
    "\n"
   ]
  }
 ],
 "metadata": {
  "kernelspec": {
   "display_name": "Julia 0.4.7-pre",
   "language": "julia",
   "name": "julia-0.4"
  },
  "language_info": {
   "file_extension": ".jl",
   "mimetype": "application/julia",
   "name": "julia",
   "version": "0.4.7"
  }
 },
 "nbformat": 4,
 "nbformat_minor": 1
}
