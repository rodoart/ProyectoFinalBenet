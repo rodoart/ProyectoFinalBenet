{
 "cells": [
  {
   "cell_type": "markdown",
   "metadata": {},
   "source": [
    "# Mapeos en 2d"
   ]
  },
  {
   "cell_type": "markdown",
   "metadata": {},
   "source": [
    "En lo que llevamos del curso hemos visto que, para entender la dinámica de un mapeo (en una dimensión) debemos conocer:\n",
    "- los puntos fijos del mapeo;\n",
    "- las órbitas periódicas;\n",
    "- y, sus propiedades de estabilidad.\n",
    "\n",
    "Además, enteder las propiedades de estabilidad en términos de los parámetros permite entender las bifurcaciones y, por tanto, aspectos globales de la dinámica."
   ]
  },
  {
   "cell_type": "markdown",
   "metadata": {},
   "source": [
    "En este notebook ampliaremos este tipo de cuestiones a mapeos dos-dimensionales, lo que se puede generalizar de manera muy directa a más dimensiones."
   ]
  },
  {
   "cell_type": "markdown",
   "metadata": {},
   "source": [
    "Al igual que para el caso de una dimensión, iniciaremos con el caso más sencillo que son los mapeos lineales:\n",
    "\\begin{eqnarray}\n",
    "x_{n+1} & = & ax_{n} + by_{n},\\\\\n",
    "y_{n+1} & = & cx_{n} + dy_{n}.\n",
    "\\end{eqnarray}\n",
    "\n",
    "Obviamente, este mapeo lo podemos reescribir como $\\mathbf{x}_{n+1}=\\mathcal{A} \\mathbf{x}_{n}$, donde $\\mathbf{x}_i = [x_i,y_i]^\\mathrm{T}$, y $\\mathcal{A}$ es la matriz de coeficientes constantes\n",
    "\\begin{equation}\n",
    "\\mathcal{A} = \\left( \n",
    "\\begin{array}{cc}\n",
    "a & b \\\\\n",
    "c & d \n",
    "\\end{array} \n",
    "\\right).\n",
    "\\end{equation}\n",
    "\n",
    "El punto de equilibrio en este caso es el origen."
   ]
  },
  {
   "cell_type": "markdown",
   "metadata": {},
   "source": [
    "En este caso, al igual que en el caso lineal para mapeos en una dimensión,\n",
    "podemos resolver explícitamente la ecuación en diferencias, obteniendo\n",
    "\\begin{equation}\n",
    "\\mathbf{x}_{n} = \\mathcal{A}^n \\mathbf{x}_0.\n",
    "\\end{equation}\n"
   ]
  },
  {
   "cell_type": "markdown",
   "metadata": {},
   "source": [
    "Dos mapeos lineales $L_1$ y $L_2$ se dicen conjugados, si existe un *mapeo invertible lineal* tal que $L_2=P^{-1} \\circ L_1 \\circ P$. Este concepto, expresado en términos de matrices, corresponde a que las matrices asociadas sean *similares*.\n",
    "\n",
    "Uno puede demostrar que si dos mapeos $L_1$ y $L_2$ son conjugados, entonces sus eigenvalores (las raices del polinomio característico, \n",
    "$\\det(L_i-\\lambda \\mathcal{I})=0$) son idénticos. \n",
    "\n",
    "Entonces, el estudio de los mapeos lineales se puede entender mejor en términos de los eigenvalores del mapeo, dado que la dinámica estará dada por\n",
    "\\begin{eqnarray}\n",
    "x_n & = & \\sum_i a_i^n (\\mathbf{v}_i|x_0),\\\\\n",
    "y_n & = & \\sum_i a_i^n (\\mathbf{v}_i|y_0),\n",
    "\\end{eqnarray}\n",
    "donde $a_i$ y $\\mathbf{v}_i$ son respectivamente el $i$-ésimo valor \n",
    "y vector propio (eigenvalor y eigenvector) de $\\mathcal{A}$, y donde $(\\mathbf{v}_i|x_0)$ es la primer componente del eigenvector $\\mathbf{v}_i$ (proyección en la dirección $[1,0]^\\mathrm{T}$) multiplicada por $x_0$. Aquí hemos asumido que los eigenvalores son distintos entre sí."
   ]
  },
  {
   "cell_type": "markdown",
   "metadata": {},
   "source": [
    "Para matrices de $2\\times 2$, uno puede obtener explícitamente los eigenvalores, dado que el polinomio característico está dado por\n",
    "\n",
    "\\begin{equation}\n",
    "\\det(\\mathcal{A}-\\lambda\\mathcal{I}) = \\lambda^2 - \\lambda(a+d) + ad-bd\n",
    "= \\lambda^2 - \\lambda\\mathrm{tr}(\\mathcal{A}) + \\det(\\mathcal{A}) = 0,\n",
    "\\end{equation}\n",
    "\n",
    "donde $\\mathrm{tr}(\\mathcal{A})=a+d$ es la traza de $\\mathcal{A}$ y $\\det(\\mathcal{A})=ad-bc$ es su determinante.\n",
    "\n",
    "Entonces, tenemos:\n",
    "\n",
    "\\begin{equation}\n",
    "\\lambda_\\pm = \\frac{1}{2}\n",
    "\\left( \\mathrm{tr}(\\mathcal{A}) \\pm \\sqrt{\\mathrm{tr}(\\mathcal{A})^2-4\\det(\\mathcal{A})}\\right).\n",
    "\\end{equation}"
   ]
  },
  {
   "cell_type": "markdown",
   "metadata": {},
   "source": [
    "**Ejercicio 1:**\n",
    "\n",
    "Hay tres formas *estándar* (bloques de Jordan) para matrices de $2\\times2$, y que expresan las posibles valores que pueden tomar los eigenvalores. Estas formas son:\n",
    "\\begin{equation*}\n",
    "\\left( \n",
    "\\begin{array}{cc}\n",
    "\\alpha & -\\beta \\\\\n",
    "\\beta & \\alpha \n",
    "\\end{array} \n",
    "\\right), \n",
    "\\left( \n",
    "\\begin{array}{cc}\n",
    "\\lambda & 1 \\\\\n",
    "0 & \\lambda \n",
    "\\end{array} \n",
    "\\right),\n",
    "\\left( \n",
    "\\begin{array}{cc}\n",
    "\\lambda & 0 \\\\\n",
    "0 & \\mu\n",
    "\\end{array} \n",
    "\\right),\n",
    "\\end{equation*}\n",
    "donde $\\alpha, \\beta, \\lambda$ y $\\mu$ son reales, con $\\beta\\ne 0$ y $\\mu\\ne\\lambda$. En esta forma, los elementos de la diagonal son los eigenvalores, excepto para la primer matriz, cuyos eigenvalores son $\\alpha\\pm i \\beta$. \n",
    "\n",
    "En términos de éstos bloques caracterizen la dinámica (dibujen el comportamiento dinámico en el espacio fase) cerca de del origen (punto fijo). \n",
    "\n",
    "**Nota:** Pueden usar matrices concretas con dichas formas para investigar numéricamente la dinámica. Sean conscientes que los eigenvalor puedes tener distintos valores (signos, o ser cero), y deben describir *todos* los casos posibles."
   ]
  },
  {
   "cell_type": "code",
   "execution_count": null,
   "metadata": {
    "collapsed": true
   },
   "outputs": [],
   "source": []
  },
  {
   "cell_type": "markdown",
   "metadata": {},
   "source": [
    "**Ejercicio 2:**\n",
    "\n",
    "En términos de la dependencia de los eigenvalores de la traza y del determinante de la matriz (ecuación (8)), uno puede definir el plano donde el eje horizontal corresponde al determinante, y el vertical a la traza.(El discriminante, $\\mathrm{tr}(\\mathcal{A})^2-4\\det(\\mathcal{A})$ en este plano es una parábola.) Clasifiquen la dinámica cerca del origen en este plano."
   ]
  },
  {
   "cell_type": "code",
   "execution_count": null,
   "metadata": {
    "collapsed": true
   },
   "outputs": [],
   "source": []
  },
  {
   "cell_type": "markdown",
   "metadata": {},
   "source": [
    "**Ejercicio 3:**\n",
    "\n",
    "Consideren el mapeo:\n",
    "\n",
    "\\begin{equation*}\n",
    "\\mathbf{x}_{n+1} = \\left( \n",
    "\\begin{array}{cc}\n",
    "2 & 1 \\\\\n",
    "1 & 1\n",
    "\\end{array} \n",
    "\\right) \\mathbf{x}_n, \\mod 1.\n",
    "\\end{equation*}\n",
    "\n",
    "- Muestren que el mapeo es hiperbólico, es decir, los eigenvalores de la linearización del mapeo son todos distintos de 1 en valor absoluto. (En general, se pide que los eigenvalores de la matriz linearizada no estén en el círculo unitario para que el sistema sea hiperbólico.) Este es un ejemplo de los mapeos que se llaman torales hiperbólicos.\n",
    "\n",
    "- Construyan el mapeo inverso.\n",
    "\n",
    "- ¿Qué podemos decir de la dinámica de $\\mathbf{x}_0$ cuando *ambas* entradas son racionales? Como ambas entradas son racionales, $\\mathbf{x}_0$ puede ser escrito como \n",
    "\\begin{equation*}\n",
    "\\mathbf{x}_0 \n",
    "= \\left[ \n",
    "\\begin{array}{c}\n",
    "p_1/q_1 \\\\\n",
    "p_2/q_2\n",
    "\\end{array} \n",
    "\\right ]\n",
    "= \\left[ \n",
    "\\begin{array}{c}\n",
    "r/k \\\\\n",
    "s/k\n",
    "\\end{array}\n",
    "\\right ],\n",
    "\\end{equation*}\n",
    "donde $p_i, q_i, r, s, k$ son enteros; $k$ es un denominador común.\n",
    "\n",
    "- A partir de los eigenvalores y eigenvectores, dibujen el conjunto de puntos que, iterados hacia el pasado terminan en el origen (variedad inestable) y que iterados hacia el futuro terminan también ahí (variedad estable). ¿Usen los eigenvectores como una aproximación lineal **muy** cerca del punto fijo e iteren. \n",
    "\n",
    "- ¿Se cruzan (con un ángulo distinto de 0 o $\\pi$) estas variedades? En otras palabras, existen *intersecciones homoclínicas* en el mapeo?\n",
    "\n",
    "- ¿Qué podemos decir sobre la densidad de órbitas periódicas para este mapeo? ¿Qué podemos decir sobre la densidad de puntos homoclínicos?"
   ]
  },
  {
   "cell_type": "code",
   "execution_count": null,
   "metadata": {
    "collapsed": true
   },
   "outputs": [],
   "source": []
  },
  {
   "cell_type": "markdown",
   "metadata": {},
   "source": [
    "**Ejercicio 4:**\n",
    "\n",
    "Consideren el mapeo lineal por segmentos\n",
    "\\begin{equation*}\n",
    "\\left[ \n",
    "\\begin{array}{c}\n",
    "x_{n+1} \\\\\n",
    "y_{n+1}\n",
    "\\end{array} \n",
    "\\right ] = L \\left[ \n",
    "\\begin{array}{c}\n",
    "x_{n} \\\\\n",
    "y_{n}\n",
    "\\end{array} \n",
    "\\right ] = \\left[ \n",
    "\\begin{array}{c}\n",
    "1+y_n+A|x_n| \\\\\n",
    "B x_{n}\n",
    "\\end{array} \n",
    "\\right ], \n",
    "\\end{equation*}\n",
    "\n",
    "donde $A$ y $B$ son parámetros numéricos que satisfacen: $1>B>0, A>B+1$ y  $2A+B<4$.\n",
    "\n",
    "- Obtengan los dos puntos fijos del mapeo, y la estabilidad lineal de cada uno de ellos. \n",
    "\n",
    "- Denotando como $p$ al punto fijo que se encuentra en el primer cuadrante del plano, muestren que la variedad inestable de este punto contiene una recta que intersecta al eje x en el punto $q$ y al eje y en el punto $L^{-1}(q)$.\n",
    "\n",
    "- Consideren la región triangular definida por los vértices $q$, $L(q)$ y $L^2(q)$. ¿Cómo se ven las órbitas de condiciones iniciales definidas en esta región?"
   ]
  },
  {
   "cell_type": "code",
   "execution_count": null,
   "metadata": {
    "collapsed": true
   },
   "outputs": [],
   "source": []
  },
  {
   "cell_type": "markdown",
   "metadata": {},
   "source": [
    "**Ejercicio 5:**\n",
    "\n",
    "Consideren el mapeo $Q_\\lambda$ del plano, definido por\n",
    "\\begin{eqnarray*}\n",
    "x_{n+1} & = & \\exp(x_n) - \\lambda,\\\\\n",
    "y_{n+1} & = & -\\frac{\\lambda}{2}\\arctan{y_n},\\\\\n",
    "\\end{eqnarray*}\n",
    "donde $\\lambda$ es un parámetro. \n",
    "\n",
    "- Encuentren todos los puntos fijos y las órbitas de periodo 2.\n",
    "\n",
    "- Clasifiquen esos puntos como puntos sumideros (*sinks*), fuentes (*sources*), o sillas (*saddles*), según los eigenvalores del mapeo linearizado.\n",
    "\n",
    "- Este mapeo lo podemos ver como el producto cartesiano de dos mapeos en una dimensión. Considerándolo así, ¿qué bifurcaciones ocurren que involucran a los puntos fijos y de periodo 2?\n",
    "\n",
    "- ¿Qué podemos concluir de los puntos de bifurcación, en términos de los eigenvalores?"
   ]
  },
  {
   "cell_type": "code",
   "execution_count": null,
   "metadata": {
    "collapsed": true
   },
   "outputs": [],
   "source": []
  }
 ],
 "metadata": {
  "kernelspec": {
   "display_name": "Julia 0.4.8-pre",
   "language": "julia",
   "name": "julia-0.4"
  },
  "language_info": {
   "file_extension": ".jl",
   "mimetype": "application/julia",
   "name": "julia",
   "version": "0.4.8"
  }
 },
 "nbformat": 4,
 "nbformat_minor": 1
}
