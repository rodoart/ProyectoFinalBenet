{
 "cells": [
  {
   "cell_type": "markdown",
   "metadata": {},
   "source": [
    "# Introducción a `git`"
   ]
  },
  {
   "cell_type": "markdown",
   "metadata": {},
   "source": [
    "En esta clase empezaremos con un vistazo super rápido de [MarkDown](https://confluence.atlassian.com/display/STASH/Markdown+syntax+guide). Usando el [Jupyter notebook](http://jupyter.org/) introduciremos `git` como herramienta de control de versiones.\n",
    "Se creará un proyecto en [GitHub](https://github.com) (el del curso!), y se explicarán diversos conceptos relacionados con `git`, como la manera de actualizar los cambios, qué es un repositorio remoto, como contribuir a algún proyecto, etc."
   ]
  },
  {
   "cell_type": "markdown",
   "metadata": {},
   "source": [
    "**NOTA** Muchas de las instrucciones que aparecen abajo se han incluido para que sea claro el proceso que se siguió. La idea es empezar con un directorio vacío."
   ]
  },
  {
   "cell_type": "markdown",
   "metadata": {},
   "source": [
    "## ¿Qué es `git`?"
   ]
  },
  {
   "cell_type": "markdown",
   "metadata": {},
   "source": [
    "`git` es un sistema controlador de versiones\n",
    "\n",
    "- que permite tener acceso al historial *completo* de un proyecto,\n",
    "\n",
    "- permite desarrollar varias ideas o acercamientos sobre algo, incluyendo trabajar en equipo, sin interferir, y\n",
    "\n",
    "- se utiliza *localmente*, pero se puede compartir de manera pública o privada (ej. [GitHub](https://github.com))"
   ]
  },
  {
   "cell_type": "markdown",
   "metadata": {},
   "source": [
    "**Tarea 0**: (Individual!) Crear una cuenta en GitHub, y mandarnos el usuario por email."
   ]
  },
  {
   "cell_type": "markdown",
   "metadata": {},
   "source": [
    "**NOTA** Lo siguiente, es algo útil cuando se utiliza [Julia](https://julialang.org): Al empezar una *instrucción* con `;` (punto y coma), eso equivale a \"escapar a la terminal (*shell*)\". Así, por ejemplo, para listar los archivos que están en el directorio actual donde se trabaja, simplemente ejecutamos *en el notebook*\n",
    "\n",
    "```julia\n",
    "    ; ls -al\n",
    "```"
   ]
  },
  {
   "cell_type": "code",
   "execution_count": null,
   "metadata": {
    "collapsed": false
   },
   "outputs": [],
   "source": [
    "; ls -al"
   ]
  },
  {
   "cell_type": "markdown",
   "metadata": {},
   "source": [
    "## Primeros pasos en `git`\n",
    "\n",
    "Empezamos por crear un *repositorio* **local** en `git`. Esto se ilustrará con la carpeta donde tendré el curso, pero se puede usar en cualquier carpeta (por ejemplo, en `Documents/TesisLic/`).\n",
    "\n",
    "**NOTA** Todo este notebook se ejecutará desde la terminal; se incluyen aquí algunos resultados para que los puedan seguir.\n",
    "\n",
    "```\n",
    "    > git init\n",
    "```\n"
   ]
  },
  {
   "cell_type": "code",
   "execution_count": null,
   "metadata": {
    "collapsed": false
   },
   "outputs": [],
   "source": [
    "; ls -al"
   ]
  },
  {
   "cell_type": "markdown",
   "metadata": {},
   "source": [
    "El cambio importante es la aparición del directorio `.git/`."
   ]
  },
  {
   "cell_type": "markdown",
   "metadata": {},
   "source": [
    "Si quiero saber el \"estado\" del repositorio ejecutaremos la instrucción:\n",
    "```\n",
    "    > git status\n",
    "```"
   ]
  },
  {
   "cell_type": "code",
   "execution_count": null,
   "metadata": {
    "collapsed": false
   },
   "outputs": [],
   "source": [
    "; git status"
   ]
  },
  {
   "cell_type": "markdown",
   "metadata": {},
   "source": [
    "Lo que ahora haremos ahora es crear el archivo `README.md` y hacerlo atractivo. Ese archivo será la página de entrada al curso. "
   ]
  },
  {
   "cell_type": "markdown",
   "metadata": {},
   "source": [
    "Ahora, quiero que el archivo `README.md` sea uno que `git` \"siga\", o sea, que note los cambios que se le hacen. En otras palabras, que guarde la historia de esos cambios.\n"
   ]
  },
  {
   "cell_type": "markdown",
   "metadata": {},
   "source": [
    "Para que `git` siga los cambios, primero le debo decir qué archivo (o directorio) quiero que siga, y le debo indicar cuándo se guardar el estado de ese archivo, en el sentido de tener un punto de comparación de referencia a cierto instante del tiempo. "
   ]
  },
  {
   "cell_type": "markdown",
   "metadata": {},
   "source": [
    "Entonces, primero le indicamos que siga al archivo `README.md`, o sea, que se prepare para guardar los cambios que a ese archivo se le harán. Eso lo hago con el comando (cosa que ejecuto en la terminal):\n",
    "\n",
    "```\n",
    "    > git add README.md\n",
    "```"
   ]
  },
  {
   "cell_type": "code",
   "execution_count": null,
   "metadata": {
    "collapsed": true
   },
   "outputs": [],
   "source": [
    "; git status"
   ]
  },
  {
   "cell_type": "markdown",
   "metadata": {},
   "source": [
    "Para guardar el estado del archivo, o sea, definir el último punto de comparación, uno ejecuta, cosa que nuevamente haré desde la terminal:\n",
    "\n",
    "```\n",
    "    > git commit\n",
    "```\n",
    "\n",
    "Esta instrucción nos pone dentro de un editor, por default `vi` aunque esto es configurable. La idea es escribir un mensaje que describa qué cambios se hicieron. Por convención uno escribe algo descriptivo en una línea, y después de una línea en blanco, detalles más específicos. Líneas que empiezan con `#` se consideran comentarios (y no aparecerán con `git log`).\n",
    "\n",
    "Si uno *sólo* quiere escribir la primer línea es, la alternativa es:\n",
    "```\n",
    "    > git commit -m \"Mensaje corto y claro\"\n",
    "```\n",
    "Esto evita entrar en el editor de texto."
   ]
  },
  {
   "cell_type": "markdown",
   "metadata": {},
   "source": [
    "La instrucción\n",
    "```\n",
    "    > git log\n",
    "```\n",
    "permite ver el registro (*log*, en inglés) de los cambios en la historia del repositorio. Ahí vemos el mensaje del cambio (*commit*) hecho; si hay varios *commits* vemos todo el historial desplegado desde el más reciente hasta el más remoto."
   ]
  },
  {
   "cell_type": "code",
   "execution_count": 1,
   "metadata": {
    "collapsed": false
   },
   "outputs": [
    {
     "name": "stderr",
     "output_type": "stream",
     "text": [
      "fatal: Not a git repository (or any of the parent directories): .git\n"
     ]
    }
   ],
   "source": [
    "; git log"
   ]
  },
  {
   "cell_type": "markdown",
   "metadata": {},
   "source": [
    "Ahora haré lo mismo con dos directorios, que por ahora permanecerán vacíos. Desde la terminal creamos los directorios \"notas_clase\" y \"tareas\"\n",
    "\n",
    "```\n",
    "    > mkdir notas_clase/ tareas/\n",
    "```"
   ]
  },
  {
   "cell_type": "code",
   "execution_count": null,
   "metadata": {
    "collapsed": false
   },
   "outputs": [],
   "source": [
    "; ls -alp"
   ]
  },
  {
   "cell_type": "markdown",
   "metadata": {},
   "source": [
    "Y, para que se sigan los cambios en esos directorios, los incluímos\n",
    "\n",
    "```\n",
    "    > git add notas_clase tareas\n",
    "    > git commit -m \"Agrego los directorios `notas_clase` y `tareas`\"\n",
    "```"
   ]
  },
  {
   "cell_type": "code",
   "execution_count": null,
   "metadata": {
    "collapsed": true
   },
   "outputs": [],
   "source": [
    "; git log --oneline"
   ]
  },
  {
   "cell_type": "markdown",
   "metadata": {},
   "source": [
    "`git` incluye un help muy detallado. Para cualquier instrucción de `git`, incluir `--help` da detalles de esa instrucción, incluyendo opciones y ejemplos.\n",
    "\n",
    "```\n",
    "    > git add --help\n",
    "```"
   ]
  },
  {
   "cell_type": "markdown",
   "metadata": {},
   "source": [
    "## Configuración personal de `git`\n",
    "\n",
    "```\n",
    "    > git config --global user.name \"Su nombre\"\n",
    "    > git config --global user.email \"usuario@email_de_verdad.tierra.hoy\"\n",
    "    > git config --global color.ui \"auto\"\n",
    "    > git config --global github.user \"Usuario_GitHub\"\n",
    "```\n",
    "\n",
    "Configurar esto es muy importante, ya que permite saber quién hizo qué, y cómo contactarlo.\n",
    "\n",
    "**NOTA:** Si trabajan en una de las máquinas del laboratorio, conviene que chequen la configuración, ya que no quieren que su trabajo esté firmado por otro. Una alternativa útil\n",
    "es usar la opción `--local` (en lugar de `--global`); más detalles se encuentran con `git --help config`."
   ]
  },
  {
   "cell_type": "markdown",
   "metadata": {},
   "source": [
    "Para checar lo que git tiene configurado: `git config --list`."
   ]
  },
  {
   "cell_type": "code",
   "execution_count": null,
   "metadata": {
    "collapsed": false
   },
   "outputs": [],
   "source": [
    "; git config --list"
   ]
  },
  {
   "cell_type": "markdown",
   "metadata": {},
   "source": [
    "---\n",
    "\n",
    "### NOTA:\n",
    "\n",
    "Aquí creo la página en GitHub donde estará el curso.\n",
    "\n",
    "---"
   ]
  },
  {
   "cell_type": "markdown",
   "metadata": {},
   "source": [
    "## Agregando un repositorio remoto\n"
   ]
  },
  {
   "cell_type": "markdown",
   "metadata": {},
   "source": [
    "Mientras *no* hayamos definido ningún repositorio remoto (que vive en la nube, sea público o privado), no obtenemos información si usamos el comando \n",
    "```\n",
    "    > git remote -v`\n",
    "```\n",
    "(\"-v\" es por *verbose*, o sea, \"verboso\" o \"chorero\"):"
   ]
  },
  {
   "cell_type": "code",
   "execution_count": null,
   "metadata": {
    "collapsed": true
   },
   "outputs": [],
   "source": [
    "; git remote -v"
   ]
  },
  {
   "cell_type": "markdown",
   "metadata": {},
   "source": [
    "Desde la terminal, *agrego* un repositorio remote usando el comando:\n",
    "\n",
    "```\n",
    "    > git remote add origin https://github.com/lbenet/2017-1_TSFisComp\n",
    "```"
   ]
  },
  {
   "cell_type": "code",
   "execution_count": null,
   "metadata": {
    "collapsed": false
   },
   "outputs": [],
   "source": [
    "; git remote -v"
   ]
  },
  {
   "cell_type": "markdown",
   "metadata": {},
   "source": [
    "(Aquí les muestro cómo crear el repositorio en GitHub.)"
   ]
  },
  {
   "cell_type": "markdown",
   "metadata": {},
   "source": [
    "Ahora mando todo lo que se ha hecho localmente al [repositorio remoto](https://github.com/lbenet/2017-1_TSFisComp) en GitHub:\n",
    "\n",
    "```\n",
    "    > git push -u origin master\n",
    "```\n",
    "\n",
    "En esta instrucción \"-u\" es por \"upstream\" y usualmente se utiliza sólo la primera vez que se sube al repositorio remoto. \n",
    "\n",
    "Por su parte, \"origin\" es la abreviatura (el default se le llama siempre \"origin\") y \"master\" tiene que ver con la rama (*branch*) que se sincroniza. Por lo tanto, lo que acabamos de hacer es, en algún sentido, crear un respaldo público en la nube de todo lo que se haya guardado en el repositorio local."
   ]
  },
  {
   "cell_type": "markdown",
   "metadata": {},
   "source": [
    "## Contribuyendo a un repositorio (o como enviar las tareas)"
   ]
  },
  {
   "cell_type": "markdown",
   "metadata": {},
   "source": [
    "**NOTA** En mi experiencia (Luis), lo que sigue genera muchas confusiones."
   ]
  },
  {
   "cell_type": "markdown",
   "metadata": {},
   "source": [
    "Lo primero que deben que hacer, es clonar el repositorio remoto a su máquina local. Esto se hace usando la instrucción:\n",
    "\n",
    "```\n",
    "    > git clone https://github.com/lbenet/2017-1_TSFisComp\n",
    "```"
   ]
  },
  {
   "cell_type": "markdown",
   "metadata": {},
   "source": [
    "Como ustedes **no** son colaboradores, si quieren contribuir al repositorio (por ejemplo, enviando las tareas), deben hacer los cambios de manera local, subirlos *a su propia copia* (*fork*) en GitHub del repositorio donde quieren contribuir, y desde ahí hacer un \"pull-request\".\n",
    "\n",
    "**NOTA**: Aunque después hablaremos de *ramas* (*branches*), conviene **siempre** trabajar en ramas específicas (como por ejemplo, `tarea2`)."
   ]
  },
  {
   "cell_type": "markdown",
   "metadata": {},
   "source": [
    "Entonces, lo primero, es hacer un \"fork\" *desde su cuenta* en GitHub; esto lo hacen con el botón \"FORK\" que hay (en el repositorio al que quieren contribuir), en el lado superior derecho de la página."
   ]
  },
  {
   "cell_type": "markdown",
   "metadata": {},
   "source": [
    "Una vez creado el fork, en GitHub tendrán una copia íntegra de dicho proyecto. \n",
    "\n",
    "Localmente (en su máquina), deben definir dónde está la copia del repositorio, en GitHub, donde ustedes pueden subir los cambios. Esto es, deben darlo de alta; en lo que sigue, a dicha copia la llamaré \"fork\" (\"origin\" será el repositorio de referencia, donde a priori *no* tienen acceso a subir los cambios):\n",
    "\n",
    "```\n",
    "    > git remote add fork https://github.com/SU_USUARIO/2017-1_TSFisicaComputacional\n",
    "```"
   ]
  },
  {
   "cell_type": "markdown",
   "metadata": {},
   "source": [
    "Los cambios que hagan (locales), los podrán subir a **su** repositorio con \n",
    "\n",
    "```\n",
    "    > git push fork master\n",
    "```\n",
    "\n",
    "(¡ojo!, la abreviación del repositorio remoto se hace explícita en la instrucción) y *desde* GitHub, hacen un pull-request, usando el botón para eso."
   ]
  },
  {
   "cell_type": "markdown",
   "metadata": {},
   "source": [
    "Para actualizar **mi** versión del repositorio de referencia, debo hacer\n",
    "```\n",
    "    > git pull origin master\n",
    "```\n",
    "\n",
    "Esto es importante hacerlo con cierta frecuencia."
   ]
  },
  {
   "cell_type": "markdown",
   "metadata": {},
   "source": [
    "Entonces, uno puede resumir que el flujo del trabajo esencialmente consiste en:\n",
    "```\n",
    "    > git init            # inicializa un repositorio\n",
    "    > git add <archivo>   # hace que git siga los cambios de archivo\n",
    "    > git status          # muestra el estado del repositorio\n",
    "    > git commit          # saca una foto instantánea del estado del proyecto\n",
    "    > git push            # sube los cambios al remoto\n",
    "    > git log             # muestra la bitácora/historia del proyecto\n",
    "```"
   ]
  },
  {
   "cell_type": "markdown",
   "metadata": {},
   "source": [
    "**Ejercicio 1:** (Conflictos de pareja)\n",
    "\n",
    "La situación que consideraremos es la siguiente: Alicia (Alice) y Beto (Bob) colaboran en un proyecto (el repositorio de la clase). Ellos trabajan en equipo y es importante que se refleje el trabajo individual de cada unol. Por lo mismo deben ser colaboradores ante github.\n",
    "\n",
    "Ambos tienen la misma versión del código.\n",
    "\n",
    "Alicia: edita y *sube* al repo común (tareas/bob/) el archivo \"0-test.md\".\n",
    "Beto *también* trabaja en ese mismo archivo (tareas/bob/0-test.md\") y trata de subir los cambios.\n",
    "\n",
    "- ¿Qué pasa?\n",
    "\n",
    "- ¿Qué hacer para mantener ambas contribuciones, preservando el autor de cada una?\n",
    "\n",
    "- Una vez que logren resolver los conflictos, manden un pull-request al repositorio del curso.\n"
   ]
  },
  {
   "cell_type": "markdown",
   "metadata": {},
   "source": [
    "[El ejercicio anterior motiva el concepto de \"ramas\" (*branch* en inglés)]."
   ]
  },
  {
   "cell_type": "markdown",
   "metadata": {},
   "source": [
    "### Ligas de interés"
   ]
  },
  {
   "cell_type": "markdown",
   "metadata": {},
   "source": [
    "- [Documentación](https://daringfireball.net/projects/markdown/syntax) de la sintaxis de markdown.\n",
    "\n",
    "- [GitGuys](http://www.gitguys.com): Aquí hay mucha información que puede ser de interés para iniciarse en `git`; en particular, incluye detalles para instalar `git` en cualquier plataforma.\n",
    "\n",
    "- [Documentación oficial](http://git-scm.com/doc)  de `git`: Este es el sitio oficial con toda la documentación sobre `git`.\n",
    "\n",
    "- [Guías en GitHub](https://guides.github.com/) con mucha información útil, al interactuar desde GitHub.\n",
    "\n",
    "- [Esta liga](http://tbaggery.com/2008/04/19/a-note-about-git-commit-messages.html) describe cómo debe ser el estilo de escritura de los *commits*.\n",
    "\n",
    "- [Think like (a) git](http://think-like-a-git.net/)\n",
    "\n",
    "\n",
    "Los siguientes links son tutoriales ampliamente recomendados:\n",
    "\n",
    "- [Become a git guru](https://www.atlassian.com/git/tutorials/)\n",
    "\n",
    "- [Learn git branching](http://pcottle.github.io/learnGitBranching/)"
   ]
  },
  {
   "cell_type": "code",
   "execution_count": null,
   "metadata": {
    "collapsed": true
   },
   "outputs": [],
   "source": []
  }
 ],
 "metadata": {
  "kernelspec": {
   "display_name": "Julia 0.4.6",
   "language": "julia",
   "name": "julia-0.4"
  },
  "language_info": {
   "file_extension": ".jl",
   "mimetype": "application/julia",
   "name": "julia",
   "version": "0.4.6"
  }
 },
 "nbformat": 4,
 "nbformat_minor": 0
}
