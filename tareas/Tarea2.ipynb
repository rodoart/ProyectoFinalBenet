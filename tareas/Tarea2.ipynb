{
 "cells": [
  {
   "cell_type": "markdown",
   "metadata": {},
   "source": [
    "# Tarea 2"
   ]
  },
  {
   "cell_type": "markdown",
   "metadata": {},
   "source": [
    "**Envío del PR inicial:** lunes 5 de septiembre\n",
    "\n",
    "**Aceptación del PR:** lunes 19 de septiembre"
   ]
  },
  {
   "cell_type": "markdown",
   "metadata": {
    "collapsed": true
   },
   "source": [
    "**NOTA** El máximo número de colaboradores es 2, cuyos nombres deben ser incluidos con claridad a la hora de hacer el PR, por ejemplo, mandándo copia a los coautores. Si usan ideas de cualquier fuente, favor de incluir la referencia apropiada. (En otras palabras, sí está permitido usar otras fuentes, pero incluyan las referencias.)"
   ]
  },
  {
   "cell_type": "markdown",
   "metadata": {},
   "source": [
    "---"
   ]
  },
  {
   "cell_type": "markdown",
   "metadata": {},
   "source": [
    "1) Consideren la función\n",
    "\n",
    "\\begin{equation}\n",
    "z_{n+1} = z_n^2 + c, \n",
    "\\end{equation}\n",
    "\n",
    "con `c = -0.123 + 0.745im`. Definan una malla de valores iniciales $z_0$ en el intervalo $[-1,1]\\times [-1,1]$ (parte real $\\times$ parte imaginaria).\n",
    "\n",
    "- ¿Cuantos valores finitos distintos (en el intervalo $[-1,1]\\times [-1,1]$) se pueden obtener después de un gran número de iteraciones?\n",
    "\n",
    "- Usando un color distinto para cada uno, grafiquen en el plano $\\textrm{Re}(z) - \\textrm{Im}(z)$ el conjunto obtenido."
   ]
  },
  {
   "cell_type": "code",
   "execution_count": null,
   "metadata": {
    "collapsed": true
   },
   "outputs": [],
   "source": []
  },
  {
   "cell_type": "markdown",
   "metadata": {},
   "source": [
    "2) Usando la función `compute_roots` vista en clase, o en alguna variación propuesta por ustedes, definan (en Julia) el mapeo\n",
    "\n",
    "\\begin{equation}\n",
    "x_{n+1} = B(x_{n}) = 2x_n \\mod 1.\n",
    "\\end{equation}\n",
    "\n",
    "- Obtengas los puntos fijos de este mapeo numéricamente. Los puntos fijos del mapeo son aquéllos que se mapean en si mismos, es decir, $x_{n} = B(x_{n})$. Este cálculo se puede hacer a mano, lo que debe usarse para comprobar que la implementación numérica funciona bien.\n",
    "\n",
    "- Pensando en que la estabilidad de un punto fijo es el comportamiento que se observa de los iterados (a priori un número infinito) al considerar pequeñas desviaciones del punto fijo, ¿cuál es la estabilidad de los puntos fijos que se obtiene *numéricamente*, digamos, después de 100 iteraciones? ¿Pueden encontrar una explicación analítica de la observación numérica?\n",
    "\n",
    "*Hint: Sean imaginos y no se conformen*"
   ]
  },
  {
   "cell_type": "code",
   "execution_count": null,
   "metadata": {
    "collapsed": true
   },
   "outputs": [],
   "source": []
  }
 ],
 "metadata": {
  "kernelspec": {
   "display_name": "Julia 0.4.7-pre",
   "language": "julia",
   "name": "julia-0.4"
  },
  "language_info": {
   "file_extension": ".jl",
   "mimetype": "application/julia",
   "name": "julia",
   "version": "0.4.7"
  }
 },
 "nbformat": 4,
 "nbformat_minor": 0
}
