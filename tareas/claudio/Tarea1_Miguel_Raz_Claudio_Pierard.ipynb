{
 "cells": [
  {
   "cell_type": "markdown",
   "metadata": {},
   "source": [
    "# Tarea 1\n",
    "\n",
    "Miguel Raz y Claudio Pierard\n",
    "\n",
    "**Nota:** Las capturas de pantalla las subimos a [Postimage](https://postimage.org/) para no tener que subir los archivos al repositorio (el hosting de las imágenes caduca en 31 días). Sólo pusimos la captura de la barra del progreso final, para evitar subir 11 imágenes cada quién."
   ]
  },
  {
   "cell_type": "markdown",
   "metadata": {},
   "source": [
    "#### Capaturas de pantalla Claudio\n",
    "\n",
    "![Ejercicios tutorial](https://s15.postimg.io/wh4uumwpn/Captura_de_pantalla_2016_08_30_a_las_10_37_37_p.png)\n"
   ]
  },
  {
   "cell_type": "markdown",
   "metadata": {
    "collapsed": true
   },
   "source": [
    "#### Estas son las fotos de finalizado de Miguel Raz\n"
   ]
  },
  {
   "cell_type": "markdown",
   "metadata": {},
   "source": [
    "![FotoMain](https://s9.postimg.io/ropaz9ien/Learning_Branching_Main.png)"
   ]
  },
  {
   "cell_type": "markdown",
   "metadata": {},
   "source": [
    "![FotoRemote](https://s9.postimg.io/i2vqiyr8v/Learning_Branching_Remote.png)"
   ]
  }
 ],
 "metadata": {
  "kernelspec": {
   "display_name": "Julia 0.4.6",
   "language": "julia",
   "name": "julia-0.4"
  },
  "language_info": {
   "file_extension": ".jl",
   "mimetype": "application/julia",
   "name": "julia",
   "version": "0.4.6"
  }
 },
 "nbformat": 4,
 "nbformat_minor": 0
}
