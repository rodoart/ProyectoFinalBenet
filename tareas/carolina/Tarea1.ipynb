{
 "cells": [
  {
   "cell_type": "markdown",
   "metadata": {},
   "source": [
    "#Tarea 1 \n",
    "##\"Learn Git Branching\""
   ]
  },
  {
   "cell_type": "markdown",
   "metadata": {},
   "source": [
    "###Introduction sequence###\n",
    "\n",
    "![Merging in Git](https://raw.githubusercontent.com/CarolinaLMH/Images/master/1.Merging%20in%20Git.png)\n",
    "![Rebase Introduction](https://raw.githubusercontent.com/CarolinaLMH/Images/master/1.Rebase%20Introduction.png)\n",
    "\n",
    "###Ramping up###\n",
    "\n",
    "![Reversing Changes in Git](https://raw.githubusercontent.com/CarolinaLMH/Images/master/2.Reversing%20changes%20in%20Git.png)\n",
    "\n",
    "###Moving work around###\n",
    "\n",
    "![Cherry-pick Intro](https://raw.githubusercontent.com/CarolinaLMH/Images/master/3.Cherry%20pick%20intro.png)\n",
    "![Interactive Rebase Intro](https://raw.githubusercontent.com/CarolinaLMH/Images/master/3.Interactive%20Rebase%20Intro.png)\n",
    "\n",
    "\n",
    "###A mixed bag###\n",
    "\n",
    "![Git tags](https://github.com/CarolinaLMH/Images/blob/master/4.Git%20tags.png?raw=true)\n",
    "![Juggling Commits](https://github.com/CarolinaLMH/Images/blob/master/4.Juggling%20Commits.png?raw=true)\n",
    "![Juggling Commits #2](https://github.com/CarolinaLMH/Images/blob/master/4.Juggling%20commits%232.png?raw=true)\n",
    "\n",
    "###Advanced topics###\n",
    "\n",
    "![Rebasing over 9000 times](https://github.com/CarolinaLMH/Images/blob/master/5.Rebasing%20over%209000%20times.png?raw=true)\n",
    "![Multiple Parents](https://github.com/CarolinaLMH/Images/blob/master/5.Multiple%20parents.png?raw=true)\n",
    "![Branch Spaguetti](https://github.com/CarolinaLMH/Images/blob/master/5.Branch%20Spaguetti.png?raw=true)"
   ]
  },
  {
   "cell_type": "code",
   "execution_count": null,
   "metadata": {
    "collapsed": true
   },
   "outputs": [],
   "source": []
  }
 ],
 "metadata": {
  "kernelspec": {
   "display_name": "Julia 0.3.12",
   "language": "julia",
   "name": "julia-0.3"
  },
  "language_info": {
   "file_extension": ".jl",
   "mimetype": "application/julia",
   "name": "julia",
   "version": "0.3.12"
  }
 },
 "nbformat": 4,
 "nbformat_minor": 0
}
