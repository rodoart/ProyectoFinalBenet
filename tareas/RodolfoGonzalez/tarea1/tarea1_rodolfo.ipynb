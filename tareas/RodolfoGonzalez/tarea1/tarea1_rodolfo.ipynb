{
 "cells": [
  {
   "cell_type": "markdown",
   "metadata": {},
   "source": [
    "# Tarea 1: \n",
    "\n",
    "_Rodolfo Arturo González Trillo_\n",
    "\n",
    "\n",
    "## Ejercicios de _Learn Git Branching Org_##"
   ]
  },
  {
   "cell_type": "markdown",
   "metadata": {},
   "source": [
    "### Sección 1: Secuencia Introductoria.\n",
    "\n",
    "#### Ejercicio 3: Mergeando en Git.\n",
    "\n",
    "Las instrucciones del ejercicio son (en magnífico argentino):\n",
    "\n",
    "<p style=\"text-align: center;\"> \n",
    "\n",
    "![1.3.1.jpg](1_3_1.jpg \"Ejercicio 3: Mergeando en Git\")\n",
    "_Figura 1.3.1: Instrucciones del ejercicio 3, de la página _ <a href=\"http://learngitbranching.js.org/\">Learn Git Branching</a>\n",
    "\n",
    "</p>"
   ]
  },
  {
   "cell_type": "markdown",
   "metadata": {},
   "source": [
    "Los comandos ejecutados son:\n",
    "\n",
    "<code> git branch bugFix         </code> Creamos una nueva rama, llamada `bugFix`\n",
    "\n",
    "<code> git checkout bugFix       </code> Nos pasamos a la rama `bugFix`\n",
    "\n",
    "<code> git commit                </code> Desde `bugFix` hacemos un `commit`.\n",
    "\n",
    "<code> git checkout master       </code> Regresamos a la rama principal `master`.\n",
    "\n",
    "<code> git commit                </code> Hacemos `commit` en `master`.\n",
    "\n",
    "<code> git merge bugFix          </code> Combinamos `bugFix` ambas ramas a `master`.\n",
    "\n",
    "![1.3.1.jpg](1_3_2.jpg \"Screenshot del ejercicio 1.3\")\n",
    "_Figura 1.3.2: Prueba de la realización del ejercicio, a la izquierda la imagen del objetivo a cumplir y a la derecha la captura de pantalla del ejercicio realizado._\n"
   ]
  },
  {
   "cell_type": "markdown",
   "metadata": {},
   "source": [
    "#### Ejercicio 4: Introducción a <code>rebase</code>.\n",
    "\n",
    "<p style=\"text-align: center;\">\n",
    "\n",
    "![1.4.1.jpg](1_4_1.jpg \"Ejercicio 4: Introducción a rebase\")\n",
    "_Figura 1.4.1: Instrucciones del ejercicio, de_ <a href=\"http://learngitbranching.js.org/\">Learn Git Branching</a>\n",
    "\n",
    "</p> "
   ]
  },
  {
   "cell_type": "markdown",
   "metadata": {},
   "source": [
    "<code> git checkout -b bugFix    </code> Creamos la rama, llamada `bugFix`, y nos ubicamos en ésta.\n",
    "\n",
    "<code> git checkout bugFix       </code> Nos pasamos a la rama `bugFix`\n",
    "\n",
    "<code> git commit                </code> En `bugFix` hacemos `commit`.\n",
    "\n",
    "<code> git checkout master       </code> Regresamos a `master`.\n",
    "\n",
    "<code> git commit                </code> Hacemos `commit` en `master`.\n",
    "\n",
    "<code> git checkout bugFix       </code> Cambiamos a la rama `bugFix`\n",
    "\n",
    "<code> git merge bugFix          </code> Combinamos `bugFix` ambas ramas a `master`.\n",
    "\n",
    "<code> git rebase master         </code> Hacemos `rebase` de `bugFix` a `master`, escribiendo los cambios de la rama `bugFix`en `master`.\n",
    "\n",
    "![1.4.2.jpg](1_4_2.jpg \"Screenshot del ejercicio 1.4\")\n",
    "_Figura 1.4.2: Prueba de la realización del ejercicio, misma descripción que en_ Figura 1.3.2.\n"
   ]
  },
  {
   "cell_type": "markdown",
   "metadata": {},
   "source": [
    "### Sección 2: Acelerando.\n",
    "\n",
    "#### Ejercicio 3: Referencias relativas #2.\n",
    "\n",
    "<code> git checkout C6             </code> Movemos el `HEAD` al commit marcado como `C6`.\n",
    "\n",
    "<code> git branch -f master HEAD   </code> Mueve la rama `master` hacia el `HEAD`. La `-f` es para forzar el cambio, dado que sin esta marca un error de nombres.\n",
    "\n",
    "<code> git branch -f bugFix HEAD~4 </code> Movemos `bugFix` 4 commits atrás respecto al `HEAD`.\n",
    "\n",
    "<code> git checkout HEAD~3         </code> Movemos `HEAD<` 3 commits atrás.\n",
    "\n",
    "<p style=\"text-align: center;\"> \n",
    "\n",
    "![2.3.1.jpg](2_3_1.jpg \"Screenshot del ejercicio 2.3\")\n",
    "_Figura 2.3.1: Prueba de la realización del ejercicio, misma descripción que en_ Figura 1.3.2.\n",
    "</p>\n"
   ]
  },
  {
   "cell_type": "markdown",
   "metadata": {},
   "source": [
    "#### Ejercicio 4: Revirtiendo cambios en git.\n",
    "\n",
    "\n",
    "<p style=\"text-align: center;\"> \n",
    "\n",
    "![2.4.1.jpg](2_4_1.jpg \"Ejercicio 4: Revirtiendo cambios en git\")\n",
    "_Figura 2.4.1: Instrucciones del ejercicio, de_ <a href=\"http://learngitbranching.js.org/\">Learn Git Branching</a>\n",
    "\n",
    "</p>"
   ]
  },
  {
   "cell_type": "markdown",
   "metadata": {},
   "source": [
    "<code> git reset HEAD~1            </code> Regresamos `HEAD` a la rama local un commit atrás.\n",
    "\n",
    "<code> git checkout pushed         </code> Nos movemos a la rama `pushed`.\n",
    "\n",
    "<code> git revert HEAD             </code> Movemos `pushed` un commit atrás. Usamos `revert`, porque la rama es remota.\n",
    "\n",
    "![2.4.2.jpg](2_4_2.jpg \"Screenshot del ejercicio 2.4\")\n",
    "_Figura 2.4.1: Prueba de la realización del ejercicio, misma descripción que en_ Figura 1.3.2."
   ]
  },
  {
   "cell_type": "markdown",
   "metadata": {},
   "source": [
    "### Sección 4: Bolsa de gatos.\n",
    "\n",
    "#### Ejercicio 1: Tomando un único commit.\n",
    "\n",
    "<p style=\"text-align: center;\"> \n",
    "\n",
    "![4.1.1.jpg](4_1_1.jpg \"Ejercicio 1: Tomando un único commit\")\n",
    "_Figura 4.1.1: Instrucciones del ejercicio de. _ <a href=\"http://learngitbranching.js.org/\">Learn Git Branching</a>\n",
    "\n",
    "</p>"
   ]
  },
  {
   "cell_type": "markdown",
   "metadata": {},
   "source": [
    "<code> git checkout master         </code> Nos movemos a `master`.\n",
    "\n",
    "<code> git cherry-pick C4          </code> Traemos `C4` hasta nuestra rama, botando los otros cambios.\n",
    "\n",
    "![4.1.2.jpg](4_1_2.jpg \"Screenshot del ejercicio 4.1\")\n",
    "_Figura 4.1.2: Prueba de la realización del ejercicio, misma descripción que en_ Figura 1.3.2."
   ]
  },
  {
   "cell_type": "markdown",
   "metadata": {},
   "source": [
    "#### Ejercicio 3: Haciendo malabares con los commits #2.\n",
    "\n",
    "<p style=\"text-align: center;\"> \n",
    "\n",
    "![4.3.1.jpg](4_3_1.jpg \"Ejercicio 3: Haciendo malabares con los commits #2\")\n",
    "_Figura 4.3.1: Instrucciones del ejercicio de _ <a href=\"http://learngitbranching.js.org/\">Learn Git Branching</a>\n",
    "\n",
    "</p>"
   ]
  },
  {
   "cell_type": "markdown",
   "metadata": {},
   "source": [
    "<code> git checkout master         </code> Nos movemos a `master`.\n",
    "\n",
    "<code> git cherry-pick C2          </code> Traemos `C2` a `master`, dividiendo las ramas.\n",
    "\n",
    "<code> git commit --ammend         </code> Hacemos `commit` remplazando al commit actual.\n",
    "\n",
    "<code> git cherry-pick C2          </code> Traemos `C3` a `master`.\n",
    "\n",
    "![4.3.2.jpg](4_3_2.jpg \"Screenshot del ejercicio 4.3\")\n",
    "_Figura 4.3.2: Prueba de la realización del ejercicio, misma descripción que en_ Figura 1.3.2."
   ]
  },
  {
   "cell_type": "markdown",
   "metadata": {},
   "source": [
    "#### Ejercicio 4: Tags en git.\n",
    "\n",
    "<p style=\"text-align: center;\"> \n",
    "\n",
    "![4.4.1.jpg](4_4_1.jpg \"Ejercicio 4: Tags en git\")\n",
    "_Figura 4.4.1: Instrucciones del ejercicio de _ <a href=\"http://learngitbranching.js.org/\">Learn Git Branching</a>\n",
    "\n",
    "</p>"
   ]
  },
  {
   "cell_type": "markdown",
   "metadata": {},
   "source": [
    "<code> git tag v1 C2               </code> Ponemos el tag `v1` en el commit `C2`.\n",
    "\n",
    "<code> git tag v0 C1               </code> Ponemos el tag `v0` en el commit `C1`.\n",
    "\n",
    "<code> git checkout C2             </code> Movemos el `HEAD` a `C2`.\n",
    "\n",
    "\n",
    "![4.4.2.jpg](4_4_2.jpg \"Screenshot del ejercicio 4.2\")\n",
    "_Figura 4.4.2: Prueba de la realización del ejercicio, misma descripción que en_ Figura 1.3.2."
   ]
  },
  {
   "cell_type": "markdown",
   "metadata": {},
   "source": [
    "### Sección 5: Temas avanzados.\n",
    "\n",
    "#### Ejercicio 2: Múltiples padres\n",
    "\n",
    "<p style=\"text-align: center;\"> \n",
    "\n",
    "![5.2.1.jpg](5_2_1.jpg \"Ejercicio 2: Múltiples padres\")\n",
    "_Figura 5.2.1: Instrucciones del ejercicio de _ <a href=\"http://learngitbranching.js.org/\">Learn Git Branching</a>\n",
    "\n",
    "</p>"
   ]
  },
  {
   "cell_type": "markdown",
   "metadata": {},
   "source": [
    "<code> git branch bugWork HEAD~^2~ </code> Se crea `bugWork` en la posición requerida, respecto al `HEAD`. Un paso atrás en el segundo padre, una paso atrás.\n",
    "\n",
    "\n",
    "\n",
    "![5.2.2.jpg](5_2_2.jpg \"Screenshot del ejercicio 5.2\")\n",
    "_Figura 5.2.2: Prueba de la realización del ejercicio, misma descripción que en_ Figura 1.3.2."
   ]
  },
  {
   "cell_type": "markdown",
   "metadata": {},
   "source": [
    "\n",
    "#### Ejercicio 3: Ensalada de branches.\n",
    "\n",
    "<p style=\"text-align: center;\"> \n",
    "\n",
    "![5.3.1.jpg](5_3_1.jpg \"Ejercicio 3: Ensalada de branches.\")\n",
    "_Figura 5.3.1: Instrucciones del ejercicio de _ <a href=\"http://learngitbranching.js.org/\">Learn Git Branching</a>\n",
    "\n",
    "</p>"
   ]
  },
  {
   "cell_type": "markdown",
   "metadata": {},
   "source": [
    "<code> git checkout one            </code> Nos movemos a `one`.\n",
    "\n",
    "<code> git cherry-pick C4 C3 C2    </code> Movemos a nuestra posición `C4`, `C3` y `C2` en ese orden.\n",
    "\n",
    "<code> git checkout two            </code> Nos movemos a `two`.\n",
    "\n",
    "<code> git cherry-pick C4 C3 C2    </code> Movemos a nuestra posición `C5`, `C4`, `C3` y `C2`.\n",
    "\n",
    "<code> git branch -f C2            </code> Forzamos la creación de una nueva `branch` `three` en `C2`.\n",
    "\n",
    "![5.3.2.jpg](5_3_2.jpg \"Screenshot del ejercicio 5.3\")\n",
    "_Figura 5.3.2: Prueba de la realización del ejercicio, misma descripción que en_ Figura 1.3.2."
   ]
  },
  {
   "cell_type": "code",
   "execution_count": null,
   "metadata": {
    "collapsed": true
   },
   "outputs": [],
   "source": []
  }
 ],
 "metadata": {
  "kernelspec": {
   "display_name": "Julia 0.4.6",
   "language": "julia",
   "name": "julia-0.4"
  },
  "language_info": {
   "file_extension": ".jl",
   "mimetype": "application/julia",
   "name": "julia",
   "version": "0.4.6"
  }
 },
 "nbformat": 4,
 "nbformat_minor": 0
}
