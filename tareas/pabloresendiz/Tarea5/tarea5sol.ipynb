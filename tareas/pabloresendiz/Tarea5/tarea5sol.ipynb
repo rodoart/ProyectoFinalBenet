{
 "cells": [
  {
   "cell_type": "markdown",
   "metadata": {},
   "source": [
    "# Tarea 5"
   ]
  },
  {
   "cell_type": "markdown",
   "metadata": {},
   "source": [
    "NOTA\n",
    "Los ejercicios de este notebook componen la Tarea5, para la que las fechas relevantes son:\n",
    "Envío del PR inicial: lunes 17 de octubre\n",
    "Aceptación del PR: lunes 31 de octubre"
   ]
  },
  {
   "cell_type": "markdown",
   "metadata": {},
   "source": [
    "# Exponente(s) de Lyapunov"
   ]
  },
  {
   "cell_type": "markdown",
   "metadata": {},
   "source": [
    "Una manera de caracterizar el caos en el sentido de *sensibilidad a condiciones iniciales* es a través de los exponentes de Liapunov. La idea es sencilla: si hay una separación *exponencial* de condiciones iniciales muy cercanas, entonces diremos que hay caos."
   ]
  },
  {
   "cell_type": "markdown",
   "metadata": {},
   "source": [
    "Por esto, simplemente monitoreamos la evolución de dos condiciones iniciales cercanas, $x_0$ y $x_0+\\epsilon$, donde $\\epsilon>0$ y pequeño.\n",
    "\n",
    "Considerando mapeos en una dimensión, la distancia entre los iterados $n$ es\n",
    "\n",
    "\\begin{equation}\n",
    "D_n = \\big|\\, f^{n}(x_0+\\epsilon)-f^{n}(x_0) \\big|\\,.\n",
    "\\end{equation}"
   ]
  },
  {
   "cell_type": "markdown",
   "metadata": {},
   "source": [
    "ntonces, suponiendo que $d_n$ tiene una dependencia exponencial de $n$, para $n\\to\\infty$ y $\\epsilon\\to 0$, escribimos $d_n= \\epsilon \\exp(\\lambda n)$, de donde obtenemos\n",
    "\n",
    "\\begin{equation}\n",
    "\\lambda(x_0) \\equiv \\lim_{n\\to\\infty} \\lim_{\\epsilon\\to 0} \n",
    "\\frac{1}{n}\\log\\Big| \\frac{f^{n}(x_0+\\epsilon)-f^{n}(x_0)}{\\epsilon}\\Big|.\n",
    "\\end{equation}\n",
    "\n",
    "A $\\lambda(x_0)$ se le llama exponente de Lyapunov. Si $\\lambda(x_0)>0$ diremos que hay caos, mientras que si $\\lambda(x_0)<0$ diremos que no lo hay."
   ]
  },
  {
   "cell_type": "markdown",
   "metadata": {},
   "source": [
    "Observaciones:\n",
    "\n",
    "- El exponente de Liapunov, estrictamente hablando, depende de la condición inicial $x_0$.\n",
    "\n",
    "- En la definición del exponente de Lyapunov se require la evaluación de **dos** límites, uno que involucra al tiempo ($n\\to\\infty$), y otro a la condición inicial ($\\epsilon\\to 0$).\n",
    "\n",
    "- La definición del exponente de Lyapunov es sutil, ya que en muchas ocasiones *sabemos* que el rango de $f(x)$ y de $f^n(x)$ es acotado cuando $x$ está en cierto dominio, lo que entonces podría llevar erróneamente a concluir que $\\lambda(x_0)=0$. (La sutileza está en que el órden de los límites no conmuta.)"
   ]
  },
  {
   "cell_type": "markdown",
   "metadata": {},
   "source": [
    "-"
   ]
  },
  {
   "cell_type": "markdown",
   "metadata": {},
   "source": [
    "Si el mapeo $f(x)$ es suficientemente suave, entonces podemos escribir\n",
    "\n",
    "\\begin{equation}\n",
    "\\lambda(x_0) = \\lim_{n\\to\\infty} \\frac{1}{n}\\log\\Big| \\frac{{\\rm d} f^{n}}{{\\rm d}x}(x_0)\\Big|,\n",
    "\\end{equation}\n",
    "\n",
    "Usando que\n",
    "\n",
    "\\begin{equation}\n",
    "\\frac{{\\rm d}f^n}{{\\rm d}x}(x_0) = f'(x_0) f'(x_1)\\dots f'(x_{n-1}) \n",
    "= \\prod_{i=1}^{n} f'(x_i), \n",
    "\\end{equation}\n",
    "\n",
    "donde $x_i=f^i(x_0)$\n",
    "obtenemos\n",
    "\n",
    "\\begin{equation}\n",
    "\\lambda(x_0) = \\lim_{n\\to\\infty} \\frac{1}{n} \\sum_{i=1}^n \\log\n",
    "\\Big| \\, f'(x_i)\\, \\Big|.\n",
    "\\end{equation}"
   ]
  },
  {
   "cell_type": "code",
   "execution_count": 1,
   "metadata": {
    "collapsed": false
   },
   "outputs": [],
   "source": [
    "#Pkg.add(\"Roots\")\n",
    "#Pkg.add(\"TaylorSeries\")"
   ]
  },
  {
   "cell_type": "code",
   "execution_count": 2,
   "metadata": {
    "collapsed": false
   },
   "outputs": [],
   "source": [
    "#Pkg.update()"
   ]
  },
  {
   "cell_type": "code",
   "execution_count": 3,
   "metadata": {
    "collapsed": false
   },
   "outputs": [],
   "source": [
    "using PyPlot"
   ]
  },
  {
   "cell_type": "markdown",
   "metadata": {},
   "source": [
    "# por conflictos entre paqueterías, se presentan primero los ejercicios 2 y 5."
   ]
  },
  {
   "cell_type": "markdown",
   "metadata": {
    "collapsed": true
   },
   "source": [
    "## Ejercicio 2:\n",
    "Rehacer los cálculos de los exponentes de Feigenbaum, \\begin{eqnarray*} fn &=& \\frac{C_n-C{n+1}}{C{n+1}-C{n+2}},\\ an &=& \\frac{d_n}{d{n+1}}, \\end{eqnarray*}\n",
    "usando los valores $C_n$ donde se tienen ciclos superestables de periodo $2^n$. (Este ejercicio es muy parecido a los ejercicios 1 y 3 de la Tarea4.)"
   ]
  },
  {
   "cell_type": "code",
   "execution_count": 4,
   "metadata": {
    "collapsed": false
   },
   "outputs": [],
   "source": [
    "using TaylorSeries"
   ]
  },
  {
   "cell_type": "code",
   "execution_count": 5,
   "metadata": {
    "collapsed": false
   },
   "outputs": [
    {
     "data": {
      "text/plain": [
       "Qc_p1 (generic function with 2 methods)"
      ]
     },
     "execution_count": 5,
     "metadata": {},
     "output_type": "execute_result"
    }
   ],
   "source": [
    "Qc_p1(x,c) = x^2 + c\n",
    "Qc_p1(x, args...) = !c(x, args[1])"
   ]
  },
  {
   "cell_type": "code",
   "execution_count": 6,
   "metadata": {
    "collapsed": false
   },
   "outputs": [
    {
     "data": {
      "text/plain": [
       "Qc_n (generic function with 1 method)"
      ]
     },
     "execution_count": 6,
     "metadata": {},
     "output_type": "execute_result"
    }
   ],
   "source": [
    "#Se utiliza la función del notebook para calcular la n-ésima iteración.\n",
    "function Qc_n(x, args)\n",
    "    c, n = args[1], args[2]\n",
    "    @assert n >= 0 && isa(n,Int)\n",
    "    n <= 1 && return Qc_p1(x,c)\n",
    "    for it = 1:n\n",
    "        x = Qc_p1(x,c)\n",
    "    end\n",
    "    return x\n",
    "end"
   ]
  },
  {
   "cell_type": "code",
   "execution_count": 7,
   "metadata": {
    "collapsed": false
   },
   "outputs": [
    {
     "data": {
      "text/plain": [
       "roots_newton (generic function with 1 method)"
      ]
     },
     "execution_count": 7,
     "metadata": {},
     "output_type": "execute_result"
    }
   ],
   "source": [
    "#Se utiliza la función vista en el notebook para calcular las raices por el métod de Newton.\n",
    "function roots_newton(f, x0)\n",
    "    t = Taylor1(1)\n",
    "    for ind = 1:30\n",
    "       fT = f(x0+t)\n",
    "       x0 = x0 - fT.coeffs[1]/fT.coeffs[2]\n",
    "    end\n",
    "    x0\n",
    "end"
   ]
  },
  {
   "cell_type": "markdown",
   "metadata": {},
   "source": [
    "Se calculan las $C_n$'s correspondientes a las iteraciones $2^n$ de 'Qc'. "
   ]
  },
  {
   "cell_type": "code",
   "execution_count": 8,
   "metadata": {
    "collapsed": false
   },
   "outputs": [
    {
     "data": {
      "text/plain": [
       "0.0"
      ]
     },
     "execution_count": 8,
     "metadata": {},
     "output_type": "execute_result"
    }
   ],
   "source": [
    "Q1c = c -> Qc_n(0.0, (c, 1))\n",
    "C0 = roots_newton(Q1c, -1.4)"
   ]
  },
  {
   "cell_type": "code",
   "execution_count": 9,
   "metadata": {
    "collapsed": false
   },
   "outputs": [
    {
     "data": {
      "text/plain": [
       "-1.0"
      ]
     },
     "execution_count": 9,
     "metadata": {},
     "output_type": "execute_result"
    }
   ],
   "source": [
    "Q2c = c -> Qc_n(0.0, (c, 2))\n",
    "C1 = roots_newton(Q2c, -1.0)"
   ]
  },
  {
   "cell_type": "code",
   "execution_count": 10,
   "metadata": {
    "collapsed": false
   },
   "outputs": [
    {
     "data": {
      "text/plain": [
       "-1.3107026413368328"
      ]
     },
     "execution_count": 10,
     "metadata": {},
     "output_type": "execute_result"
    }
   ],
   "source": [
    "Q4c = c -> Qc_n(0.0, (c, 4))\n",
    "C2 = roots_newton(Q4c, -1.4)"
   ]
  },
  {
   "cell_type": "code",
   "execution_count": 11,
   "metadata": {
    "collapsed": false
   },
   "outputs": [
    {
     "data": {
      "text/plain": [
       "-1.3815474844320617"
      ]
     },
     "execution_count": 11,
     "metadata": {},
     "output_type": "execute_result"
    }
   ],
   "source": [
    "Q8c = c -> Qc_n(0.0, (c, 8))\n",
    "C3 = roots_newton(Q8c, -1.4)"
   ]
  },
  {
   "cell_type": "code",
   "execution_count": 12,
   "metadata": {
    "collapsed": false
   },
   "outputs": [
    {
     "data": {
      "text/plain": [
       "-1.3969453597045607"
      ]
     },
     "execution_count": 12,
     "metadata": {},
     "output_type": "execute_result"
    }
   ],
   "source": [
    "Q16c = c -> Qc_n(0.0, (c, 16))\n",
    "C4 = roots_newton(Q16c, -1.4)"
   ]
  },
  {
   "cell_type": "code",
   "execution_count": 13,
   "metadata": {
    "collapsed": false
   },
   "outputs": [
    {
     "data": {
      "text/plain": [
       "-1.4002530812147829"
      ]
     },
     "execution_count": 13,
     "metadata": {},
     "output_type": "execute_result"
    }
   ],
   "source": [
    "Q32c = c -> Qc_n(0.0, (c, 32))\n",
    "C5 = roots_newton(Q32c, -1.4)"
   ]
  },
  {
   "cell_type": "code",
   "execution_count": 14,
   "metadata": {
    "collapsed": false
   },
   "outputs": [
    {
     "data": {
      "text/plain": [
       "6-element Array{Float64,1}:\n",
       "  0.0    \n",
       " -1.0    \n",
       " -1.3107 \n",
       " -1.38155\n",
       " -1.39695\n",
       " -1.40025"
      ]
     },
     "execution_count": 14,
     "metadata": {},
     "output_type": "execute_result"
    }
   ],
   "source": [
    "cs=[C0,C1,C2,C3,C4,C5]"
   ]
  },
  {
   "cell_type": "markdown",
   "metadata": {},
   "source": [
    "Se calculan las $f_{n}$."
   ]
  },
  {
   "cell_type": "code",
   "execution_count": 15,
   "metadata": {
    "collapsed": false
   },
   "outputs": [
    {
     "data": {
      "text/plain": [
       "fn (generic function with 1 method)"
      ]
     },
     "execution_count": 15,
     "metadata": {},
     "output_type": "execute_result"
    }
   ],
   "source": [
    "function fn(c::Array)\n",
    "    fn=Float64[]\n",
    "    for i in 1:length(cs)-2\n",
    "        x=(c[i]-c[i+1])/(c[i+1]-c[i+2])\n",
    "        push!(fn,x)\n",
    "    end\n",
    "    fn\n",
    "end"
   ]
  },
  {
   "cell_type": "code",
   "execution_count": 16,
   "metadata": {
    "collapsed": false
   },
   "outputs": [
    {
     "data": {
      "text/plain": [
       "4-element Array{Float64,1}:\n",
       " 3.21851\n",
       " 4.38568\n",
       " 4.60095\n",
       " 4.65513"
      ]
     },
     "execution_count": 16,
     "metadata": {},
     "output_type": "execute_result"
    }
   ],
   "source": [
    "fn(cs)"
   ]
  },
  {
   "cell_type": "markdown",
   "metadata": {},
   "source": [
    "Vemos que los números $f_{n}$'s convergen al núemro de Feigenbaum $4.6692$"
   ]
  },
  {
   "cell_type": "markdown",
   "metadata": {},
   "source": [
    "Se utilza la función de la tarea4 para calcular las $d_{n}$'s."
   ]
  },
  {
   "cell_type": "code",
   "execution_count": 17,
   "metadata": {
    "collapsed": false
   },
   "outputs": [
    {
     "data": {
      "text/plain": [
       "d_n (generic function with 1 method)"
      ]
     },
     "execution_count": 17,
     "metadata": {},
     "output_type": "execute_result"
    }
   ],
   "source": [
    "function d_n(a::Array)\n",
    "    d=Float64[]\n",
    "    for i in 2:length(a)\n",
    "        y=minabs(deleteat!(iterandoando(x->Qc_p1(x,a[i]),0.0,(2^(i-1))-1),1))\n",
    "        push!(d,y)\n",
    "    end\n",
    "    d\n",
    "end"
   ]
  },
  {
   "cell_type": "markdown",
   "metadata": {
    "collapsed": false
   },
   "source": [
    "Iterémos n veces una función f cualquiera dada una condición inicial $x_{0}$."
   ]
  },
  {
   "cell_type": "code",
   "execution_count": 18,
   "metadata": {
    "collapsed": false
   },
   "outputs": [
    {
     "data": {
      "text/plain": [
       "iterandoando (generic function with 1 method)"
      ]
     },
     "execution_count": 18,
     "metadata": {},
     "output_type": "execute_result"
    }
   ],
   "source": [
    "function iterandoando(f::Function,x0::Float64,n::Int64)\n",
    "    ev = Float64[x0]\n",
    "    x=x0\n",
    "    for i in 1:n\n",
    "        x=f(x)\n",
    "        push!(ev,x)\n",
    "    end\n",
    "    ev\n",
    "end"
   ]
  },
  {
   "cell_type": "code",
   "execution_count": 19,
   "metadata": {
    "collapsed": false
   },
   "outputs": [
    {
     "data": {
      "text/plain": [
       "5-element Array{Float64,1}:\n",
       " 1.0      \n",
       " 0.407239 \n",
       " 0.163425 \n",
       " 0.0653634\n",
       " 0.0261213"
      ]
     },
     "execution_count": 19,
     "metadata": {},
     "output_type": "execute_result"
    }
   ],
   "source": [
    "d_n(cs)"
   ]
  },
  {
   "cell_type": "markdown",
   "metadata": {},
   "source": [
    "Se utilza la función de la tarea4 para calcular las $a_{n}$'s"
   ]
  },
  {
   "cell_type": "code",
   "execution_count": 20,
   "metadata": {
    "collapsed": false
   },
   "outputs": [
    {
     "data": {
      "text/plain": [
       "suc2 (generic function with 1 method)"
      ]
     },
     "execution_count": 20,
     "metadata": {},
     "output_type": "execute_result"
    }
   ],
   "source": [
    "function suc2(a::Array)\n",
    "    coc=Float64[]\n",
    "    for i in 1:length(a)-1\n",
    "        d=a[i]/a[i+1]\n",
    "        push!(coc,d)\n",
    "    end\n",
    "    coc\n",
    "end"
   ]
  },
  {
   "cell_type": "code",
   "execution_count": 21,
   "metadata": {
    "collapsed": false
   },
   "outputs": [
    {
     "data": {
      "text/plain": [
       "4-element Array{Float64,1}:\n",
       " 2.45556\n",
       " 2.49189\n",
       " 2.50026\n",
       " 2.50231"
      ]
     },
     "execution_count": 21,
     "metadata": {},
     "output_type": "execute_result"
    }
   ],
   "source": [
    "suc2(d_n(cs))"
   ]
  },
  {
   "cell_type": "markdown",
   "metadata": {},
   "source": [
    "Se observa que la suseción converge a $2.5029$, el cual es la segunda constante de Feigenbaum."
   ]
  },
  {
   "cell_type": "markdown",
   "metadata": {},
   "source": [
    "**Ejercicio 5:**\n",
    "\n",
    "- Usando el análisis gráfico para un valor de $c$ *ligeramente* anterior al punto donde se observa la ventana de periodo 3 para la familia $Q_c(x)$, y uno en la ventana de periodo 3, concluyan el tipo de bifurcación que se observa.\n",
    "\n",
    "- Comparen la dinámica para ambos valores de $c$ del inciso anterior. ¿Cómo es el exponente de Liapunov en cada caso?\n",
    "\n",
    "- Encuentren el valor de $c$ donde se da el ciclo superestable de periodo 3. (Nuevamente, ayuden al método de Newton con una buena semilla inicial para $c$.) Demuestren que para este valor de $c$ el mapeo $Q_c^3(x)$ tiene *ocho* puntos fijos, donde dos de ellos son puntos fijos de $Q_c(x)$, y los otros 6 forman dos secuencias periódicas, de periodo 3 en $Q_c(x)$, una de ellas estable y la otra inestable.\n",
    "\n",
    "(Los siguientes incisos usan el valor de $c$ encontrado en el inciso anterior.)\n",
    "\n",
    "- Denotando al ciclo inestable de periodo 3 como $\\alpha\\mapsto \\beta\\mapsto\\gamma$, con $\\gamma<\\beta<\\alpha$, uno puede asociar a cada uno de estos valores un valor $\\hat\\alpha, \\hat\\beta, \\hat\\gamma$, tales que $Q_c^3(\\hat\\alpha)=\\alpha$, $Q_c^3(\\hat\\beta)=\\beta$, $Q_c^3(\\hat\\gamma)=\\gamma$. ¿Qué podemos concluir de un punto que cae en cualquiera de los intervalos $[\\alpha,\\hat\\alpha]$, $[\\beta,\\hat\\beta]$ y $[\\hat\\gamma,\\gamma]$, en términos de los iterados sucesivos?\n",
    "\n",
    "- Definiendo los intervalos $I_0=[\\hat\\beta, \\alpha]$, $I_1=[\\gamma,\\beta]$, mostrar que bajo la acción de $Q_c(x)$ se cumple: (i) $Q_c(I_0) \\supset I_1$, y (ii) $Q_c(I_1) \\supset I_0\\cup I_1$. ¿Qué propiedad *importante* de $Q_c(x)$ se utiliza aquí?\n",
    "\n",
    "(Los intervalos $I_0$ e $I_1$, y estas propiedades, son básicos en la demostración del teorema \"periodo tres implica caos\".)"
   ]
  },
  {
   "cell_type": "markdown",
   "metadata": {},
   "source": [
    "# Solución"
   ]
  },
  {
   "cell_type": "markdown",
   "metadata": {},
   "source": [
    "Se utilizan las funciones del notebook 8 para poder mostrar la dinámica del mapeo cuadrático en la ventana de periodo 3."
   ]
  },
  {
   "cell_type": "code",
   "execution_count": 22,
   "metadata": {
    "collapsed": false
   },
   "outputs": [
    {
     "data": {
      "text/plain": [
       "ciclosestables! (generic function with 1 method)"
      ]
     },
     "execution_count": 22,
     "metadata": {},
     "output_type": "execute_result"
    }
   ],
   "source": [
    "function ciclosestables!(xx, f, nit, nout, cc)\n",
    "    @assert nit > 0 && nout > 0\n",
    "    \n",
    "    # Primeros nit iterados\n",
    "    x0 = 0.0\n",
    "    for it = 1:nit\n",
    "        x0 = f(x0, cc)\n",
    "    end\n",
    "    \n",
    "    # Se guardan los siguientes nout iterados\n",
    "    for it = 1:nout\n",
    "        x0 = f(x0, cc)\n",
    "        @inbounds xx[it] = x0\n",
    "    end\n",
    "    \n",
    "    nothing\n",
    "end"
   ]
  },
  {
   "cell_type": "code",
   "execution_count": 23,
   "metadata": {
    "collapsed": false
   },
   "outputs": [
    {
     "data": {
      "text/plain": [
       "diagbifurc (generic function with 1 method)"
      ]
     },
     "execution_count": 23,
     "metadata": {},
     "output_type": "execute_result"
    }
   ],
   "source": [
    "function diagbifurc(f, nit, nout, crange)\n",
    "    xx = Vector{Float64}(nout)\n",
    "    ff = Array{Float64,2}(nout, length(crange))\n",
    "    \n",
    "    for ic in eachindex(crange)\n",
    "        c = crange[ic]\n",
    "        ciclosestables!(xx, f, nit, nout, c)\n",
    "        ff[:,ic] = xx\n",
    "    end\n",
    "    \n",
    "    return ff\n",
    "end"
   ]
  },
  {
   "cell_type": "code",
   "execution_count": 24,
   "metadata": {
    "collapsed": false
   },
   "outputs": [
    {
     "data": {
      "text/plain": [
       "Qc_ns (generic function with 1 method)"
      ]
     },
     "execution_count": 24,
     "metadata": {},
     "output_type": "execute_result"
    }
   ],
   "source": [
    "function Qc_ns(x, args)\n",
    "    c, n = args[1], args[2]\n",
    "    @assert n >= 0 && isa(n,Int)\n",
    "    n <= 1 && return Qc_p1(x,c)\n",
    "    for it = 1:n\n",
    "        x = Qc_p1(x,c)\n",
    "        @show x\n",
    "    end\n",
    "    return x\n",
    "end"
   ]
  },
  {
   "cell_type": "markdown",
   "metadata": {},
   "source": [
    "Se mapea la dinámica en el rango de $C$ para la ventana de periodo 3 "
   ]
  },
  {
   "cell_type": "code",
   "execution_count": 25,
   "metadata": {
    "collapsed": false
   },
   "outputs": [],
   "source": [
    "crange_1 = -1.74:-1/2^13:-1.8\n",
    "\n",
    "ff = diagbifurc(Qc_p1, 10000, 100, crange_1); \n",
    "cc = ones(size(ff)[1])*crange_1';\n",
    "\n",
    "# Esto cambia las matrices en vectores; ayuda un poco para los dibujos\n",
    "ff = reshape(ff, size(ff)[1]*size(ff)[2]);\n",
    "cc = reshape(cc, size(ff));"
   ]
  },
  {
   "cell_type": "code",
   "execution_count": 26,
   "metadata": {
    "collapsed": false
   },
   "outputs": [
    {
     "data": {
      "image/png": "[encoded data removed]",
      "text/plain": [
       "PyPlot.Figure(PyObject <matplotlib.figure.Figure object at 0x7fc83f08eef0>)"
      ]
     },
     "metadata": {},
     "output_type": "display_data"
    },
    {
     "data": {
      "text/plain": [
       "PyObject <matplotlib.text.Text object at 0x7fc82c3fb9b0>"
      ]
     },
     "execution_count": 26,
     "metadata": {},
     "output_type": "execute_result"
    }
   ],
   "source": [
    "figure(figsize=(6,4))\n",
    "plot(cc, ff, \"b,\")\n",
    "#plot([-1.2,-1.5,-1.5,-1.2,-1.2],[-1.5,-1.5,-0.9,-0.9,-1.5], \"k-\")\n",
    "#plot([-2,0.5],[0.0,0.0], \"r-\")\n",
    "xlabel(L\"c\")\n",
    "ylabel(L\"x_\\infty\")\n",
    "title(\"Fig. 1\")"
   ]
  },
  {
   "cell_type": "markdown",
   "metadata": {},
   "source": [
    "Según la figura de arriba, $C_1=-1.765$ es un punto antes de la bifurcación y $C_2=-1.775$ es un punto dentro de la bifurcación.  "
   ]
  },
  {
   "cell_type": "code",
   "execution_count": 27,
   "metadata": {
    "collapsed": false
   },
   "outputs": [
    {
     "name": "stdout",
     "output_type": "stream",
     "text": [
      "x = -1.765\n",
      "x = 1.3502249999999998\n",
      "x = 0.058107550624999504\n",
      "x = -1.761623512560363\n",
      "x = 1.3383174000055116\n",
      "x = 0.026093463157512486\n",
      "x = -1.7643191311804474\n",
      "x = 1.3478219966493288\n",
      "x = 0.05162413465178339\n",
      "x = -1.7623349487214544\n"
     ]
    },
    {
     "name": "stderr",
     "output_type": "stream",
     "text": [
      "WARNING: Base.writemime is deprecated.\n",
      "  likely near /home/pablorv/.julia/v0.5/IJulia/src/kernel.jl:31\n",
      "WARNING: Base.writemime is deprecated.\n",
      "  likely near /home/pablorv/.julia/v0.5/IJulia/src/kernel.jl:31\n",
      "WARNING: Base.writemime is deprecated.\n",
      "  likely near /home/pablorv/.julia/v0.5/IJulia/src/kernel.jl:31\n",
      "WARNING: Base.writemime is deprecated.\n",
      "  likely near /home/pablorv/.julia/v0.5/IJulia/src/kernel.jl:31\n",
      "WARNING: Base.writemime is deprecated.\n",
      "  likely near /home/pablorv/.julia/v0.5/IJulia/src/kernel.jl:31\n",
      "WARNING: Base.writemime is deprecated.\n",
      "  likely near /home/pablorv/.julia/v0.5/IJulia/src/kernel.jl:31\n",
      "WARNING: Base.writemime is deprecated.\n",
      "  likely near /home/pablorv/.julia/v0.5/IJulia/src/kernel.jl:31\n",
      "WARNING: Base.writemime is deprecated.\n",
      "  likely near /home/pablorv/.julia/v0.5/IJulia/src/kernel.jl:31\n",
      "WARNING: Base.writemime is deprecated.\n",
      "  likely near /home/pablorv/.julia/v0.5/IJulia/src/kernel.jl:31\n",
      "WARNING: Base.writemime is deprecated.\n",
      "  likely near /home/pablorv/.julia/v0.5/IJulia/src/kernel.jl:31\n",
      "WARNING: Base.writemime is deprecated.\n",
      "  likely near /home/pablorv/.julia/v0.5/IJulia/src/kernel.jl:31\n",
      "WARNING: Base.writemime is deprecated.\n",
      "  likely near /home/pablorv/.julia/v0.5/IJulia/src/kernel.jl:31\n",
      "WARNING: Base.writemime is deprecated.\n",
      "  likely near /home/pablorv/.julia/v0.5/IJulia/src/kernel.jl:31\n",
      "in show at /home/pablorv/.julia/v0.5/PyCall/src/PyCall.jl\n",
      "WARNING: Base.writemime is deprecated.\n",
      "  likely near /home/pablorv/.julia/v0.5/IJulia/src/kernel.jl:31\n",
      "in show at /home/pablorv/.julia/v0.5/PyCall/src/PyCall.jl\n",
      "WARNING: Base.writemime is deprecated.\n",
      "  likely near /home/pablorv/.julia/v0.5/IJulia/src/kernel.jl:31\n",
      "in show at /home/pablorv/.julia/v0.5/PyCall/src/PyCall.jl\n",
      "WARNING: Base.writemime is deprecated.\n",
      "  likely near /home/pablorv/.julia/v0.5/IJulia/src/kernel.jl:31\n",
      "in show at /home/pablorv/.julia/v0.5/PyCall/src/PyCall.jl\n",
      "WARNING: Base.writemime is deprecated.\n",
      "  likely near /home/pablorv/.julia/v0.5/IJulia/src/kernel.jl:31\n",
      "in show at /home/pablorv/.julia/v0.5/PyCall/src/PyCall.jl\n",
      "WARNING: Base.writemime is deprecated.\n",
      "  likely near /home/pablorv/.julia/v0.5/IJulia/src/kernel.jl:31\n",
      "in show at /home/pablorv/.julia/v0.5/PyCall/src/PyCall.jl\n",
      "WARNING: Base.writemime is deprecated.\n",
      "  likely near /home/pablorv/.julia/v0.5/IJulia/src/kernel.jl:31\n",
      "in show at /home/pablorv/.julia/v0.5/PyCall/src/PyCall.jl\n",
      "WARNING: Base.writemime is deprecated.\n",
      "  likely near /home/pablorv/.julia/v0.5/IJulia/src/kernel.jl:31\n",
      "in show at /home/pablorv/.julia/v0.5/PyCall/src/PyCall.jl\n",
      "WARNING: Base.writemime is deprecated.\n",
      "  likely near /home/pablorv/.julia/v0.5/IJulia/src/kernel.jl:31\n",
      "in show at /home/pablorv/.julia/v0.5/PyCall/src/PyCall.jl\n",
      "WARNING: Base.writemime is deprecated.\n",
      "  likely near /home/pablorv/.julia/v0.5/IJulia/src/kernel.jl:31\n",
      "in show at /home/pablorv/.julia/v0.5/PyCall/src/PyCall.jl\n",
      "WARNING: Base.writemime is deprecated.\n",
      "  likely near /home/pablorv/.julia/v0.5/IJulia/src/kernel.jl:31\n",
      "in show at /home/pablorv/.julia/v0.5/PyCall/src/PyCall.jl\n",
      "WARNING: Base.writemime is deprecated.\n",
      "  likely near /home/pablorv/.julia/v0.5/IJulia/src/kernel.jl:31\n",
      "in show at /home/pablorv/.julia/v0.5/PyCall/src/PyCall.jl\n"
     ]
    },
    {
     "data": {
      "text/plain": [
       "-1.7623349487214544"
      ]
     },
     "execution_count": 27,
     "metadata": {},
     "output_type": "execute_result"
    }
   ],
   "source": [
    "Qc_ns(0.0,(-1.765,10))"
   ]
  },
  {
   "cell_type": "code",
   "execution_count": 28,
   "metadata": {
    "collapsed": false
   },
   "outputs": [
    {
     "name": "stdout",
     "output_type": "stream",
     "text": [
      "x = -1.775\n",
      "x = 1.3756249999999999\n",
      "x = 0.11734414062499976\n",
      "x = -1.7612303526609803\n",
      "x = 1.3269323551343208\n",
      "x = -0.014250524897684524\n",
      "x = -1.7747969225401403\n",
      "x = 1.374904116257953\n",
      "x = 0.11536132890306261\n",
      "x = -1.7616917637937193\n"
     ]
    },
    {
     "data": {
      "text/plain": [
       "-1.7616917637937193"
      ]
     },
     "execution_count": 28,
     "metadata": {},
     "output_type": "execute_result"
    }
   ],
   "source": [
    "Qc_ns(0.0,(-1.775,10))"
   ]
  },
  {
   "cell_type": "markdown",
   "metadata": {},
   "source": [
    "Como se puede observar, las iteraciones de $Q_c$ en $C_1$ son de periodo tres y en $C_2$ son de periodo seis. "
   ]
  },
  {
   "cell_type": "markdown",
   "metadata": {},
   "source": [
    "A continuación se calculan los exponentes de Lyapunov en $C\\in[-1.8,-1.74]$ utilizando la paquetería $Taylorseries$."
   ]
  },
  {
   "cell_type": "code",
   "execution_count": 29,
   "metadata": {
    "collapsed": false
   },
   "outputs": [
    {
     "data": {
      "text/plain": [
       "exponentes_1 (generic function with 1 method)"
      ]
     },
     "execution_count": 29,
     "metadata": {},
     "output_type": "execute_result"
    }
   ],
   "source": [
    "function exponentes_1(ev::Array,f::Function)\n",
    "    n=length(ev)\n",
    "    lambda=0\n",
    "    t = Taylor1(1)\n",
    "    for i in 1:n\n",
    "        fT = f(ev[i]+t)\n",
    "        sumando=abs(fT.coeffs[2])\n",
    "        lambda=lambda + log(sumando)\n",
    "    end\n",
    "    lambda/n\n",
    "end\n"
   ]
  },
  {
   "cell_type": "code",
   "execution_count": 30,
   "metadata": {
    "collapsed": false
   },
   "outputs": [
    {
     "data": {
      "text/plain": [
       "explyap (generic function with 1 method)"
      ]
     },
     "execution_count": 30,
     "metadata": {},
     "output_type": "execute_result"
    }
   ],
   "source": [
    "function explyap(Qc::Function,x0::Float64,crange::FloatRange,n::Int64)\n",
    "    evaluacion=Float64[]\n",
    "    valordec=Float64[]\n",
    "    for i in crange\n",
    "        Qci(x)=Qc(x,i)\n",
    "        ev=iterandoando(Qci,x0,n)\n",
    "        lambda=exponentes_1(ev,Qci)\n",
    "            if abs(lambda)<Inf\n",
    "                push!(evaluacion,lambda)\n",
    "            else\n",
    "                push!(evaluacion,-10)       \n",
    "          end\n",
    "    end \n",
    "    for i in 1:length(evaluacion)\n",
    "        push!(valordec,crange[i])\n",
    "    end\n",
    "    evaluacion,valordec\n",
    "end"
   ]
  },
  {
   "cell_type": "code",
   "execution_count": 31,
   "metadata": {
    "collapsed": false
   },
   "outputs": [
    {
     "data": {
      "text/plain": [
       "([0.420117,0.426695,0.414884,0.426649,0.420359,0.430406,0.428387,0.427354,0.426715,0.434811  …  0.411835,0.409198,0.414093,0.410869,0.416821,0.41195,0.41224,0.413175,0.408489,0.411643],[-1.74,-1.74012,-1.74024,-1.74037,-1.74049,-1.74061,-1.74073,-1.74085,-1.74098,-1.7411  …  -1.79884,-1.79896,-1.79908,-1.7992,-1.79933,-1.79945,-1.79957,-1.79969,-1.79981,-1.79994])"
      ]
     },
     "execution_count": 31,
     "metadata": {},
     "output_type": "execute_result"
    }
   ],
   "source": [
    "crange_2 = -1.74:-1/2^13:-1.8\n",
    "func_1,c_1= explyap(Qc_p1,1.0,crange_2,10000)"
   ]
  },
  {
   "cell_type": "code",
   "execution_count": 32,
   "metadata": {
    "collapsed": false
   },
   "outputs": [
    {
     "data": {
      "image/png": "[encoded data removed]",
      "text/plain": [
       "PyPlot.Figure(PyObject <matplotlib.figure.Figure object at 0x7fc83f08eb70>)"
      ]
     },
     "metadata": {},
     "output_type": "display_data"
    }
   ],
   "source": [
    "plot(c_1, func_1)\n",
    "plot([-1.745,  -1.8], [0, 0])\n",
    "#plot([-1.25,  -1.25], [1, -1])\n",
    "xlabel(L\"c\")\n",
    "ylabel(L\"\\lambda(c)\")\n",
    "grid(true)\n",
    "title(L\"Exponentes de Lyapunov de $Q_c(x)= x^2 +c$ con $c\\in [ -1.8, -1.745]$\")\n",
    "ylim(-2.5,0.5)\n",
    "show()"
   ]
  },
  {
   "cell_type": "markdown",
   "metadata": {},
   "source": [
    "En la figura anterior se puede observar que para $C=-1.75$ y $C\\approx-1.769$, los exponenetes de Lyapunov son cero, y en estos lugares se dan las bifurcaciones de periodo tres y seis respectivamente. Se puede notar también que después de cada bifrucación se tiene un mínimo que corresponde a los puntos súper estables. "
   ]
  },
  {
   "cell_type": "markdown",
   "metadata": {},
   "source": [
    "A continuación se calcula el punto súper estable de periodo tres."
   ]
  },
  {
   "cell_type": "code",
   "execution_count": 33,
   "metadata": {
    "collapsed": false
   },
   "outputs": [
    {
     "data": {
      "text/plain": [
       "-1.7548776662466927"
      ]
     },
     "execution_count": 33,
     "metadata": {},
     "output_type": "execute_result"
    }
   ],
   "source": [
    "Q3c = c -> Qc_n(0.0, (c, 3))\n",
    "C3_1 = roots_newton(Q3c, -1.4)"
   ]
  },
  {
   "cell_type": "markdown",
   "metadata": {},
   "source": [
    "$C=-1.7548776662466927$ es el punto súper estable de periodo tres. A continuación se presenta gráficamente que ..."
   ]
  },
  {
   "cell_type": "code",
   "execution_count": 34,
   "metadata": {
    "collapsed": false
   },
   "outputs": [
    {
     "data": {
      "image/png": "[encoded data removed]",
      "text/plain": [
       "PyPlot.Figure(PyObject <matplotlib.figure.Figure object at 0x7fc82c46c780>)"
      ]
     },
     "metadata": {},
     "output_type": "display_data"
    },
    {
     "data": {
      "text/plain": [
       "PyObject <matplotlib.legend.Legend object at 0x7fc8291905c0>"
      ]
     },
     "execution_count": 34,
     "metadata": {},
     "output_type": "execute_result"
    }
   ],
   "source": [
    "xrange =-3:0.0001:3\n",
    "Qc_1(x)=Qc_n(x,(C3_1,1))\n",
    "Qc_3(x)=Qc_n(x,(C3_1,3))\n",
    "plot(xrange, [Qc_1(i) for i in xrange],  label=\"Qc_1\")\n",
    "plot(xrange, [Qc_3(i) for i in xrange],  label=\"Qc_3\")\n",
    "plot(xrange,xrange, label=\"Id\")\n",
    "ylim(-2.0,2)\n",
    "xlim(-2,2)\n",
    "xlabel(L\"x\")\n",
    "ylabel(L\"Qc(x)\")\n",
    "grid(true)\n",
    "title(L\"Intersección de $Q_c$ con periodo 1 y 3 para $C=-1.754877..$\")\n",
    "legend(loc=\"upper left\") "
   ]
  },
  {
   "cell_type": "markdown",
   "metadata": {},
   "source": [
    "En la figura, a simple vista se pueden observar cinco intersecciones. Si se hace un sum en los intervalos: $x\\in[-1.8,-1.7]$ y $x\\in[-0.5,1.5]$ se observa lo siguiente. "
   ]
  },
  {
   "cell_type": "code",
   "execution_count": 35,
   "metadata": {
    "collapsed": false
   },
   "outputs": [
    {
     "data": {
      "image/png": "[encoded data removed]",
      "text/plain": [
       "PyPlot.Figure(PyObject <matplotlib.figure.Figure object at 0x7fc82be0da58>)"
      ]
     },
     "metadata": {},
     "output_type": "display_data"
    },
    {
     "data": {
      "text/plain": [
       "PyObject <matplotlib.legend.Legend object at 0x7fc82919a4e0>"
      ]
     },
     "execution_count": 35,
     "metadata": {},
     "output_type": "execute_result"
    }
   ],
   "source": [
    "plot(xrange, [Qc_1(i) for i in xrange],  label=\"Qc_1\")\n",
    "plot(xrange, [Qc_3(i) for i in xrange],  label=\"Qc_3\")\n",
    "plot(xrange,xrange, label=\"Id\")\n",
    "ylim(-1.8,-1.7)\n",
    "xlim(-1.8,-1.7)\n",
    "xlabel(L\"x\")\n",
    "ylabel(L\"Qc(x)\")\n",
    "grid(true)\n",
    "title(L\"Zoom sobre el intervalo $x\\in[-1.8,-1.7]$\")\n",
    "legend(loc=\"upper left\") "
   ]
  },
  {
   "cell_type": "code",
   "execution_count": 36,
   "metadata": {
    "collapsed": false
   },
   "outputs": [
    {
     "data": {
      "image/png": "[encoded data removed]",
      "text/plain": [
       "PyPlot.Figure(PyObject <matplotlib.figure.Figure object at 0x7fc8291a1be0>)"
      ]
     },
     "metadata": {},
     "output_type": "display_data"
    },
    {
     "data": {
      "text/plain": [
       "PyObject <matplotlib.legend.Legend object at 0x7fc828f7a6a0>"
      ]
     },
     "execution_count": 36,
     "metadata": {},
     "output_type": "execute_result"
    }
   ],
   "source": [
    "plot(xrange, [Qc_1(i) for i in xrange],  label=\"Qc_1\")\n",
    "plot(xrange, [Qc_3(i) for i in xrange],  label=\"Qc_3\")\n",
    "plot(xrange,xrange, label=\"Id\")\n",
    "ylim(-0.25,1.5)\n",
    "xlim(-0.25,1.5)\n",
    "xlabel(L\"x\")\n",
    "ylabel(L\"Qc(x)\")\n",
    "grid(true)\n",
    "title(L\"Zoom sobre el intervalo $x\\in[-0.25,1.5]$\")\n",
    "legend(loc=\"upper left\")"
   ]
  },
  {
   "cell_type": "markdown",
   "metadata": {},
   "source": [
    "Las intersecciones en dichos intervalos se produce en dos lugares, por lo que el número total de puntos fijos para $Q_{c}^{3}$ es $8$. Seis pertenecen exclusivamente a $Q_{c}^{3}$, como lo muestran las dos figuras anteriores, y dos se comparten con $Q_{c}^{1}$. "
   ]
  },
  {
   "cell_type": "markdown",
   "metadata": {},
   "source": [
    "A continuación se calculan dichos puntos fijos."
   ]
  },
  {
   "cell_type": "code",
   "execution_count": 37,
   "metadata": {
    "collapsed": false
   },
   "outputs": [
    {
     "data": {
      "text/plain": [
       "8-element Array{Float64,1}:\n",
       " -1.75488    \n",
       " -1.74285    \n",
       " -0.915937   \n",
       " -0.10965    \n",
       "  2.22045e-16\n",
       "  1.28266    \n",
       "  1.32472    \n",
       "  1.91594    "
      ]
     },
     "execution_count": 37,
     "metadata": {},
     "output_type": "execute_result"
    }
   ],
   "source": [
    "fpq3(x)=Qc_3(x)-x\n",
    "pQc3=Float64[]\n",
    "condin=[-1.76,-1.74, -1.0, -0.125, 0.0, 1.3, 1.4, 2.0]\n",
    "for i in condin\n",
    "    p=roots_newton(fpq3,i)\n",
    "    push!(pQc3,p)\n",
    "end\n",
    "pQc3"
   ]
  },
  {
   "cell_type": "markdown",
   "metadata": {},
   "source": [
    "Los puntos fijos compartidos son $-0.915937$ y $1.91594$. Utilizando el criterio: $|Q_{c}^{3'}(x)|<1$ es estable, $|Q_{c}^{3'}(x)|>1$ es inestable, se analiza la estabilidad de los puntos fijos obtenidos.  "
   ]
  },
  {
   "cell_type": "code",
   "execution_count": 38,
   "metadata": {
    "collapsed": false
   },
   "outputs": [
    {
     "data": {
      "text/plain": [
       "estabilidad (generic function with 1 method)"
      ]
     },
     "execution_count": 38,
     "metadata": {},
     "output_type": "execute_result"
    }
   ],
   "source": [
    "function estabilidad(a::Array,f)\n",
    "    est=Float64[]\n",
    "    t = Taylor1(1)\n",
    "    for i in a\n",
    "        fT = f(i+t)\n",
    "        push!(est,abs(fT.coeffs[2]))\n",
    "    end\n",
    "    est\n",
    "end\n",
    "        "
   ]
  },
  {
   "cell_type": "code",
   "execution_count": 39,
   "metadata": {
    "collapsed": false
   },
   "outputs": [
    {
     "data": {
      "text/plain": [
       "8-element Array{Float64,1}:\n",
       "  4.12953e-15\n",
       "  1.96098    \n",
       "  6.14733    \n",
       "  1.96098    \n",
       "  4.12953e-15\n",
       "  1.96098    \n",
       "  4.12953e-15\n",
       " 56.2644     "
      ]
     },
     "execution_count": 39,
     "metadata": {},
     "output_type": "execute_result"
    }
   ],
   "source": [
    "eQc3=estabilidad(pQc3,Qc_3)"
   ]
  },
  {
   "cell_type": "markdown",
   "metadata": {},
   "source": [
    "| Punto fijo  |      $|Q_{c}^{3'}(x)|$    |  Criterio |\n",
    "|----------|:-------------:|------:|\n",
    "| -1.75488  | 4.12953e-15 | estable |\n",
    "| -1.74285 |    1.96098    |  inestable |\n",
    "| -0.915937  | 6.14733 |  inestable |\n",
    "| -0.10965 | 1.96098 |  inestable |\n",
    "| 2.22045e-16 | 4.12953e-15 |  estable |\n",
    "| 1.28266  | 1.96098  |  inestable |\n",
    "| 1.32472 | 4.12953e-15 |  estable |\n",
    "| 1.91594 | 56.2644 |  inestable  |"
   ]
  },
  {
   "cell_type": "markdown",
   "metadata": {},
   "source": [
    "A continuación se analiza la periodicidad del mapeo $Q_{c}^{3}$ con $C=-1.7548776662466927$ utilizando como condición inicial a un punto inestable y uno estable de la tabla anterior."
   ]
  },
  {
   "cell_type": "code",
   "execution_count": 40,
   "metadata": {
    "collapsed": false
   },
   "outputs": [
    {
     "name": "stdout",
     "output_type": "stream",
     "text": [
      "x = 1.324717957244746\n",
      "x = 2.220446049250313e-16\n",
      "x = -1.7548776662466927\n",
      "x = 1.324717957244746\n"
     ]
    },
    {
     "data": {
      "text/plain": [
       "1.324717957244746"
      ]
     },
     "execution_count": 40,
     "metadata": {},
     "output_type": "execute_result"
    }
   ],
   "source": [
    "Qc_ns(pQc3[1],(C3_1,4))"
   ]
  },
  {
   "cell_type": "code",
   "execution_count": 41,
   "metadata": {
    "collapsed": false
   },
   "outputs": [
    {
     "name": "stdout",
     "output_type": "stream",
     "text": [
      "x = 1.2826642737997627\n",
      "x = -0.10965002696442028\n",
      "x = -1.7428545378333946\n",
      "x = 1.2826642737997627\n"
     ]
    },
    {
     "data": {
      "text/plain": [
       "1.2826642737997627"
      ]
     },
     "execution_count": 41,
     "metadata": {},
     "output_type": "execute_result"
    }
   ],
   "source": [
    "Qc_ns(pQc3[2],(C3_1,4))"
   ]
  },
  {
   "cell_type": "markdown",
   "metadata": {},
   "source": [
    "Como se puede observar, las órbitas generadas por dichos puntos son de periodo tres y además cada uno de los elementos de la órbita es un punto estable, si la condición inicial es un punto estable, y cada uno de los elementos es un punto inestable si la condición inicial también lo es.  "
   ]
  },
  {
   "cell_type": "markdown",
   "metadata": {
    "collapsed": true
   },
   "source": [
    "- Denotando al ciclo inestable de periodo 3 como $\\alpha\\mapsto \\beta\\mapsto\\gamma$, con $\\gamma<\\beta<\\alpha$, uno puede asociar a cada uno de estos valores un valor $\\hat\\alpha, \\hat\\beta, \\hat\\gamma$, tales que $Q_c^3(\\hat\\alpha)=\\alpha$, $Q_c^3(\\hat\\beta)=\\beta$, $Q_c^3(\\hat\\gamma)=\\gamma$. ¿Qué podemos concluir de un punto que cae en cualquiera de los intervalos $[\\alpha,\\hat\\alpha]$, $[\\beta,\\hat\\beta]$ y $[\\hat\\gamma,\\gamma]$, en términos de los iterados sucesivos?"
   ]
  },
  {
   "cell_type": "code",
   "execution_count": 42,
   "metadata": {
    "collapsed": false
   },
   "outputs": [
    {
     "data": {
      "text/plain": [
       "3-element Array{Float64,1}:\n",
       "  1.28266\n",
       " -0.10965\n",
       " -1.74285"
      ]
     },
     "execution_count": 42,
     "metadata": {},
     "output_type": "execute_result"
    }
   ],
   "source": [
    "ciclo_inestable=[pQc3[6],pQc3[4],pQc3[2]]"
   ]
  },
  {
   "cell_type": "markdown",
   "metadata": {},
   "source": [
    "Para poder obtener una mejor aproximación se usarán números *bigFloat64*."
   ]
  },
  {
   "cell_type": "code",
   "execution_count": 43,
   "metadata": {
    "collapsed": false
   },
   "outputs": [
    {
     "data": {
      "text/plain": [
       "3-element Array{BigFloat,1}:\n",
       "  1.282664273799762222338927131204400211572647094726562500000000000000000000000000    \n",
       " -1.096500269644213876318872280535288155078887939453125000000000000000000000000000e-01\n",
       " -1.742854537833394612533766121487133204936981201171875000000000000000000000000000    "
      ]
     },
     "execution_count": 43,
     "metadata": {},
     "output_type": "execute_result"
    }
   ],
   "source": [
    "big(ciclo_inestable)"
   ]
  },
  {
   "cell_type": "code",
   "execution_count": 44,
   "metadata": {
    "collapsed": false
   },
   "outputs": [
    {
     "data": {
      "text/plain": [
       "3-element Array{BigFloat,1}:\n",
       "  1.28266427379976206217865073202293302481898616293826055790235820495485712249527     \n",
       " -1.096500269644218481996643815085429373924328923262859585592362271965426050080587e-01\n",
       " -1.742854537833394728129886857541156085920822765140827507206859294539633372729714    "
      ]
     },
     "execution_count": 44,
     "metadata": {},
     "output_type": "execute_result"
    }
   ],
   "source": [
    "[Qc_3(big(ciclo_inestable)[1]), Qc_3(big(ciclo_inestable)[2]), Qc_3(big(ciclo_inestable)[3])]"
   ]
  },
  {
   "cell_type": "code",
   "execution_count": 45,
   "metadata": {
    "collapsed": false
   },
   "outputs": [
    {
     "data": {
      "text/plain": [
       "3-element Array{BigFloat,1}:\n",
       " -1.60160276399181467186753660931788301942097641795045142877504730347476539007862e-16 \n",
       " -4.605677771534550141218845440983809734585592362271965426050080586635159529038346e-16\n",
       " -1.155961207360540228809838415639689525072068592945396333727297135595260500102369e-16"
      ]
     },
     "execution_count": 45,
     "metadata": {},
     "output_type": "execute_result"
    }
   ],
   "source": [
    "[Qc_3(big(ciclo_inestable)[1]), Qc_3(big(ciclo_inestable)[2]), Qc_3(big(ciclo_inestable)[3])]-big(ciclo_inestable)"
   ]
  },
  {
   "cell_type": "markdown",
   "metadata": {
    "collapsed": true
   },
   "source": [
    "Se puede onservar que al iterar los elementos de *big(ciclo_inestable)* se llega casi al mismo punto; por lo que $\\hat\\alpha\\approx\\alpha$, $\\hat\\beta\\approx\\beta$ y $\\hat\\gamma\\approx\\gamma$. Entonces los puntos que caen dentro de los intervalos deben de caer en un ciclo inestable.  "
   ]
  },
  {
   "cell_type": "markdown",
   "metadata": {},
   "source": [
    "- Definiendo los intervalos $I_0=[\\hat\\beta, \\alpha]$, $I_1=[\\gamma,\\beta]$, mostrar que bajo la acción de $Q_c(x)$ se cumple: (i) $Q_c(I_0) \\supset I_1$, y (ii) $Q_c(I_1) \\supset I_0\\cup I_1$. ¿Qué propiedad *importante* de $Q_c(x)$ se utiliza aquí?"
   ]
  },
  {
   "cell_type": "markdown",
   "metadata": {},
   "source": [
    "Se definen los intervalos"
   ]
  },
  {
   "cell_type": "code",
   "execution_count": 46,
   "metadata": {
    "collapsed": false
   },
   "outputs": [
    {
     "data": {
      "text/plain": [
       "2-element Array{BigFloat,1}:\n",
       " -1.096500269644218481996643815085429373924328923262859585592362271965426050080587e-01\n",
       "  1.282664273799762222338927131204400211572647094726562500000000000000000000000000    "
      ]
     },
     "execution_count": 46,
     "metadata": {},
     "output_type": "execute_result"
    }
   ],
   "source": [
    "I0=[Qc_3(big(ciclo_inestable)[2]),big(ciclo_inestable)[1]]\n",
    "I0_ord=sort(I0)"
   ]
  },
  {
   "cell_type": "code",
   "execution_count": 47,
   "metadata": {
    "collapsed": false
   },
   "outputs": [
    {
     "data": {
      "text/plain": [
       "2-element Array{BigFloat,1}:\n",
       " -1.742854537833394612533766121487133204936981201171875000000000000000000000000000    \n",
       " -1.096500269644213876318872280535288155078887939453125000000000000000000000000000e-01"
      ]
     },
     "execution_count": 47,
     "metadata": {},
     "output_type": "execute_result"
    }
   ],
   "source": [
    "I1=[big(ciclo_inestable)[3],big(ciclo_inestable)[2]]\n",
    "I1_ord=sort(I1)"
   ]
  },
  {
   "cell_type": "markdown",
   "metadata": {},
   "source": [
    "# i)"
   ]
  },
  {
   "cell_type": "code",
   "execution_count": 48,
   "metadata": {
    "collapsed": false
   },
   "outputs": [
    {
     "data": {
      "text/plain": [
       "2-element Array{BigFloat,1}:\n",
       " -1.742854537833394286137401793348049573203339540370616742983106549802755360777166    \n",
       " -1.096500269644213359095655309072426266792346543205052288861547828829889894564076e-01"
      ]
     },
     "execution_count": 48,
     "metadata": {},
     "output_type": "execute_result"
    }
   ],
   "source": [
    "Qc_I0=[Qc_p1(Qc_3(big(ciclo_inestable)[2]),C3_1), Qc_p1(big(ciclo_inestable)[1],C3_1)]\n",
    "Qc_I0_ord=sort(Qc_I0)"
   ]
  },
  {
   "cell_type": "code",
   "execution_count": 49,
   "metadata": {
    "collapsed": false
   },
   "outputs": [
    {
     "data": {
      "text/plain": [
       "true"
      ]
     },
     "execution_count": 49,
     "metadata": {},
     "output_type": "execute_result"
    }
   ],
   "source": [
    "I1_ord[1] <= Qc_I0_ord[1]"
   ]
  },
  {
   "cell_type": "code",
   "execution_count": 50,
   "metadata": {
    "collapsed": false
   },
   "outputs": [
    {
     "data": {
      "text/plain": [
       "true"
      ]
     },
     "execution_count": 50,
     "metadata": {},
     "output_type": "execute_result"
    }
   ],
   "source": [
    "I1_ord[2] <= Qc_I0_ord[2]"
   ]
  },
  {
   "cell_type": "markdown",
   "metadata": {},
   "source": [
    "Vemos que el extremo izquierdo de $I1$ es mayor que el extremo izquierdo de $Qc_I0$ y que el extremo derecho de $I1$ es menor que el extremo derecho de $Qc_I0$, entones $I_1\\subset Q_c(I_0)$."
   ]
  },
  {
   "cell_type": "markdown",
   "metadata": {},
   "source": [
    "# ii)"
   ]
  },
  {
   "cell_type": "code",
   "execution_count": 51,
   "metadata": {
    "collapsed": false
   },
   "outputs": [
    {
     "data": {
      "text/plain": [
       "2-element Array{BigFloat,1}:\n",
       " -1.742854537833394387139940160988187754208491669349420409695087174836714005721205\n",
       "  1.282664273799762808298575481381515384965381025938997529953927191626039672200932"
      ]
     },
     "execution_count": 51,
     "metadata": {},
     "output_type": "execute_result"
    }
   ],
   "source": [
    "Qc_I1=[Qc_p1(big(ciclo_inestable)[3],C3_1), Qc_p1(big(ciclo_inestable)[2],C3_1)]\n",
    "Qc_I1_ord=sort(Qc_I1)"
   ]
  },
  {
   "cell_type": "markdown",
   "metadata": {},
   "source": [
    "$I_0\\cup I_1$ es:"
   ]
  },
  {
   "cell_type": "code",
   "execution_count": 52,
   "metadata": {
    "collapsed": false
   },
   "outputs": [
    {
     "data": {
      "text/plain": [
       "2-element Array{BigFloat,1}:\n",
       " -1.742854537833394612533766121487133204936981201171875000000000000000000000000000\n",
       "  1.282664273799762222338927131204400211572647094726562500000000000000000000000000"
      ]
     },
     "execution_count": 52,
     "metadata": {},
     "output_type": "execute_result"
    }
   ],
   "source": [
    "I0_u_I1=[I1_ord[1],I0_ord[2]]"
   ]
  },
  {
   "cell_type": "code",
   "execution_count": 53,
   "metadata": {
    "collapsed": false
   },
   "outputs": [
    {
     "data": {
      "text/plain": [
       "true"
      ]
     },
     "execution_count": 53,
     "metadata": {},
     "output_type": "execute_result"
    }
   ],
   "source": [
    "I0_u_I1[1] <= Qc_I1_ord[1]"
   ]
  },
  {
   "cell_type": "code",
   "execution_count": 54,
   "metadata": {
    "collapsed": false
   },
   "outputs": [
    {
     "data": {
      "text/plain": [
       "true"
      ]
     },
     "execution_count": 54,
     "metadata": {},
     "output_type": "execute_result"
    }
   ],
   "source": [
    "I0_u_I1[2] <= Qc_I1_ord[2]"
   ]
  },
  {
   "cell_type": "markdown",
   "metadata": {},
   "source": [
    "Vemos que el extremo izquierdo de $I_0uI_1$ es mayor que el extremo izquierdo de $Qc_I1$ y que el extremo derecho de $I_0uI_1$ es menor que el extremo derecho de $Qc_I1$, entones $I_0uI_1\\subset Q_c(I_1)$."
   ]
  },
  {
   "cell_type": "markdown",
   "metadata": {},
   "source": [
    "Vemos que como estamos en la órbita de periodo tres del ciclo inestable, $Q_c$ mapea los puntos de dicha órbita en sus mismo elementos, por lo que se recorren los valores como se mostró en el enunciado del ejercicio $\\alpha\\mapsto \\beta\\mapsto\\gamma$."
   ]
  },
  {
   "cell_type": "markdown",
   "metadata": {},
   "source": [
    "## Ejercicio 1\n",
    "\n",
    "Obtengan, para la familia de mapeos cuadrática $Q_c(x)$, el diagrama que muestra el exponente de Lyapunov en términos de $c$.\n",
    "\n",
    "- ¿Qué particularidad ocurre (en términos del exponente de Lyapunov) para los valores\n",
    "de $c$ donde hay bifurcaciones?\n",
    "\n",
    "- ¿Qué particularidad ocurre (en términos del exponente de Lyapunov) cuando tenemos *ciclos superestables*, es decir, cuando $x=0$ es parte de un ciclo periódico?"
   ]
  },
  {
   "cell_type": "code",
   "execution_count": 55,
   "metadata": {
    "collapsed": false
   },
   "outputs": [],
   "source": [
    "using Roots"
   ]
  },
  {
   "cell_type": "code",
   "execution_count": 56,
   "metadata": {
    "collapsed": false
   },
   "outputs": [
    {
     "name": "stderr",
     "output_type": "stream",
     "text": [
      "WARNING: Method definition *(#T<:Real, AD.Dual) in module AD at /home/pablorv/Desktop/TS/respaldo/tareas/pabloresendiz/Tarea5/AutomDiff_V2.jl:43 overwritten at /home/pablorv/Desktop/TS/respaldo/tareas/pabloresendiz/Tarea5/AutomDiff_V2.jl:53.\n"
     ]
    }
   ],
   "source": [
    "include(\"AutomDiff_V2.jl\")\n",
    "import AD: Dual, xdual"
   ]
  },
  {
   "cell_type": "markdown",
   "metadata": {},
   "source": [
    "Calculemos entonces los exponentes de Lyapunov de la función f:"
   ]
  },
  {
   "cell_type": "code",
   "execution_count": 57,
   "metadata": {
    "collapsed": false
   },
   "outputs": [
    {
     "data": {
      "text/plain": [
       "exponentes (generic function with 1 method)"
      ]
     },
     "execution_count": 57,
     "metadata": {},
     "output_type": "execute_result"
    }
   ],
   "source": [
    "function exponentes(ev::Array,f::Function)\n",
    "    n=length(ev)\n",
    "    lambda=0\n",
    "    for i in 1:n\n",
    "        sumando=abs((f(xdual(ev[i]))).der)\n",
    "        lambda=lambda + log(sumando)\n",
    "       # println(\"Valor del exponente en la iteración\")(i,lambda/i)\n",
    "    end\n",
    "    lambda/n\n",
    "end\n"
   ]
  },
  {
   "cell_type": "markdown",
   "metadata": {},
   "source": [
    "Ahora utilicemos las funciones antes creadas para obtener los exponentes  de nuestras $Q_{c}(x)$. Como queremos encontrar los mínimos de la función, sólo nos interesarán los exponentes de Lyapunov negativos."
   ]
  },
  {
   "cell_type": "code",
   "execution_count": 58,
   "metadata": {
    "collapsed": false
   },
   "outputs": [
    {
     "name": "stderr",
     "output_type": "stream",
     "text": [
      "WARNING: Method definition explyap(Function, Float64, Base.FloatRange, Int64) in module Main at In[30]:2 overwritten at In[58]:2.\n"
     ]
    },
    {
     "data": {
      "text/plain": [
       "explyap (generic function with 1 method)"
      ]
     },
     "execution_count": 58,
     "metadata": {},
     "output_type": "execute_result"
    }
   ],
   "source": [
    "function explyap(Qc::Function,x0::Float64,crange::FloatRange,n::Int64)\n",
    "    evaluacion=Float64[]\n",
    "    valordec=Float64[]\n",
    "    for i in crange\n",
    "        Qci(x)=Qc(x,i)\n",
    "        ev=iterandoando(Qci,x0,n)\n",
    "        lambda=exponentes(ev,Qci)\n",
    "        if lambda<=0\n",
    "            if abs(lambda)<Inf\n",
    "                push!(evaluacion,lambda)\n",
    "            else\n",
    "                push!(evaluacion,-10)       \n",
    "          end\n",
    "        else\n",
    "            break \n",
    "        end \n",
    "    end \n",
    "    for i in 1:length(evaluacion)\n",
    "        push!(valordec,crange[i])\n",
    "    end\n",
    "    evaluacion,valordec\n",
    "end"
   ]
  },
  {
   "cell_type": "code",
   "execution_count": 59,
   "metadata": {
    "collapsed": false,
    "scrolled": true
   },
   "outputs": [
    {
     "data": {
      "text/plain": [
       "Qc (generic function with 1 method)"
      ]
     },
     "execution_count": 59,
     "metadata": {},
     "output_type": "execute_result"
    }
   ],
   "source": [
    "Qc(x,c)=x^2+c"
   ]
  },
  {
   "cell_type": "code",
   "execution_count": 60,
   "metadata": {
    "collapsed": false
   },
   "outputs": [],
   "source": [
    "crange = -(0.75-1/2^16):-1/2^10:-1.405\n",
    "func,c= explyap(Qc,1.0,crange,10000);"
   ]
  },
  {
   "cell_type": "code",
   "execution_count": 61,
   "metadata": {
    "collapsed": false
   },
   "outputs": [
    {
     "data": {
      "image/png": "[encoded data removed]",
      "text/plain": [
       "PyPlot.Figure(PyObject <matplotlib.figure.Figure object at 0x7fc82be9b128>)"
      ]
     },
     "metadata": {},
     "output_type": "display_data"
    }
   ],
   "source": [
    "plot(c, func)\n",
    "plot([-0.75,  -0.75], [1, -1])\n",
    "plot([-1.25,  -1.25], [1, -1])\n",
    "xlabel(L\"c\")\n",
    "ylabel(L\"\\lambda(c)\")\n",
    "grid(true)\n",
    "title(L\"Exponentes de Lyapunov de $Q_c(x)= x^2 +c$\")\n",
    "ylim(-10,1.0)\n",
    "show()"
   ]
  },
  {
   "cell_type": "markdown",
   "metadata": {},
   "source": [
    "Ahora encontremos los valores de c para los que los exponentes se anulan:"
   ]
  },
  {
   "cell_type": "markdown",
   "metadata": {},
   "source": [
    "Los valores señalados son los valores de c de las bifurcaciones ya obtenidas previamente:\n",
    "$c_1=-1/4$ y $c_2=-3/4$. Y notamos que en estos valores, los exponentes de Lyapunov son cero. Por lo que se puede intuir que \n",
    "esta es la particularidad en los valores de bifurcación."
   ]
  },
  {
   "cell_type": "markdown",
   "metadata": {},
   "source": [
    "Tratemos de comprobarlo encontrando los valores de c para los cuales los exponentes se anulan."
   ]
  },
  {
   "cell_type": "markdown",
   "metadata": {},
   "source": [
    "Implementemos la siguiente función que enlista los ceros en el arreglo $evaluación$ antes definido."
   ]
  },
  {
   "cell_type": "code",
   "execution_count": 62,
   "metadata": {
    "collapsed": false
   },
   "outputs": [
    {
     "data": {
      "text/plain": [
       "ceros! (generic function with 1 method)"
      ]
     },
     "execution_count": 62,
     "metadata": {},
     "output_type": "execute_result"
    }
   ],
   "source": [
    "function ceros!(valores::Array,evaluaciones::Array,resultados::Array)\n",
    "    for i in 1:length(evaluaciones)\n",
    "        if abs(evaluaciones[i]) < 2e-4\n",
    "            push!(resultados,valores[i])\n",
    "        end\n",
    "    end \n",
    "    \n",
    "end"
   ]
  },
  {
   "cell_type": "code",
   "execution_count": 63,
   "metadata": {
    "collapsed": false
   },
   "outputs": [
    {
     "data": {
      "text/plain": [
       "0-element Array{Float64,1}"
      ]
     },
     "execution_count": 63,
     "metadata": {},
     "output_type": "execute_result"
    }
   ],
   "source": [
    "resultados=Float64[]"
   ]
  },
  {
   "cell_type": "code",
   "execution_count": 64,
   "metadata": {
    "collapsed": false
   },
   "outputs": [],
   "source": [
    "ceros!(c,func,resultados)"
   ]
  },
  {
   "cell_type": "code",
   "execution_count": 65,
   "metadata": {
    "collapsed": false
   },
   "outputs": [
    {
     "data": {
      "text/plain": [
       "0-element Array{Float64,1}"
      ]
     },
     "execution_count": 65,
     "metadata": {},
     "output_type": "execute_result"
    }
   ],
   "source": [
    "resultados"
   ]
  },
  {
   "cell_type": "markdown",
   "metadata": {},
   "source": [
    "Notamos que solo nos da (aproximadamente) el valor de $c_1=-3/4$,  con una sensibilidad de $2e-4$, lo cual se debe\n",
    "al refinamiento dado en el cálculo de los exponentes. Sin embargo, al tratar de refinar, el tiempo de cálculo comienza\n",
    "a crecer muy rápido, por lo que concluimos que el método puede ser optimizado para éstos fines. Sin embargo,\n",
    "al estudiar la [literarura](http://hypertextbook.com/chaos/lyapunov-1/), encontramos que nuestra deducción es correcta. "
   ]
  },
  {
   "cell_type": "markdown",
   "metadata": {},
   "source": [
    "Ahora veamos qué pasa cuando la condición inicial es un punto fijo superestable ($x_0=0.0$):"
   ]
  },
  {
   "cell_type": "markdown",
   "metadata": {},
   "source": [
    "Marquemos los puntos conocidos donde hay puntos superestables $c= -1,-1.3107$ en la siguiente gráfica."
   ]
  },
  {
   "cell_type": "code",
   "execution_count": 66,
   "metadata": {
    "collapsed": true
   },
   "outputs": [],
   "source": [
    "crange = -(0.75-1/2^16):-1/2^10:-1.405\n",
    "func,c= explyap(Qc,1.0,crange,10000);"
   ]
  },
  {
   "cell_type": "code",
   "execution_count": 67,
   "metadata": {
    "collapsed": false
   },
   "outputs": [
    {
     "data": {
      "image/png": "[encoded data removed]",
      "text/plain": [
       "PyPlot.Figure(PyObject <matplotlib.figure.Figure object at 0x7fc82bc73208>)"
      ]
     },
     "metadata": {},
     "output_type": "display_data"
    }
   ],
   "source": [
    "plot(c, func)\n",
    "plot([-1,  -1], [1, -5,])\n",
    "plot([-1.3107 ,  -1.3107 ], [1, -5,])\n",
    "xlabel(L\"c\")\n",
    "ylabel(L\"\\lambda(c)\")\n",
    "grid(true)\n",
    "title(L\"Exponentes de Lyapunov de $Q_c(x)= x^2 +c$\")\n",
    "ylim(-10,1.0)\n",
    "show()"
   ]
  },
  {
   "cell_type": "markdown",
   "metadata": {},
   "source": [
    "Observamos que en estos valores, los exponentes de Lyapunov divergen a $- \\infty$. Lo que, según la definición antes mencionada, son los puntos menos caóticos (o mas estables), del sistema. Ahora entendemos su nombre."
   ]
  },
  {
   "cell_type": "markdown",
   "metadata": {},
   "source": [
    "\n",
    "## Ejercicio 3:\n",
    "Comparar gráficamente los mapeos $Q_{c}(x)$ y $Q_{c^\\prime}^2(x)$ para $c=1/4, 0, -3/4, -1, -2, -2.2$ y $c^\\prime=-3/4,-1,-5/4,-1.3, -1.546\\dots, -1.65$."
   ]
  },
  {
   "cell_type": "code",
   "execution_count": 68,
   "metadata": {
    "collapsed": false
   },
   "outputs": [
    {
     "name": "stderr",
     "output_type": "stream",
     "text": [
      "WARNING: Method definition Qc_p1(Any, Any) in module Main at In[5]:1 overwritten at In[68]:1.\n",
      "WARNING: Method definition Qc_p1(Any, Any...) in module Main at In[5]:2 overwritten at In[68]:2.\n"
     ]
    },
    {
     "data": {
      "text/plain": [
       "Qc_p1 (generic function with 2 methods)"
      ]
     },
     "execution_count": 68,
     "metadata": {},
     "output_type": "execute_result"
    }
   ],
   "source": [
    "Qc_p1(x,c) = x^2 + c\n",
    "Qc_p1(x, args...) = !c(x, args[1])"
   ]
  },
  {
   "cell_type": "code",
   "execution_count": 69,
   "metadata": {
    "collapsed": false
   },
   "outputs": [
    {
     "name": "stderr",
     "output_type": "stream",
     "text": [
      "WARNING: Method definition Qc_n(Any, Any) in module Main at In[6]:3 overwritten at In[69]:2.\n"
     ]
    },
    {
     "data": {
      "text/plain": [
       "Qc_n (generic function with 1 method)"
      ]
     },
     "execution_count": 69,
     "metadata": {},
     "output_type": "execute_result"
    }
   ],
   "source": [
    "function Qc_n(x, args)\n",
    "    c, n = args[1], args[2]\n",
    "    @assert n >= 0 && isa(n,Int)\n",
    "    n <= 1 && return Qc_p1(x,c)\n",
    "    for it = 1:n\n",
    "        x = Qc_p1(x,c)\n",
    "    end\n",
    "    return x\n",
    "end"
   ]
  },
  {
   "cell_type": "markdown",
   "metadata": {
    "collapsed": false
   },
   "source": [
    "Después de generar éstos datos, intentamos graficar para los valores solicitados, sin embargo las paqueterías de \n",
    "Plots y PyPlots no logran cargarse bien en nuestros equipos, por lo que generamos las gráficas en otro y las\n",
    "ponemos aquí.  "
   ]
  },
  {
   "cell_type": "markdown",
   "metadata": {
    "collapsed": true
   },
   "source": [
    "Las correspondientes a $Q_c$ estan [aquí](Qc.png), mientras que las de $Q_c ^ {2}$ [acá](Qc2.png)."
   ]
  },
  {
   "cell_type": "markdown",
   "metadata": {},
   "source": [
    "Observamos que en el caso de  $Q_{c}$ todos los mapeos con puntos fijos (siempre son dos) tienen $c \\leq 0.25$,\n",
    "y que para $c < \\approx 2$ uno de los puntos fijos sale del intervalo [-2,2], así que podemos decir que toda la dinámica \n",
    "del sistema se encuentra en el intervalo [-\\approx 2, \\approx 2] (en el siguiente ejercicio será evidente).\n"
   ]
  },
  {
   "cell_type": "markdown",
   "metadata": {},
   "source": [
    "Finalmente, para los mapeos $Q_{c}^{2}$, el valor interesante es $c=-0.75$, ya que para valores mayores y menores \n",
    "se encuentran cuatro puntos fijos del mapeo, los cuales se quedan en el intervalo [-2,2] si son mayores que $-0.75$ y salen si son mayores que éste valor. Mientras que el mapeo con ese valor de $c$ sólo tiene dos puntos fijos que viven en el intervalo de interés. "
   ]
  },
  {
   "cell_type": "markdown",
   "metadata": {},
   "source": [
    "## Ejercicio 4"
   ]
  },
  {
   "cell_type": "markdown",
   "metadata": {},
   "source": [
    "Estudiar la dinámica para $c=-2.2$\n",
    "¿Cómo se caracteriza el valor al que tiende casi cualquier condición inicial en el intervalo $I=[-p_+,p_+]$ (donde $p_+$ es el valor positivo tal que $Q_c(p_+)=p_+$), después de muchos iterados? (El intervalo $I$ es donde \"toda la dinámica interesante ocurre\".)\n",
    "¿Qué condición se requiere, en términos de $I$ (y de los iterados de $Q_c(x)$, para que se cumpla el inciso anterior?\n",
    "Caracterizen al complemento del conjunto de los casos anteriores, es decir, cuando los iterados de la condición inicial no llegan a donde casi cualquier condición inicial termina. ¿Cómo se conoce a este conjunto?"
   ]
  },
  {
   "cell_type": "markdown",
   "metadata": {},
   "source": [
    "Calculemos los puntos fijos de ésta función. "
   ]
  },
  {
   "cell_type": "code",
   "execution_count": 71,
   "metadata": {
    "collapsed": true
   },
   "outputs": [],
   "source": [
    "using Roots"
   ]
  },
  {
   "cell_type": "code",
   "execution_count": 72,
   "metadata": {
    "collapsed": false
   },
   "outputs": [
    {
     "data": {
      "text/plain": [
       "resuelve_cuad (generic function with 1 method)"
      ]
     },
     "execution_count": 72,
     "metadata": {},
     "output_type": "execute_result"
    }
   ],
   "source": [
    "function quadratic{T<:Real}(a::T, b::T, c::T)\n",
    "    disc = b^2 - 4*a*c #Calculamos el valor del discriminante\n",
    "    @assert a != 0 \"Tu ecuación no es de segundo grado, revisa los argumentos.\", disc < 0 \n",
    "    \"La ecuación tiene soluciones complejas, no es posible resolver la ecuación.\"\n",
    "    resuelve_cuad(a,b,c, disc)\n",
    "end\n",
    "\n",
    "function resuelve_cuad(a, b, c, disc) #El algoritmo para encontrar las raíces\n",
    "    sq = sqrt(disc)\n",
    "    x1 = (-b+sq)/(2a)\n",
    "    x2 = (-b-sq)/(2a)\n",
    "    if x1 == x2\n",
    "        raices = Float64[x1]\n",
    "    else\n",
    "        raices = typeof(x1)[x1,x2]\n",
    "    end\n",
    "    return raices\n",
    "end"
   ]
  },
  {
   "cell_type": "code",
   "execution_count": 73,
   "metadata": {
    "collapsed": false
   },
   "outputs": [
    {
     "data": {
      "text/plain": [
       "2-element Array{Float64,1}:\n",
       "  2.06525\n",
       " -1.06525"
      ]
     },
     "execution_count": 73,
     "metadata": {},
     "output_type": "execute_result"
    }
   ],
   "source": [
    "pfQc2=quadratic(1.0,-1.0,-2.2)"
   ]
  },
  {
   "cell_type": "markdown",
   "metadata": {},
   "source": [
    "Entonces $p_+ = 2.06525$"
   ]
  },
  {
   "cell_type": "code",
   "execution_count": 74,
   "metadata": {
    "collapsed": false
   },
   "outputs": [
    {
     "data": {
      "text/plain": [
       "2.06525"
      ]
     },
     "execution_count": 74,
     "metadata": {},
     "output_type": "execute_result"
    }
   ],
   "source": [
    "pmas=2.06525"
   ]
  },
  {
   "cell_type": "markdown",
   "metadata": {
    "collapsed": true
   },
   "source": [
    "Hagamos un programa que calcule las iteraciones de una función $f$, en un rango $I$ de condiciones iniciales."
   ]
  },
  {
   "cell_type": "code",
   "execution_count": 75,
   "metadata": {
    "collapsed": false
   },
   "outputs": [
    {
     "data": {
      "text/plain": [
       "iterando (generic function with 2 methods)"
      ]
     },
     "execution_count": 75,
     "metadata": {},
     "output_type": "execute_result"
    }
   ],
   "source": [
    "function iterando(x0::FloatRange, f::Function,  n = 1000)\n",
    "    resultados = zeros(x0)\n",
    "    for i in eachindex(x0)\n",
    "        condini = x0[i]\n",
    "        for k in 1:n\n",
    "            condini = f(condini)\n",
    "        end\n",
    "        resultados[i] = condini\n",
    "    end\n",
    "    return resultados\n",
    "end\n",
    "\n"
   ]
  },
  {
   "cell_type": "code",
   "execution_count": 76,
   "metadata": {
    "collapsed": false
   },
   "outputs": [
    {
     "data": {
      "text/plain": [
       "Qc2 (generic function with 1 method)"
      ]
     },
     "execution_count": 76,
     "metadata": {},
     "output_type": "execute_result"
    }
   ],
   "source": [
    "Qc2(x) = Qc(x, -2.2)"
   ]
  },
  {
   "cell_type": "code",
   "execution_count": 77,
   "metadata": {
    "collapsed": false
   },
   "outputs": [
    {
     "data": {
      "text/plain": [
       "-2.06525:1.0e-6:2.06525"
      ]
     },
     "execution_count": 77,
     "metadata": {},
     "output_type": "execute_result"
    }
   ],
   "source": [
    "r=-pmas:1e-6:pmas"
   ]
  },
  {
   "cell_type": "code",
   "execution_count": 78,
   "metadata": {
    "collapsed": false
   },
   "outputs": [
    {
     "data": {
      "text/plain": [
       "4130501-element Array{Float64,1}:\n",
       " Inf\n",
       " Inf\n",
       " Inf\n",
       " Inf\n",
       " Inf\n",
       " Inf\n",
       " Inf\n",
       " Inf\n",
       " Inf\n",
       " Inf\n",
       " Inf\n",
       " Inf\n",
       " Inf\n",
       "   ⋮\n",
       " Inf\n",
       " Inf\n",
       " Inf\n",
       " Inf\n",
       " Inf\n",
       " Inf\n",
       " Inf\n",
       " Inf\n",
       " Inf\n",
       " Inf\n",
       " Inf\n",
       " Inf"
      ]
     },
     "execution_count": 78,
     "metadata": {},
     "output_type": "execute_result"
    }
   ],
   "source": [
    "iteraciones = iterando(r, Qc2)"
   ]
  },
  {
   "cell_type": "markdown",
   "metadata": {},
   "source": [
    "Es decir, todas las evaluaciones se salen del intervalo [-p_+,p_+] (salvo un conjunto de medida cero),\n",
    "veamos cuáles son éstos valores utilizando un programita de cursos anteriores que encuentra valores dentro de un intervalo finito dado por $xmin$ y $xmax$."
   ]
  },
  {
   "cell_type": "code",
   "execution_count": 79,
   "metadata": {
    "collapsed": false
   },
   "outputs": [
    {
     "data": {
      "text/plain": [
       "valout (generic function with 2 methods)"
      ]
     },
     "execution_count": 79,
     "metadata": {},
     "output_type": "execute_result"
    }
   ],
   "source": [
    "function valout(rango::FloatRange, f::Function, n = 10)\n",
    "    mr = typeof(zeros(2))[]\n",
    "    xmin, xmax = rango[1], rango[end]\n",
    "    for j in eachindex(rango)\n",
    "        x0 = rango[j]\n",
    "        for k in 1:n\n",
    "            x0 = f(x0)\n",
    "            if !(xmin <= x0 <= xmax)\n",
    "                push!(mr, Float64[rango[j], k])\n",
    "                break\n",
    "            end\n",
    "        end\n",
    "    end\n",
    "    return mr\n",
    "end"
   ]
  },
  {
   "cell_type": "code",
   "execution_count": 80,
   "metadata": {
    "collapsed": false
   },
   "outputs": [],
   "source": [
    "mrr = valout(r, Qc2);\n",
    "xs1 = Float64[x[1] for x in mrr]\n",
    "ys1 = Float64[x[2] for x in mrr];"
   ]
  },
  {
   "cell_type": "code",
   "execution_count": 81,
   "metadata": {
    "collapsed": false
   },
   "outputs": [],
   "source": [
    "#Pkg.add(\"PyPlot\")"
   ]
  },
  {
   "cell_type": "code",
   "execution_count": 82,
   "metadata": {
    "collapsed": false
   },
   "outputs": [],
   "source": [
    "#using PyPlot"
   ]
  },
  {
   "cell_type": "markdown",
   "metadata": {},
   "source": [
    "Coloreemos los valores que obtuvimos graficando el número de iteraciones contra los valores en el intervalo \n",
    "$[-p_+,p+]$ que se quedan en el mismo después de esa iteración. "
   ]
  },
  {
   "cell_type": "code",
   "execution_count": 83,
   "metadata": {
    "collapsed": false
   },
   "outputs": [
    {
     "data": {
      "image/png": "[encoded data removed]",
      "text/plain": [
       "PyPlot.Figure(PyObject <matplotlib.figure.Figure object at 0x7fc82bdf6cf8>)"
      ]
     },
     "metadata": {},
     "output_type": "display_data"
    }
   ],
   "source": [
    "p = scatter(xs1,ys1)\n",
    "xlabel(L\"x\")\n",
    "ylabel(L\"Iteración (n)\")\n",
    "ylim(0,12.0)\n",
    "show()"
   ]
  },
  {
   "cell_type": "markdown",
   "metadata": {},
   "source": [
    "¡Descubrimos que es el [conjunto](https://math.berkeley.edu/~sagrawal/su15_math104/lec8_cantor.pdf) de [Cantor!](https://www.youtube.com/watch?v=R6lSGzL4cuI),que es denso en ese intervalo, por lo tanto su complemento es de medida cero, y en este conjunto (el complemento de Cantor)las evaluaciones de $Q_c$ con $c=2.2$ se quedan contenidas en el mismo intervalo."
   ]
  },
  {
   "cell_type": "code",
   "execution_count": null,
   "metadata": {
    "collapsed": true
   },
   "outputs": [],
   "source": []
  }
 ],
 "metadata": {
  "kernelspec": {
   "display_name": "Julia 0.5.0",
   "language": "julia",
   "name": "julia-0.5"
  },
  "language_info": {
   "file_extension": ".jl",
   "mimetype": "application/julia",
   "name": "julia",
   "version": "0.5.0"
  }
 },
 "nbformat": 4,
 "nbformat_minor": 0
}
