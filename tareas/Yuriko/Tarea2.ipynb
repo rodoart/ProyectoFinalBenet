{
 "cells": [
  {
   "cell_type": "markdown",
   "metadata": {},
   "source": [
    "# Tarea 2"
   ]
  },
  {
   "cell_type": "markdown",
   "metadata": {},
   "source": [
    "Alejandra Yamamoto"
   ]
  },
  {
   "cell_type": "markdown",
   "metadata": {},
   "source": [
    "1) Consideren la función\n",
    "$$\n",
    "z_{n+1} = z_n^2 + c, \n",
    "$$\n",
    "\n",
    "con c = -0.123 + 0.745im. Definan una malla de valores iniciales $z_0$ en el intervalo $[-1,1]\\times [-1,1]$ (parte real $\\times$ parte imaginaria).\n",
    "\n",
    "- ¿Cuantos valores finitos distintos (en el intervalo $[-1,1]\\times [-1,1]$) se pueden obtener después de un gran número de iteraciones?\n",
    "\n",
    "- Usando un color distinto para cada uno, grafiquen en el plano $\\textrm{Re}(z) - \\textrm{Im}(z)$ el conjunto obtenido."
   ]
  },
  {
   "cell_type": "code",
   "execution_count": null,
   "metadata": {
    "collapsed": true
   },
   "outputs": [],
   "source": [
    "using Plots"
   ]
  },
  {
   "cell_type": "code",
   "execution_count": 2,
   "metadata": {
    "collapsed": true
   },
   "outputs": [],
   "source": [
    "using PyPlot"
   ]
  },
  {
   "cell_type": "code",
   "execution_count": 3,
   "metadata": {
    "collapsed": false
   },
   "outputs": [
    {
     "data": {
      "text/plain": [
       "-0.123 + 0.745im"
      ]
     },
     "execution_count": 3,
     "metadata": {},
     "output_type": "execute_result"
    }
   ],
   "source": [
    "c = -0.123 + 0.745im"
   ]
  },
  {
   "cell_type": "code",
   "execution_count": null,
   "metadata": {
    "collapsed": true
   },
   "outputs": [],
   "source": [
    "z(n) = z^2 + (c = -0.123 + 0.745im)"
   ]
  },
  {
   "cell_type": "code",
   "execution_count": null,
   "metadata": {
    "collapsed": false
   },
   "outputs": [],
   "source": [
    "typeof(-0.123 + 0.745im)"
   ]
  },
  {
   "cell_type": "code",
   "execution_count": 4,
   "metadata": {
    "collapsed": false
   },
   "outputs": [
    {
     "data": {
      "text/plain": [
       "malla (generic function with 1 method)"
      ]
     },
     "execution_count": 4,
     "metadata": {},
     "output_type": "execute_result"
    }
   ],
   "source": [
    "\"\"\"\n",
    "    malla(n::Int64)\n",
    "\n",
    "Esta función crea una malla. Un arreglo de nxn números complejos, cuyas partes real e imaginaria son números\n",
    "flotantes. Se le debe especificar n, el tamaño de la malla.\n",
    "\"\"\"\n",
    "\n",
    "function malla(n::Int64) \n",
    "    \n",
    "A = zeros(Complex128,n,n) \n",
    "real = collect(linspace(-1,1,n))\n",
    "imag = collect(linspace(-1,1,n))\n",
    "    \n",
    "    for i in 1:n\n",
    "        for j in 1:n\n",
    "            A[j, i] = real[i] - imag[j]*im\n",
    "        end\n",
    "    \n",
    "    end\n",
    "    \n",
    "return A\n",
    "\n",
    "end"
   ]
  },
  {
   "cell_type": "code",
   "execution_count": 5,
   "metadata": {
    "collapsed": false
   },
   "outputs": [
    {
     "data": {
      "text/plain": [
       "3x3 Array{Complex{Float64},2}:\n",
       " -1.0+1.0im  0.0+1.0im  1.0+1.0im\n",
       " -1.0-0.0im  0.0-0.0im  1.0-0.0im\n",
       " -1.0-1.0im  0.0-1.0im  1.0-1.0im"
      ]
     },
     "execution_count": 5,
     "metadata": {},
     "output_type": "execute_result"
    }
   ],
   "source": [
    "#Prueba de la función malla\n",
    "A = malla(3) "
   ]
  },
  {
   "cell_type": "code",
   "execution_count": 6,
   "metadata": {
    "collapsed": false
   },
   "outputs": [
    {
     "data": {
      "text/plain": [
       "iterar1 (generic function with 1 method)"
      ]
     },
     "execution_count": 6,
     "metadata": {},
     "output_type": "execute_result"
    }
   ],
   "source": [
    "\n",
    "function iterar1(m::Int64, n::Int64, i::Int64) #Función  que itera específicamente una sóla entrada de A\n",
    "    \n",
    "    v = zeros(Complex128, n)\n",
    "    \n",
    "    z0 = (-1.0 + 1.0im)^2 + (-0.123 + 0.745im)\n",
    "    \n",
    "    #for k in 1:n\n",
    "        for l in 2:m\n",
    "        z0 = z0^2 + (-0.123 + 0.745im)\n",
    "        \n",
    "        end\n",
    "        #push!(v,z0)\n",
    "        v[i] = z0 \n",
    "    #end\n",
    "    return v\n",
    "end\n",
    "    \n",
    "    "
   ]
  },
  {
   "cell_type": "code",
   "execution_count": 7,
   "metadata": {
    "collapsed": false
   },
   "outputs": [
    {
     "data": {
      "text/plain": [
       "iterarpr (generic function with 1 method)"
      ]
     },
     "execution_count": 7,
     "metadata": {},
     "output_type": "execute_result"
    }
   ],
   "source": [
    "\"\"\"\n",
    "   iterarpr(n::Int64, m::Int64)\n",
    "\n",
    "Esta función crea una malla A de nxn. Posteriormente itera m veces todas las entradas de la malla A.\n",
    "\"\"\"\n",
    "\n",
    "function iterarpr(n::Int64, m::Int64) \n",
    "    \n",
    "    A = zeros(Complex128, n, n) # Matriz A de nxn de ceros complejos\n",
    "    real = collect(linspace(-1, 1, n)) # Vector real de n entradas\n",
    "    imag = collect(linspace(-1, 1, n)) # Vector imag de n entradas\n",
    "    \n",
    "    for i in 1:n \n",
    "        for j in 1:n\n",
    "            A[j, i] = real[i] - imag[j]*im\n",
    "        end\n",
    "    \n",
    "    end\n",
    "    \n",
    "#return A\n",
    "\n",
    " \n",
    "    m_iter = zeros(Complex128, n, n) # Crea un arreglo m_iter de tamaño nxn de números complejos\n",
    "    contador = 0 # Se inicia un contador desde 0\n",
    "    \n",
    "    for l in 1:n*n \n",
    "        z0 = A[l] \n",
    "    \n",
    "        \n",
    "        for k in 1:m # Iteración m veces \n",
    "            z0 = z0^2 + (-0.123 + 0.745im)\n",
    "        end\n",
    "        \n",
    "        m_iter[l] = z0 # Guarda cada entrada ya iterada (m veces) en el arreglo m_iter\n",
    "        \n",
    "        !isnan(m_iter[l]) ? (contador = contador + 1) : contador = contador  # Checa si hay un NaN para \n",
    "        #cada entrada de la matriz iterada. Si no lo hay, el contador aumenta en 1, de lo contrario se queda igual.\n",
    "         \n",
    "    end\n",
    "    \n",
    "    val_finitos = Array(Complex128, contador) # Crea un arreglo val_finitos de tamaño 'contador' de números complejos\n",
    "    \n",
    "    q = 1 # Se inicia un contador q\n",
    "    \n",
    "    # Ciclo que cuenta los valores finitos de la matriz iterada y los guarda en val_finitos\n",
    "    for p in 1:n*n \n",
    "        \n",
    "        if !isnan(m_iter[p]) \n",
    "            val_finitos[q] = m_iter[p]\n",
    "            #q = q + 1\n",
    "            q =+ 1\n",
    "        end\n",
    "    end\n",
    "    \n",
    "   # imshow(imag(m_iter))\n",
    "    \n",
    "    return A, m_iter, contador, val_finitos\n",
    "    \n",
    "    \n",
    "end\n",
    "\n"
   ]
  },
  {
   "cell_type": "code",
   "execution_count": 8,
   "metadata": {
    "collapsed": false
   },
   "outputs": [
    {
     "data": {
      "text/plain": [
       "(\n",
       "500x500 Array{Complex{Float64},2}:\n",
       " -1.0+1.0im       …  0.995992+1.0im       1.0+1.0im     \n",
       " -1.0+0.995992im     0.995992+0.995992im  1.0+0.995992im\n",
       " -1.0+0.991984im     0.995992+0.991984im  1.0+0.991984im\n",
       " -1.0+0.987976im     0.995992+0.987976im  1.0+0.987976im\n",
       " -1.0+0.983968im     0.995992+0.983968im  1.0+0.983968im\n",
       " -1.0+0.97996im   …  0.995992+0.97996im   1.0+0.97996im \n",
       " -1.0+0.975952im     0.995992+0.975952im  1.0+0.975952im\n",
       " -1.0+0.971944im     0.995992+0.971944im  1.0+0.971944im\n",
       " -1.0+0.967936im     0.995992+0.967936im  1.0+0.967936im\n",
       " -1.0+0.963928im     0.995992+0.963928im  1.0+0.963928im\n",
       " -1.0+0.95992im   …  0.995992+0.95992im   1.0+0.95992im \n",
       " -1.0+0.955912im     0.995992+0.955912im  1.0+0.955912im\n",
       " -1.0+0.951904im     0.995992+0.951904im  1.0+0.951904im\n",
       "     ⋮            ⋱                                     \n",
       " -1.0-0.955912im     0.995992-0.955912im  1.0-0.955912im\n",
       " -1.0-0.95992im      0.995992-0.95992im   1.0-0.95992im \n",
       " -1.0-0.963928im  …  0.995992-0.963928im  1.0-0.963928im\n",
       " -1.0-0.967936im     0.995992-0.967936im  1.0-0.967936im\n",
       " -1.0-0.971944im     0.995992-0.971944im  1.0-0.971944im\n",
       " -1.0-0.975952im     0.995992-0.975952im  1.0-0.975952im\n",
       " -1.0-0.97996im      0.995992-0.97996im   1.0-0.97996im \n",
       " -1.0-0.983968im  …  0.995992-0.983968im  1.0-0.983968im\n",
       " -1.0-0.987976im     0.995992-0.987976im  1.0-0.987976im\n",
       " -1.0-0.991984im     0.995992-0.991984im  1.0-0.991984im\n",
       " -1.0-0.995992im     0.995992-0.995992im  1.0-0.995992im\n",
       " -1.0-1.0im          0.995992-1.0im       1.0-1.0im     ,\n",
       "\n",
       "500x500 Array{Complex{Float64},2}:\n",
       " NaN+NaN*im  NaN+NaN*im  NaN+NaN*im  …  NaN+NaN*im  NaN+NaN*im  NaN+NaN*im\n",
       " NaN+NaN*im  NaN+NaN*im  NaN+NaN*im     NaN+NaN*im  NaN+NaN*im  NaN+NaN*im\n",
       " NaN+NaN*im  NaN+NaN*im  NaN+NaN*im     NaN+NaN*im  NaN+NaN*im  NaN+NaN*im\n",
       " NaN+NaN*im  NaN+NaN*im  NaN+NaN*im     NaN+NaN*im  NaN+NaN*im  NaN+NaN*im\n",
       " NaN+NaN*im  NaN+NaN*im  NaN+NaN*im     NaN+NaN*im  NaN+NaN*im  NaN+NaN*im\n",
       " NaN+NaN*im  NaN+NaN*im  NaN+NaN*im  …  NaN+NaN*im  NaN+NaN*im  NaN+NaN*im\n",
       " NaN+NaN*im  NaN+NaN*im  NaN+NaN*im     NaN+NaN*im  NaN+NaN*im  NaN+NaN*im\n",
       " NaN+NaN*im  NaN+NaN*im  NaN+NaN*im     NaN+NaN*im  NaN+NaN*im  NaN+NaN*im\n",
       " NaN+NaN*im  NaN+NaN*im  NaN+NaN*im     NaN+NaN*im  NaN+NaN*im  NaN+NaN*im\n",
       " NaN+NaN*im  NaN+NaN*im  NaN+NaN*im     NaN+NaN*im  NaN+NaN*im  NaN+NaN*im\n",
       " NaN+NaN*im  NaN+NaN*im  NaN+NaN*im  …  NaN+NaN*im  NaN+NaN*im  NaN+NaN*im\n",
       " NaN+NaN*im  NaN+NaN*im  NaN+NaN*im     NaN+NaN*im  NaN+NaN*im  NaN+NaN*im\n",
       " NaN+NaN*im  NaN+NaN*im  NaN+NaN*im     NaN+NaN*im  NaN+NaN*im  NaN+NaN*im\n",
       "    ⋮                                ⋱                                    \n",
       " NaN+NaN*im  NaN+NaN*im  NaN+NaN*im     NaN+NaN*im  NaN+NaN*im  NaN+NaN*im\n",
       " NaN+NaN*im  NaN+NaN*im  NaN+NaN*im     NaN+NaN*im  NaN+NaN*im  NaN+NaN*im\n",
       " NaN+NaN*im  NaN+NaN*im  NaN+NaN*im  …  NaN+NaN*im  NaN+NaN*im  NaN+NaN*im\n",
       " NaN+NaN*im  NaN+NaN*im  NaN+NaN*im     NaN+NaN*im  NaN+NaN*im  NaN+NaN*im\n",
       " NaN+NaN*im  NaN+NaN*im  NaN+NaN*im     NaN+NaN*im  NaN+NaN*im  NaN+NaN*im\n",
       " NaN+NaN*im  NaN+NaN*im  NaN+NaN*im     NaN+NaN*im  NaN+NaN*im  NaN+NaN*im\n",
       " NaN+NaN*im  NaN+NaN*im  NaN+NaN*im     NaN+NaN*im  NaN+NaN*im  NaN+NaN*im\n",
       " NaN+NaN*im  NaN+NaN*im  NaN+NaN*im  …  NaN+NaN*im  NaN+NaN*im  NaN+NaN*im\n",
       " NaN+NaN*im  NaN+NaN*im  NaN+NaN*im     NaN+NaN*im  NaN+NaN*im  NaN+NaN*im\n",
       " NaN+NaN*im  NaN+NaN*im  NaN+NaN*im     NaN+NaN*im  NaN+NaN*im  NaN+NaN*im\n",
       " NaN+NaN*im  NaN+NaN*im  NaN+NaN*im     NaN+NaN*im  NaN+NaN*im  NaN+NaN*im\n",
       " NaN+NaN*im  NaN+NaN*im  NaN+NaN*im     NaN+NaN*im  NaN+NaN*im  NaN+NaN*im,\n",
       "\n",
       "76722,Complex{Float64}[-0.662897+0.561731im,2.24208e-314+6.49425e-314im,6.49426e-314+2.24198e-314im,6.49425e-314+6.49425e-314im,6.49426e-314+2.24198e-314im,2.24198e-314+6.49425e-314im,2.24198e-314+2.24198e-314im,6.49426e-314+2.24195e-314im,2.24198e-314+2.24195e-314im,2.24198e-314+2.24195e-314im  …  2.24937e-314+2.24916e-314im,2.24897e-314+2.24935e-314im,2.24935e-314+2.24932e-314im,2.24932e-314+2.24937e-314im,2.2489e-314+2.24897e-314im,2.24935e-314+2.24938e-314im,2.24932e-314+2.24932e-314im,2.24937e-314+2.2492e-314im,2.24932e-314+6.49438e-314im,2.24932e-314+2.24926e-314im])"
      ]
     },
     "execution_count": 8,
     "metadata": {},
     "output_type": "execute_result"
    }
   ],
   "source": [
    "a,b,c,d = iterarpr(500,1000)"
   ]
  },
  {
   "cell_type": "code",
   "execution_count": 9,
   "metadata": {
    "collapsed": false
   },
   "outputs": [
    {
     "data": {
      "image/png": "[encoded data removed]",
      "text/plain": [
       "PyPlot.Figure(PyObject <matplotlib.figure.Figure object at 0x31bd1c990>)"
      ]
     },
     "metadata": {},
     "output_type": "display_data"
    },
    {
     "data": {
      "text/plain": [
       "PyObject <matplotlib.image.AxesImage object at 0x31c7c7fd0>"
      ]
     },
     "execution_count": 9,
     "metadata": {},
     "output_type": "execute_result"
    }
   ],
   "source": [
    "# Gráfica de la malla iterada\n",
    "imshow(imag(b))"
   ]
  },
  {
   "cell_type": "code",
   "execution_count": 10,
   "metadata": {
    "collapsed": false
   },
   "outputs": [
    {
     "data": {
      "text/plain": [
       "-0.123 - 1.255im"
      ]
     },
     "execution_count": 10,
     "metadata": {},
     "output_type": "execute_result"
    }
   ],
   "source": [
    "#Prueba, de la primer entrada\n",
    "(-1.0+1.0im)^2 + (-0.123 + 0.745im)"
   ]
  },
  {
   "cell_type": "code",
   "execution_count": 11,
   "metadata": {
    "collapsed": false
   },
   "outputs": [
    {
     "data": {
      "text/plain": [
       "-1.6828959999999997 + 1.0537299999999998im"
      ]
     },
     "execution_count": 11,
     "metadata": {},
     "output_type": "execute_result"
    }
   ],
   "source": [
    "(-0.123 - 1.255im)^2 + (-0.123 + 0.745im)"
   ]
  },
  {
   "cell_type": "code",
   "execution_count": 12,
   "metadata": {
    "collapsed": false
   },
   "outputs": [
    {
     "data": {
      "text/plain": [
       "-0.123 + 2.745im"
      ]
     },
     "execution_count": 12,
     "metadata": {},
     "output_type": "execute_result"
    }
   ],
   "source": [
    "#Prueba de la segunda entrada\n",
    "(-1.0-1.0im)^2 + (-0.123 + 0.745im)"
   ]
  },
  {
   "cell_type": "code",
   "execution_count": 246,
   "metadata": {
    "collapsed": false
   },
   "outputs": [
    {
     "data": {
      "text/plain": [
       "-7.642896000000001 + 0.06972999999999996im"
      ]
     },
     "execution_count": 246,
     "metadata": {},
     "output_type": "execute_result"
    }
   ],
   "source": [
    "(-0.123 + 2.745im)^2 + (-0.123 + 0.745im)"
   ]
  },
  {
   "cell_type": "code",
   "execution_count": 278,
   "metadata": {
    "collapsed": false
   },
   "outputs": [
    {
     "data": {
      "text/plain": [
       "58.28599699391602 - 0.32087827615999964im"
      ]
     },
     "execution_count": 278,
     "metadata": {},
     "output_type": "execute_result"
    }
   ],
   "source": [
    "(-7.642896000000001 + 0.06972999999999996im)^2 + (-0.123 + 0.745im)"
   ]
  },
  {
   "cell_type": "code",
   "execution_count": 247,
   "metadata": {
    "collapsed": false
   },
   "outputs": [
    {
     "data": {
      "text/plain": [
       "-0.123 + 2.745im"
      ]
     },
     "execution_count": 247,
     "metadata": {},
     "output_type": "execute_result"
    }
   ],
   "source": [
    "#Prueba de la tercer entrada\n",
    "(1.0+1.0im)^2 + (-0.123 + 0.745im)"
   ]
  },
  {
   "cell_type": "code",
   "execution_count": 248,
   "metadata": {
    "collapsed": false
   },
   "outputs": [
    {
     "data": {
      "text/plain": [
       "-7.642896000000001 + 0.06972999999999996im"
      ]
     },
     "execution_count": 248,
     "metadata": {},
     "output_type": "execute_result"
    }
   ],
   "source": [
    "(-0.123 + 2.745im)^2 + (-0.123 + 0.745im)"
   ]
  },
  {
   "cell_type": "code",
   "execution_count": 249,
   "metadata": {
    "collapsed": false
   },
   "outputs": [
    {
     "data": {
      "text/plain": [
       "-0.123 - 1.255im"
      ]
     },
     "execution_count": 249,
     "metadata": {},
     "output_type": "execute_result"
    }
   ],
   "source": [
    "#Prueba de la cuarta entrada\n",
    "(1.0-1.0im)^2 + (-0.123 + 0.745im)"
   ]
  },
  {
   "cell_type": "code",
   "execution_count": 250,
   "metadata": {
    "collapsed": false
   },
   "outputs": [
    {
     "data": {
      "text/plain": [
       "-1.6828959999999997 + 1.0537299999999998im"
      ]
     },
     "execution_count": 250,
     "metadata": {},
     "output_type": "execute_result"
    }
   ],
   "source": [
    "(-0.123 - 1.255im)^2 + (-0.123 + 0.745im)"
   ]
  },
  {
   "cell_type": "markdown",
   "metadata": {},
   "source": [
    "2) Usando la función compute_roots vista en clase, o en alguna variación propuesta por ustedes, definan (en Julia) el mapeo\n",
    "$$\n",
    "x_{n+1} = B(x_{n}) = 2x_n \\mod 1.\n",
    "$$\n",
    "Obtengas los puntos fijos de este mapeo numéricamente. Los puntos fijos del mapeo son aquéllos que se mapean en si mismos, es decir, $x_{n} = B(x_{n})$. Este cálculo se puede hacer a mano, lo que debe usarse para comprobar que la implementación numérica funciona bien.\n",
    "Pensando en que la estabilidad de un punto fijo es el comportamiento que se observa de los iterados (a priori un número infinito) al considerar pequeñas desviaciones del punto fijo, ¿cuál es la estabilidad de los puntos fijos que se obtiene numéricamente, digamos, después de 100 iteraciones? ¿Pueden encontrar una explicación analítica de la observación numérica?"
   ]
  },
  {
   "cell_type": "code",
   "execution_count": 2,
   "metadata": {
    "collapsed": false
   },
   "outputs": [
    {
     "data": {
      "text/plain": [
       "compute_roots (generic function with 1 method)"
      ]
     },
     "execution_count": 2,
     "metadata": {},
     "output_type": "execute_result"
    }
   ],
   "source": [
    "function compute_roots()\n",
    "    initial_conditions = -1.0:0.125:1.0\n",
    "    roots = similar(initial_conditions)\n",
    "\n",
    "    for (j, x_0) in enumerate(initial_conditions)\n",
    "        x = x_0\n",
    "\n",
    "        # 100 iterations of Newton's method\n",
    "        for i in 1:100\n",
    "            x = x - f(x) / f´(x)\n",
    "            #x = x -  2x / 2\n",
    "        end\n",
    "\n",
    "        roots[j] = x\n",
    "    end\n",
    "    \n",
    "    roots\n",
    "end"
   ]
  },
  {
   "cell_type": "code",
   "execution_count": 70,
   "metadata": {
    "collapsed": false
   },
   "outputs": [
    {
     "data": {
      "text/plain": [
       "mapeo2 (generic function with 1 method)"
      ]
     },
     "execution_count": 70,
     "metadata": {},
     "output_type": "execute_result"
    }
   ],
   "source": [
    "\"\"\"\n",
    "    mapeo2(n::Int64)\n",
    "Esta función calcula el mapeo x_{n+1} = B(x_{n}) = 2x_n \\mod 1\n",
    "\"\"\"\n",
    "\n",
    "function mapeo2(n::Int64)\n",
    "    \n",
    "    initial_conditions = 0:0.0125:1 # Condiciones iniciales\n",
    "    p = length(initial_conditions) \n",
    "    iter = Array[] # Se crea un arreglo vacío iter\n",
    "    contador = 0\n",
    "    \n",
    "    for i in 1:n\n",
    "        initial_conditions = 2*(initial_conditions) # Mapeo usando las diferentes condiciones iniciales \n",
    "        initial_conditions = mod(initial_conditions, 1) # Se obtiene el módulo del mapeo anterior\n",
    "   \n",
    "    end\n",
    "    \n",
    "    \n",
    "    \n",
    "    \n",
    "        \n",
    "    push!(iter, initial_conditions) # Guarda el resultado del módulo del mapeo para cada condición inicial\n",
    "                                    # en el arreglo iter\n",
    "    \n",
    "    \n",
    "    return iter\n",
    "    return contador\n",
    "    \n",
    "    \n",
    "end"
   ]
  },
  {
   "cell_type": "markdown",
   "metadata": {},
   "source": [
    "Las raíces del mapeo x = 2x son: 0.0 y 0.5"
   ]
  },
  {
   "cell_type": "markdown",
   "metadata": {},
   "source": [
    "Para calcular los puntos fijos"
   ]
  },
  {
   "cell_type": "code",
   "execution_count": 7,
   "metadata": {
    "collapsed": false
   },
   "outputs": [
    {
     "data": {
      "text/plain": [
       "0"
      ]
     },
     "execution_count": 7,
     "metadata": {},
     "output_type": "execute_result"
    }
   ],
   "source": [
    "for x = 0\n",
    "    x = 2*x\n",
    "    x = mod(x, 1) # Se obtiene el módulo del mapeo anterior\n",
    "end\n",
    "return x"
   ]
  },
  {
   "cell_type": "code",
   "execution_count": 8,
   "metadata": {
    "collapsed": false
   },
   "outputs": [
    {
     "data": {
      "text/plain": [
       "0.0"
      ]
     },
     "execution_count": 8,
     "metadata": {},
     "output_type": "execute_result"
    }
   ],
   "source": [
    "for x = 0.5\n",
    "    x = 2*x\n",
    "    x = mod(x, 1) # Se obtiene el módulo del mapeo anterior\n",
    "end\n",
    "return x"
   ]
  },
  {
   "cell_type": "markdown",
   "metadata": {},
   "source": [
    "Por lo tanto, el único punto fijo es el cero, pues es el único que se mapea sobre sí mismo."
   ]
  },
  {
   "cell_type": "code",
   "execution_count": 106,
   "metadata": {
    "collapsed": false
   },
   "outputs": [
    {
     "data": {
      "text/plain": [
       "1-element Array{Array{T,N},1}:\n",
       " [0.0,0.800781,0.601563,0.398438,0.203125,0.0,0.796875,0.59375,0.40625,0.203125  …  0.75,0.625,0.375,0.25,0.0,0.75,0.625,0.375,0.25,0.0]"
      ]
     },
     "execution_count": 106,
     "metadata": {},
     "output_type": "execute_result"
    }
   ],
   "source": [
    "# Mapeo para las condiciones iniciales con 50 iteraciones cada una.\n",
    "a = mapeo2(50)"
   ]
  },
  {
   "cell_type": "code",
   "execution_count": 107,
   "metadata": {
    "collapsed": false
   },
   "outputs": [
    {
     "data": {
      "text/plain": [
       "32.00390625"
      ]
     },
     "execution_count": 107,
     "metadata": {},
     "output_type": "execute_result"
    }
   ],
   "source": [
    "\n",
    "sum(a[1,])"
   ]
  },
  {
   "cell_type": "code",
   "execution_count": 96,
   "metadata": {
    "collapsed": false
   },
   "outputs": [
    {
     "data": {
      "text/plain": [
       "1-element Array{Array{T,N},1}:\n",
       " [0.0,0.625,0.25,0.75,0.5,0.0,0.5,0.0,0.0,0.5  …  0.0,0.0,0.0,0.0,0.0,0.0,0.0,0.0,0.0,0.0]"
      ]
     },
     "execution_count": 96,
     "metadata": {},
     "output_type": "execute_result"
    }
   ],
   "source": [
    "# Mapeo para las condiciones iniciales con 55 iteraciones cada una.\n",
    "c = mapeo2(55)"
   ]
  },
  {
   "cell_type": "code",
   "execution_count": 97,
   "metadata": {
    "collapsed": false
   },
   "outputs": [
    {
     "data": {
      "text/plain": [
       "3.125"
      ]
     },
     "execution_count": 97,
     "metadata": {},
     "output_type": "execute_result"
    }
   ],
   "source": [
    "sum(c[1,])"
   ]
  },
  {
   "cell_type": "code",
   "execution_count": 98,
   "metadata": {
    "collapsed": false
   },
   "outputs": [
    {
     "data": {
      "text/plain": [
       "1-element Array{Array{T,N},1}:\n",
       " [0.0,0.5,0.0,0.0,0.0,0.0,0.0,0.0,0.0,0.0  …  0.0,0.0,0.0,0.0,0.0,0.0,0.0,0.0,0.0,0.0]"
      ]
     },
     "execution_count": 98,
     "metadata": {},
     "output_type": "execute_result"
    }
   ],
   "source": [
    "# Mapeo para las condiciones iniciales con 57 iteraciones cada una.\n",
    "d = mapeo2(57)"
   ]
  },
  {
   "cell_type": "code",
   "execution_count": 99,
   "metadata": {
    "collapsed": false
   },
   "outputs": [
    {
     "data": {
      "text/plain": [
       "0.5"
      ]
     },
     "execution_count": 99,
     "metadata": {},
     "output_type": "execute_result"
    }
   ],
   "source": [
    "sum(d[1,])"
   ]
  },
  {
   "cell_type": "code",
   "execution_count": 100,
   "metadata": {
    "collapsed": false
   },
   "outputs": [
    {
     "data": {
      "text/plain": [
       "1-element Array{Array{T,N},1}:\n",
       " [0.0,0.0,0.0,0.0,0.0,0.0,0.0,0.0,0.0,0.0  …  0.0,0.0,0.0,0.0,0.0,0.0,0.0,0.0,0.0,0.0]"
      ]
     },
     "execution_count": 100,
     "metadata": {},
     "output_type": "execute_result"
    }
   ],
   "source": [
    "# Mapeo para las condiciones iniciales con 58 iteraciones cada una.\n",
    "e = mapeo2(58)"
   ]
  },
  {
   "cell_type": "markdown",
   "metadata": {
    "collapsed": true
   },
   "source": [
    "Todas las condiciones iniciales se hacen cero después de 58 iteraciones"
   ]
  },
  {
   "cell_type": "code",
   "execution_count": 101,
   "metadata": {
    "collapsed": false
   },
   "outputs": [
    {
     "data": {
      "text/plain": [
       "0.0"
      ]
     },
     "execution_count": 101,
     "metadata": {},
     "output_type": "execute_result"
    }
   ],
   "source": [
    "# Todas las iteraciones del mapeo son cero \n",
    "sum(e[1,])"
   ]
  },
  {
   "cell_type": "code",
   "execution_count": 104,
   "metadata": {
    "collapsed": false
   },
   "outputs": [
    {
     "data": {
      "text/plain": [
       "1-element Array{Array{T,N},1}:\n",
       " [0.0,0.0,0.0,0.0,0.0,0.0,0.0,0.0,0.0,0.0  …  0.0,0.0,0.0,0.0,0.0,0.0,0.0,0.0,0.0,0.0]"
      ]
     },
     "execution_count": 104,
     "metadata": {},
     "output_type": "execute_result"
    }
   ],
   "source": [
    "# Mapeo para las condiciones iniciales con 60 iteraciones cada una.\n",
    "f = mapeo2(60)"
   ]
  },
  {
   "cell_type": "code",
   "execution_count": 105,
   "metadata": {
    "collapsed": false
   },
   "outputs": [
    {
     "data": {
      "text/plain": [
       "0.0"
      ]
     },
     "execution_count": 105,
     "metadata": {},
     "output_type": "execute_result"
    }
   ],
   "source": [
    "sum(f[1,])"
   ]
  }
 ],
 "metadata": {
  "kernelspec": {
   "display_name": "Julia 0.4.3",
   "language": "julia",
   "name": "julia-0.4"
  },
  "language_info": {
   "file_extension": ".jl",
   "mimetype": "application/julia",
   "name": "julia",
   "version": "0.4.3"
  }
 },
 "nbformat": 4,
 "nbformat_minor": 0
}
