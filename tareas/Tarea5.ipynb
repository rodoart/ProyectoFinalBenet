{
 "cells": [
  {
   "cell_type": "markdown",
   "metadata": {},
   "source": [
    "# Tarea5"
   ]
  },
  {
   "cell_type": "markdown",
   "metadata": {},
   "source": [
    "**Envío del PR inicial:** lunes 17 de octubre\n",
    "\n",
    "**Aceptación del PR:** lunes 31 de octubre"
   ]
  },
  {
   "cell_type": "markdown",
   "metadata": {},
   "source": [
    "**Ejercicio 1:**\n",
    "\n",
    "Obtengan, para la familia de mapeos cuadrática $Q_c(x)$, el exponente de Lyapunov en términos de $c$.\n",
    "\n",
    "- ¿Qué particularidad ocurre (en términos del exponente de Lyapunov) para los valores\n",
    "de $c$ donde hay bifurcaciones?\n",
    "\n",
    "- ¿Qué particularidad ocurre (en términos del exponente de Lyapunov) cuando tenemos *ciclos superestables*, es decir, cuando $x=0$ es parte de un ciclo periódico?"
   ]
  },
  {
   "cell_type": "code",
   "execution_count": null,
   "metadata": {
    "collapsed": true
   },
   "outputs": [],
   "source": []
  },
  {
   "cell_type": "markdown",
   "metadata": {},
   "source": [
    "**Ejercicio 2:**\n",
    "\n",
    "Rehacer los cálculos de los exponentes de Feigenbaum,\n",
    "\\begin{eqnarray*}\n",
    "f_n &=& \\frac{C_n-C_{n+1}}{C_{n+1}-C_{n+2}},\\\\\n",
    "a_n &=& \\frac{d_n}{d_{n+1}},\n",
    "\\end{eqnarray*}\n",
    "\n",
    "usando los valores $C_n$ donde se tienen ciclos superestables de periodo $2^n$. (Este ejercicio es muy parecido a los ejercicios 1 y 3 de la `Tarea4`.)"
   ]
  },
  {
   "cell_type": "code",
   "execution_count": null,
   "metadata": {
    "collapsed": true
   },
   "outputs": [],
   "source": []
  },
  {
   "cell_type": "markdown",
   "metadata": {},
   "source": [
    "**Ejercicio 3:**\n",
    "\n",
    "Comparar gráficamente los mapeos $Q_{c}(x)$ y $Q_{c^\\prime}^2(x)$ para $c=1/4, 0, -3/4, -1, -2, -2.2$ y $c^\\prime=-3/4,-1,-5/4,-1.3, -1.546\\dots, -1.65$. \n"
   ]
  },
  {
   "cell_type": "code",
   "execution_count": null,
   "metadata": {
    "collapsed": true
   },
   "outputs": [],
   "source": []
  },
  {
   "cell_type": "markdown",
   "metadata": {},
   "source": [
    "**Ejercicio 4:**\n",
    "\n",
    "Estudiar la dinámica para $c=-2.2$\n",
    "\n",
    "- ¿Cómo se caracteriza el valor al que tiende *casi* cualquier condición inicial en el\n",
    "intervalo $I=[-p_+,p_+]$ (donde $p_+$ es el valor positivo tal que $Q_c(p_+)=p_+$), después de muchos iterados? (El intervalo $I$ es donde \"toda la dinámica interesante ocurre\".)\n",
    "\n",
    "- Caractericen los subconjuntos de $I$ tales que, después de $n=1,2,3,\\dots$ iterados de $Q_c(x)$, su intersección con $I$ es vacía.\n",
    "\n",
    "- Caracterizen al complemento del conjunto de los casos anteriores, es decir, cuando los iterados de la condición inicial **no** llegan a donde *casi* cualquier condición inicial termina. ¿Cómo se conoce a este conjunto?"
   ]
  },
  {
   "cell_type": "code",
   "execution_count": null,
   "metadata": {
    "collapsed": true
   },
   "outputs": [],
   "source": []
  },
  {
   "cell_type": "markdown",
   "metadata": {},
   "source": [
    "**Ejercicio 5:**\n",
    "\n",
    "- Usando el análisis gráfico para un valor de $c$ *ligeramente* anterior al punto donde se observa la ventana de periodo 3 para la familia $Q_c(x)$, y uno en la ventana de periodo 3, concluyan el tipo de bifurcación que se observa.\n",
    "\n",
    "- Comparen la dinámica para ambos valores de $c$ del inciso anterior. ¿Cómo es el exponente de Liapunov en cada caso?\n",
    "\n",
    "- Encuentren el valor de $c$ donde se da el ciclo superestable de periodo 3. (Nuevamente, ayuden al método de Newton con una buena semilla inicial para $c$.) Demuestren que para este valor de $c$ el mapeo $Q_c^3(x)$ tiene *ocho* puntos fijos, donde dos de ellos son puntos fijos de $Q_c(x)$, y los otros 6 forman dos secuencias periódicas, de periodo 3 en $Q_c(x)$, una de ellas estable y la otra inestable.\n",
    "\n",
    "(Los siguientes incisos usan el valor de $c$ encontrado en el inciso anterior.)\n",
    "\n",
    "- Denotando al ciclo inestable de periodo 3 como $\\alpha\\mapsto \\beta\\mapsto\\gamma$, con $\\gamma<\\beta<\\alpha$, uno puede asociar a cada uno de estos valores un valor $\\hat\\alpha, \\hat\\beta, \\hat\\gamma$, tales que $Q_c^3(\\hat\\alpha)=\\alpha$, $Q_c^3(\\hat\\beta)=\\beta$, $Q_c^3(\\hat\\gamma)=\\gamma$. ¿Qué podemos concluir de un punto que cae en cualquiera de los intervalos $[\\alpha,\\hat\\alpha]$, $[\\beta,\\hat\\beta]$ y $[\\hat\\gamma,\\gamma]$, en términos de los iterados sucesivos?\n",
    "\n",
    "- Definiendo los intervalos $I_0=[\\hat\\beta, \\alpha]$, $I_1=[\\gamma,\\beta]$, mostrar que bajo la acción de $Q_c(x)$ se cumple: (i) $Q_c(I_0) \\supset I_1$, y (ii) $Q_c(I_1) \\supset I_0\\cup I_1$. ¿Qué propiedad *importante* de $Q_c(x)$ se utiliza aquí?\n",
    "\n",
    "(Los intervalos $I_0$ e $I_1$, y estas propiedades, son básicos en la demostración del teorema \"periodo tres implica caos\".)"
   ]
  },
  {
   "cell_type": "code",
   "execution_count": null,
   "metadata": {
    "collapsed": true
   },
   "outputs": [],
   "source": []
  }
 ],
 "metadata": {
  "kernelspec": {
   "display_name": "Julia 0.4.8-pre",
   "language": "julia",
   "name": "julia-0.4"
  },
  "language_info": {
   "file_extension": ".jl",
   "mimetype": "application/julia",
   "name": "julia",
   "version": "0.4.8"
  }
 },
 "nbformat": 4,
 "nbformat_minor": 1
}
