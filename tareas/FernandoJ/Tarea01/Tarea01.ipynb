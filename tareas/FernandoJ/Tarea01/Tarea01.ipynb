{
 "cells": [
  {
   "cell_type": "markdown",
   "metadata": {},
   "source": [
    "# TAREA 01"
   ]
  },
  {
   "cell_type": "markdown",
   "metadata": {},
   "source": [
    "Fernando Jefte Aguila Castro"
   ]
  },
  {
   "cell_type": "markdown",
   "metadata": {},
   "source": [
    "Nota: esta tarea la hice solo, hubo cambios en el equipo, por el momento no tengo equipo. También intenté poner las imágenes en el notebook pero no pude :(. Las adjunto en la carpeta."
   ]
  },
  {
   "cell_type": "markdown",
   "metadata": {},
   "source": [
    "# Introduction sequence"
   ]
  },
  {
   "cell_type": "markdown",
   "metadata": {},
   "source": [
    "# 3"
   ]
  },
  {
   "cell_type": "markdown",
   "metadata": {},
   "source": [
    "->git checkout -b bugfix\n",
    "\n",
    "->git commit\n",
    "\n",
    "->git checkout master\n",
    "\n",
    "->git commit\n",
    "\n",
    "->git merge bugfix\n",
    "\n",
    "Ver imagen \"intro_sequence_03.tiff\""
   ]
  },
  {
   "cell_type": "markdown",
   "metadata": {},
   "source": [
    "# 4"
   ]
  },
  {
   "cell_type": "markdown",
   "metadata": {},
   "source": [
    "->git checkout -b bugfix\n",
    "\n",
    "->git commit\n",
    "\n",
    "->git checkout master\n",
    "\n",
    "->git commit\n",
    "\n",
    "->git checkout bugfix\n",
    "\n",
    "->git rebase master\n",
    "\n",
    "ver imagen (\"intro_sequence_04.tiff\")"
   ]
  },
  {
   "cell_type": "markdown",
   "metadata": {},
   "source": [
    "# Ramping up"
   ]
  },
  {
   "cell_type": "markdown",
   "metadata": {},
   "source": [
    "# 3"
   ]
  },
  {
   "cell_type": "markdown",
   "metadata": {},
   "source": [
    "->git checkout HEAD^\n",
    "\n",
    "->git branch -f master C6\n",
    "\n",
    "->git branch -f bugkix C0\n",
    "\n",
    "Ver imagen (\"rampingup_03.tiff\")"
   ]
  },
  {
   "cell_type": "markdown",
   "metadata": {},
   "source": [
    "# 4"
   ]
  },
  {
   "cell_type": "markdown",
   "metadata": {},
   "source": [
    "->git reset HEAD~1\n",
    "\n",
    "->git reset HEAD~1\n",
    "\n",
    "->git checkout pushed\n",
    "\n",
    "->git revert HEAD\n",
    "\n",
    "Ver imagen (\"rampingup_04.tiff\")"
   ]
  },
  {
   "cell_type": "markdown",
   "metadata": {},
   "source": [
    "# Moving work around"
   ]
  },
  {
   "cell_type": "markdown",
   "metadata": {},
   "source": [
    "# 1"
   ]
  },
  {
   "cell_type": "markdown",
   "metadata": {},
   "source": [
    "->git cherry-pick C3 C4 C7\n",
    "\n",
    "Ver imagen (\"moving_01.tiff\")"
   ]
  },
  {
   "cell_type": "markdown",
   "metadata": {},
   "source": [
    "# 2"
   ]
  },
  {
   "cell_type": "markdown",
   "metadata": {},
   "source": [
    "->git rebase -i HEAD~4\n",
    "\n",
    "Ver imagen (\"moving_02.tiff\")"
   ]
  },
  {
   "cell_type": "markdown",
   "metadata": {},
   "source": [
    "# A mixed bag"
   ]
  },
  {
   "cell_type": "markdown",
   "metadata": {},
   "source": [
    "# 1"
   ]
  },
  {
   "cell_type": "markdown",
   "metadata": {},
   "source": [
    "->git checkout master\n",
    "\n",
    "->git cherry-pick C4\n",
    "\n",
    "ver imagen (\"mixed_01.tiff\")"
   ]
  },
  {
   "cell_type": "markdown",
   "metadata": {},
   "source": [
    "# 3"
   ]
  },
  {
   "cell_type": "markdown",
   "metadata": {},
   "source": [
    "->git checkout master\n",
    "\n",
    "->git checkout newImage\n",
    "\n",
    "->git commit --amend\n",
    "\n",
    "->git checkout master\n",
    "\n",
    "->git cherry-pick C2 C3\n",
    "\n",
    "ver imagen (\"mixed_03.tiff\")"
   ]
  },
  {
   "cell_type": "markdown",
   "metadata": {},
   "source": [
    "# 4"
   ]
  },
  {
   "cell_type": "markdown",
   "metadata": {},
   "source": [
    "->git tag v0 C1\n",
    "\n",
    "->git tag v1 C2\n",
    "\n",
    "->git checkout C2\n",
    "\n",
    "ver imagen (\"mixed_04.tiff\")"
   ]
  },
  {
   "cell_type": "markdown",
   "metadata": {},
   "source": [
    "# Advanced topics"
   ]
  },
  {
   "cell_type": "markdown",
   "metadata": {},
   "source": [
    "# 2"
   ]
  },
  {
   "cell_type": "markdown",
   "metadata": {},
   "source": [
    "->git checkout -b bugwork\n",
    "\n",
    "->git branch -f bugwork HEAD^^2^\n",
    "\n",
    "->git checkout master\n",
    "\n",
    "ver imagen (\"advanced_02.tiff\")"
   ]
  },
  {
   "cell_type": "markdown",
   "metadata": {},
   "source": [
    "# 3"
   ]
  },
  {
   "cell_type": "markdown",
   "metadata": {},
   "source": [
    "->git checkout three\n",
    "\n",
    "->git branch -f three C2\n",
    "\n",
    "->git checkout one\n",
    "\n",
    "->git cherry-pick C4 C3 C2\n",
    "\n",
    "->git checkout two\n",
    "\n",
    "->git cherry-pick C5 C4' C3' C2'\n",
    "\n",
    "ver imagen (\"advanced_03.tiff\")"
   ]
  },
  {
   "cell_type": "code",
   "execution_count": null,
   "metadata": {
    "collapsed": true
   },
   "outputs": [],
   "source": []
  }
 ],
 "metadata": {
  "kernelspec": {
   "display_name": "Julia 0.4.5",
   "language": "julia",
   "name": "julia-0.4"
  },
  "language_info": {
   "file_extension": ".jl",
   "mimetype": "application/julia",
   "name": "julia",
   "version": "0.4.5"
  }
 },
 "nbformat": 4,
 "nbformat_minor": 1
}
